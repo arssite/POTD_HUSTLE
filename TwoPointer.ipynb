{
  "nbformat": 4,
  "nbformat_minor": 0,
  "metadata": {
    "colab": {
      "provenance": [],
      "collapsed_sections": [
        "P1jqckTvIkTu",
        "YrJHm3VbP9wi",
        "9MOeNtg9ZTsZ",
        "zWPwpDsre6RL"
      ],
      "authorship_tag": "ABX9TyM5mRySea8NC+nyjJAsZ6sW",
      "include_colab_link": true
    },
    "kernelspec": {
      "name": "python3",
      "display_name": "Python 3"
    },
    "language_info": {
      "name": "python"
    }
  },
  "cells": [
    {
      "cell_type": "markdown",
      "metadata": {
        "id": "view-in-github",
        "colab_type": "text"
      },
      "source": [
        "<a href=\"https://colab.research.google.com/github/arssite/POTD_HUSTLE/blob/main/TwoPointer.ipynb\" target=\"_parent\"><img src=\"https://colab.research.google.com/assets/colab-badge.svg\" alt=\"Open In Colab\"/></a>"
      ]
    },
    {
      "cell_type": "markdown",
      "source": [
        "# Two sum\n",
        "\n",
        "https://leetcode.com/problems/two-sum-ii-input-array-is-sorted/description/"
      ],
      "metadata": {
        "id": "P1jqckTvIkTu"
      }
    },
    {
      "cell_type": "code",
      "execution_count": null,
      "metadata": {
        "id": "WIbzE7weIQmR"
      },
      "outputs": [],
      "source": [
        "class Solution:\n",
        "    def twoSum(self, numbers: List[int], target: int) -> List[int]:\n",
        "        j=len(numbers)-1\n",
        "        i=0\n",
        "        while i<j:\n",
        "            sm=numbers[i]+numbers[j]\n",
        "            if sm==target:\n",
        "                return [i+1,j+1]\n",
        "            elif sm<target:\n",
        "                    i=i+1\n",
        "            else:\n",
        "                    j=j-1\n",
        "        return [-1,-1]"
      ]
    },
    {
      "cell_type": "markdown",
      "source": [
        "# Container With most Water\n",
        "\n",
        "https://leetcode.com/problems/container-with-most-water/description/"
      ],
      "metadata": {
        "id": "YrJHm3VbP9wi"
      }
    },
    {
      "cell_type": "code",
      "source": [
        "class Solution:\n",
        "    def maxArea(self, height: List[int]) -> int:\n",
        "        j=len(height)-1\n",
        "        i=0\n",
        "        mx=0\n",
        "        while i<j:\n",
        "            left=height[i]\n",
        "            rgt=height[j]\n",
        "            mx=max(mx,(j-i)*min(left,rgt))\n",
        "            if left<rgt:\n",
        "                i=i+1\n",
        "            else:\n",
        "                j=j-1\n",
        "\n",
        "        return mx\n",
        "\n"
      ],
      "metadata": {
        "id": "hhS_lJolP8_C"
      },
      "execution_count": null,
      "outputs": []
    },
    {
      "cell_type": "markdown",
      "source": [
        "# Square of Sorted Array\n",
        "https://leetcode.com/problems/squares-of-a-sorted-array/submissions/1339211501/"
      ],
      "metadata": {
        "id": "9MOeNtg9ZTsZ"
      }
    },
    {
      "cell_type": "code",
      "source": [
        "class Solution:\n",
        "    def sortedSquares(self, nums: List[int]) -> List[int]:\n",
        "        j=len(nums)-1\n",
        "        i=0\n",
        "        lst=[0]*len(nums)\n",
        "        for k in range(len(nums)-1,-1,-1):\n",
        "            if abs(nums[i])>abs(nums[j]):\n",
        "                lst[k]=nums[i]**2\n",
        "                i=i+1\n",
        "            else:\n",
        "                lst[k]=nums[j]**2\n",
        "                j=j-1\n",
        "        return lst\n",
        "\n"
      ],
      "metadata": {
        "id": "ljF7ML9qZPuS"
      },
      "execution_count": null,
      "outputs": []
    },
    {
      "cell_type": "markdown",
      "source": [
        "# Moves Zeroes\n",
        "https://leetcode.com/problems/move-zeroes/"
      ],
      "metadata": {
        "id": "zWPwpDsre6RL"
      }
    },
    {
      "cell_type": "code",
      "source": [
        "class Solution:\n",
        "    def moveZeroes(self, nums: List[int]) -> None:\n",
        "        \"\"\"\n",
        "        Do not return anything, modify nums in-place instead.\n",
        "        \"\"\"\n",
        "        l=0\n",
        "        for i in range(len(nums)):\n",
        "            if nums[i]!=0:\n",
        "                nums[i],nums[l]=nums[l],nums[i]\n",
        "                l+=1\n",
        "        return nums\n"
      ],
      "metadata": {
        "id": "olXSBSsMe9tr"
      },
      "execution_count": null,
      "outputs": []
    },
    {
      "cell_type": "markdown",
      "source": [
        "# Valid palindrome\n",
        "https://leetcode.com/problems/valid-palindrome/submissions/1339345751/"
      ],
      "metadata": {
        "id": "irY8V2Rk_M6q"
      }
    },
    {
      "cell_type": "code",
      "source": [
        "class Solution:\n",
        "    def isPalindrome(self, s: str) -> bool:\n",
        "      l=0\n",
        "      r=len(s)-1\n",
        "      while l<r:\n",
        "        while l<r and (s[l].isalnum() == False):\n",
        "            l+=1\n",
        "        while r>l and (s[r].isalnum() == False):\n",
        "            r-=1\n",
        "        if l>r or s[l].lower() != s[r].lower():\n",
        "            return False\n",
        "        else:\n",
        "            l+=1\n",
        "            r-=1\n",
        "      return True"
      ],
      "metadata": {
        "id": "HOswCRIy_RqB"
      },
      "execution_count": null,
      "outputs": []
    },
    {
      "cell_type": "code",
      "source": [
        "class Solution:\n",
        "    def isPalindrome(self, s: str) -> bool:\n",
        "        s1=\"\".join(c.lower() for c in s if c.isalnum())\n",
        "        return s1==s1[::-1]"
      ],
      "metadata": {
        "id": "5F4NKlqC_pHW"
      },
      "execution_count": null,
      "outputs": []
    }
  ]
}