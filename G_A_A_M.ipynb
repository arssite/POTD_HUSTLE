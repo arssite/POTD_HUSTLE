{
  "nbformat": 4,
  "nbformat_minor": 0,
  "metadata": {
    "colab": {
      "provenance": [],
      "authorship_tag": "ABX9TyPhhyQ4jqdCOsKgnwzzu+rt",
      "include_colab_link": true
    },
    "kernelspec": {
      "name": "python3",
      "display_name": "Python 3"
    },
    "language_info": {
      "name": "python"
    }
  },
  "cells": [
    {
      "cell_type": "markdown",
      "metadata": {
        "id": "view-in-github",
        "colab_type": "text"
      },
      "source": [
        "<a href=\"https://colab.research.google.com/github/arssite/POTD_HUSTLE/blob/main/G_A_A_M.ipynb\" target=\"_parent\"><img src=\"https://colab.research.google.com/assets/colab-badge.svg\" alt=\"Open In Colab\"/></a>"
      ]
    },
    {
      "cell_type": "markdown",
      "source": [
        "# ARRAY DUPLICATE\n",
        "Given an array arr of size n which contains elements in range from 0 to n-1, you need to find all the elements occurring more than once in the given array. Return the answer in ascending order. If no such element is found, return list containing [-1].\n",
        "\n",
        "Examples:\n",
        "\n",
        "Input: n = 4, arr[] = [0,3,1,2]\n",
        "\n",
        "Output: -1\n",
        "\n",
        "Explanation: There is no repeating element in the array. Therefore output is -1.\n",
        "\n",
        "----------------------------\n",
        "\n",
        "Input: n = 5, arr[] = [2,3,1,2,3]\n",
        "\n",
        "Output: 2 3\n",
        "\n",
        "Explanation: 2 and 3 occur more than once in the given array.\n",
        "Expected Time Complexity: O(n).\n",
        "Expected Auxiliary Space: O(n)."
      ],
      "metadata": {
        "id": "B3Itr6djdtOh"
      }
    },
    {
      "cell_type": "code",
      "execution_count": null,
      "metadata": {
        "id": "VNibGvA6biEa"
      },
      "outputs": [],
      "source": [
        "def solve(n,arr):\n",
        "  dic={}\n",
        "  for i in arr:\n",
        "    if i in dic:\n",
        "      dic[i]+=1\n",
        "    else:\n",
        "      dic[i]=1\n",
        "  lst=[]\n",
        "  for i in dic:\n",
        "    if dic[i]>1:\n",
        "      lst.append(i)\n",
        "  if len(lst)==0:\n",
        "    return [-1]\n",
        "  return sorted(lst)"
      ]
    },
    {
      "cell_type": "code",
      "source": [
        "arr=[2,3,1,2,3]\n",
        "solve(5,arr)"
      ],
      "metadata": {
        "colab": {
          "base_uri": "https://localhost:8080/"
        },
        "id": "4sm-0WIOeWeD",
        "outputId": "c8e08f4c-777e-46da-fb3c-658dbc1fb8d4"
      },
      "execution_count": null,
      "outputs": [
        {
          "output_type": "execute_result",
          "data": {
            "text/plain": [
              "[-1]"
            ]
          },
          "metadata": {},
          "execution_count": 6
        }
      ]
    },
    {
      "cell_type": "markdown",
      "source": [
        "Given an array arr of size n−1 that contains distinct integers in the range of 1 to n (inclusive), find the missing element. The array is a permutation of size n with one element missing. Return the missing element.\n",
        "\n",
        "\n",
        "\n",
        "Examples:\n",
        "\n",
        "Input: n = 5, arr[] = [1,2,3,5]\n",
        "Output: 4\n",
        "Explanation : All the numbers from 1 to 5 are present except 4.\n",
        "Input: n = 2, arr[] = [1]\n",
        "Output: 2\n",
        "Explanation : All the numbers from 1 to 2 are present except 2.\n",
        "Expected Time Complexity: O(n)\n",
        "Expected Auxiliary Space: O(1)"
      ],
      "metadata": {
        "id": "vlycgrctghs0"
      }
    },
    {
      "cell_type": "code",
      "source": [
        "# Note that the size of the array is n-1\n",
        "def missingNumber(self, n, arr):\n",
        "        x=(n*(n+1))//2\n",
        "        y=sum(arr)\n",
        "        return x-y\n"
      ],
      "metadata": {
        "id": "QvIcHwJXgjuy"
      },
      "execution_count": null,
      "outputs": []
    },
    {
      "cell_type": "code",
      "source": [
        "class Solution:\n",
        "\n",
        "    # Note that the size of the array is n-1\n",
        "    def missingNumber(self, n, arr):\n",
        "        val = 0\n",
        "\n",
        "        # XOR all numbers from 1 to n\n",
        "        for i in range(1, n + 1):\n",
        "            val ^= i\n",
        "\n",
        "        # XOR all elements in the array\n",
        "        for num in arr:\n",
        "            val ^= num\n",
        "\n",
        "        return val\n"
      ],
      "metadata": {
        "id": "38w8TR1Reb9F"
      },
      "execution_count": null,
      "outputs": []
    },
    {
      "cell_type": "markdown",
      "source": [
        "# The Celebrity Problem\n",
        "Difficulty: MediumAccuracy: 38.33%Submissions: 253K+Points: 4\n",
        "A celebrity is a person who is known to all but does not know anyone at a party. A party is being organized by some people.  A square matrix mat is used to represent people at the party such that if an element of row i and column j is set to 1 it means ith person knows jth person. You need to return the index of the celebrity in the party, if the celebrity does not exist, return -1.\n",
        "\n",
        "Note: Follow 0-based indexing.\n",
        "\n",
        "Examples:\n",
        "\n",
        "Input: mat[][] = [[0 1 0],\n",
        "                [0 0 0],\n",
        "                [0 1 0]]\n",
        "Output: 1\n",
        "Explanation: 0th and 2nd person both know 1. Therefore, 1 is the celebrity.\n",
        "Input: mat[][] = [[0 1],\n",
        "                [1 0]]\n",
        "Output: -1\n",
        "Explanation: The two people at the party both know each other. None of them is a celebrity.\n",
        "Expected Time Complexity: O(n2)\n",
        "Expected Auxiliary Space: O(1)"
      ],
      "metadata": {
        "id": "7XPj7r3UUG-o"
      }
    },
    {
      "cell_type": "code",
      "source": [
        "class Solution:\n",
        "    def celebrity(self, mat):\n",
        "        # code here\n",
        "        n=len(mat)\n",
        "        r,l=n-1,0\n",
        "        while l<r:\n",
        "            if mat[l][r]==1:\n",
        "                l+=1\n",
        "            else:\n",
        "                r=r-1\n",
        "        for i in range(n):\n",
        "            if i!=l and (mat[l][i]==1 or mat[i][l]==0):\n",
        "                return -1\n",
        "        return l"
      ],
      "metadata": {
        "id": "rVFb2UGMgpEJ"
      },
      "execution_count": null,
      "outputs": []
    },
    {
      "cell_type": "code",
      "source": [
        "class Solution:\n",
        "\n",
        "    #Function to find if there is a celebrity in the party or not.\n",
        "    def celebrity(self, Mat, N):\n",
        "        # code here\n",
        "        indegree = [0] * N\n",
        "        outdegree = [0] * N\n",
        "\n",
        "        # Query for all edges\n",
        "        for i in range(N):\n",
        "            for j in range(N):\n",
        "                x = Mat[i][j]\n",
        "\n",
        "                # Set the degrees\n",
        "                outdegree[i] += x\n",
        "                indegree[j] += x\n",
        "\n",
        "        # Find a person with indegree N-1 and outdegree 0\n",
        "        for i in range(N):\n",
        "            if indegree[i] == N - 1 and outdegree[i] == 0:\n",
        "                return i\n",
        "\n",
        "        return -1"
      ],
      "metadata": {
        "id": "GzxAco6fUQQp"
      },
      "execution_count": null,
      "outputs": []
    },
    {
      "cell_type": "markdown",
      "source": [
        "# Equilibrium Point\n",
        "Difficulty: EasyAccuracy: 28.13%Submissions: 571K+Points: 2\n",
        "Given an array arr of non-negative numbers. The task is to find the first equilibrium point in an array. The equilibrium point in an array is an index (or position) such that the sum of all elements before that index is the same as the sum of elements after it.\n",
        "\n",
        "Note: Return equilibrium point in 1-based indexing. Return -1 if no such point exists.\n",
        "\n",
        "Examples:\n",
        "\n",
        "Input: arr[] = [1, 3, 5, 2, 2]\n",
        "Output: 3\n",
        "Explanation: The equilibrium point is at position 3 as the sum of elements before it (1+3) = sum of elements after it (2+2).\n",
        "Input: arr[] = [1]\n",
        "Output: 1\n",
        "Explanation: Since there's only one element hence it's only the equilibrium point.\n",
        "Input: n = 3, arr[] = [1, 2, 3]\n",
        "Output: -1\n",
        "Explanation: There is no equilibrium point in the given array.\n",
        "Expected Time Complexity: O(n)\n",
        "Expected Auxiliary Space: O(1)"
      ],
      "metadata": {
        "id": "oNWySzPaYr19"
      }
    },
    {
      "cell_type": "code",
      "source": [
        "    def equilibriumPoint(self,arr):\n",
        "        # Your code here\n",
        "        sm=sum(arr)\n",
        "        ch=0\n",
        "        for i in range(len(arr)):\n",
        "            sm=sm-arr[i]\n",
        "            if sm==ch:\n",
        "                return i+1\n",
        "            ch=ch+arr[i]\n",
        "        return -1"
      ],
      "metadata": {
        "id": "0obDJ0wsYt90"
      },
      "execution_count": null,
      "outputs": []
    },
    {
      "cell_type": "markdown",
      "source": [
        "# Parenthesis Checker\n",
        "Difficulty: EasyAccuracy: 28.56%Submissions: 568K+Points: 2\n",
        "Given an expression string x. Examine whether the pairs and the orders of {,},(,),[,] are correct in exp.\n",
        "For example, the function should return 'true' for exp = [()]{}{[()()]()} and 'false' for exp = [(]).\n",
        "\n",
        "Note: The drive code prints \"balanced\" if function return true, otherwise it prints \"not balanced\".\n",
        "\n",
        "Example 1:\n",
        "\n",
        "Input:\n",
        "{([])}\n",
        "Output:\n",
        "true\n",
        "Explanation:\n",
        "{ ( [ ] ) }. Same colored brackets can form\n",
        "balanced pairs, with 0 number of\n",
        "unbalanced bracket.\n",
        "Example 2:\n",
        "\n",
        "Input:\n",
        "()\n",
        "Output:\n",
        "true\n",
        "Explanation:\n",
        "(). Same bracket can form balanced pairs,\n",
        "and here only 1 type of bracket is\n",
        "present and in balanced way.\n",
        "Example 3:\n",
        "\n",
        "Input:\n",
        "([]\n",
        "Output:\n",
        "false\n",
        "Explanation:\n",
        "([]. Here square bracket is balanced but\n",
        "the small bracket is not balanced and\n",
        "Hence , the output will be unbalanced.\n",
        "Your Task:\n",
        "This is a function problem. You only need to complete the function ispar() that takes a string as a parameter and returns a boolean value true if brackets are balanced else returns false. The printing is done automatically by the driver code.\n",
        "\n",
        "Expected Time Complexity: O(|x|)\n",
        "Expected Auixilliary Space: O(|x|)\n"
      ],
      "metadata": {
        "id": "oENiL1DpyXoA"
      }
    },
    {
      "cell_type": "code",
      "source": [
        "class Solution:\n",
        "    def ispar(self,s):\n",
        "\n",
        "        stack = []\n",
        "        for char in s:\n",
        "            if char in '{([' :\n",
        "                stack.append(char)\n",
        "            else:\n",
        "                if len(stack) == 0:\n",
        "                    return False\n",
        "                if char == '}' and stack[-1]=='{':\n",
        "                        stack.pop()\n",
        "                        continue\n",
        "                if char == ')' and stack[-1] == '(':\n",
        "                        stack.pop()\n",
        "                        continue\n",
        "                if char == ']' and stack[-1] == '[':\n",
        "                        stack.pop()\n",
        "                        continue\n",
        "                return False\n",
        "\n",
        "        #if stack becomes empty, we return true else false.\n",
        "        if len(stack):\n",
        "            return False\n",
        "        return True\n"
      ],
      "metadata": {
        "id": "Qs7KSGXLx_jV"
      },
      "execution_count": null,
      "outputs": []
    },
    {
      "cell_type": "code",
      "source": [
        "class Solution:\n",
        "    #Function to check if brackets are balanced or not.\n",
        "    def ispar(self,x):\n",
        "\n",
        "        dict = {'(' : ')', '[' : ']', '{' : '}'}\n",
        "\n",
        "        stack = []\n",
        "\n",
        "        for char in x:\n",
        "            if char in dict.keys():\n",
        "                stack.append(char)\n",
        "\n",
        "            elif char in dict.values():\n",
        "                if not stack or dict[stack.pop()] != char:\n",
        "                    return False\n",
        "\n",
        "        return not stack\n"
      ],
      "metadata": {
        "id": "ecX0tdf_yAom"
      },
      "execution_count": null,
      "outputs": []
    },
    {
      "cell_type": "markdown",
      "source": [
        "# Professor and Parties\n",
        "Difficulty: BasicAccuracy: 37.94%Submissions: 24K+Points: 1\n",
        "A professor attended a party and classified it into two categories based on the colors of the robes. If all party members are wearing different colored robes, represented by positive integers in the array arr[], then it is a girl's only party. If there is at least one duplicate color, it is a boy's party. Determine the type of party by returning “BOYS” if it’s a boy’s party, otherwise, return “GIRLS”.\n",
        "\n",
        "Examples:\n",
        "\n",
        "Input: arr[] = [1, 2, 3, 4, 7]\n",
        "Output: GIRLS\n",
        "Explanation: All the colors are unique so it's a GIRLS party.\n",
        "Input: arr[] = [1, 3, 2, 4, 5, 1]\n",
        "Output: BOYS\n",
        "Explanation: There are two colors 1. So it's a BOYS party.\n",
        "\n",
        "\n",
        "Expected Time Complexity: O(n)\n",
        "Expected Auxiliary Space: O(n)"
      ],
      "metadata": {
        "id": "JvzGOUFwzf5j"
      }
    },
    {
      "cell_type": "code",
      "source": [
        "\n",
        "class Solution:\n",
        "    def PartyType(self, arr):\n",
        "        # Your code goes here\n",
        "        s=set(arr)\n",
        "        if len(s)==len(arr):\n",
        "            return 'GIRLS'\n",
        "        return 'BOYS'"
      ],
      "metadata": {
        "id": "tq9OUt3GzcuQ"
      },
      "execution_count": null,
      "outputs": []
    },
    {
      "cell_type": "markdown",
      "source": [
        "# Type Of Array\n",
        "You are given an array arr having unique elements. Your task is to return the type of array.\n",
        "Note: The array can be categorized into ascending, descending, descending rotated and ascending rotated followed by:\n",
        "\n",
        "Return 1 if the array is in ascending order\n",
        "Return 2 if the array is in descending order\n",
        "Return 3 if the array is in descending rotated order\n",
        "Return 4 if the array is in ascending rotated order\n",
        "Examples:\n",
        "\n",
        "Input: arr[] = [2, 1, 5, 4, 3]\n",
        "Output: 3\n",
        "Explanation: Descending rotated, rotate 2 times left.\n",
        "Input: arr[] = [3, 4, 5, 1, 2]\n",
        "Output: 4\n",
        "Explanation: Ascending rotated, rotate 2 times right.\n",
        "Expected Time Complexity: O(n)\n",
        "Expected Auxiliary Space: O(1)\n",
        "\n",
        "Constraints:\n",
        "3 <= arr.size() <= 105\n",
        "1 <= arr[i] <= 106\n",
        "\n"
      ],
      "metadata": {
        "id": "2NM0atby2t9a"
      }
    },
    {
      "cell_type": "code",
      "source": [
        "class Solution:\n",
        "\n",
        "    def maxNtype(self, arr):\n",
        "        #code here.\n",
        "        n = len(arr)\n",
        "        max_value = 0\n",
        "        index = 0\n",
        "\n",
        "        # Find the maximum element and its index.\n",
        "        for i in range(n):\n",
        "            if arr[i] > max_value:\n",
        "                max_value = arr[i]\n",
        "                index = i\n",
        "\n",
        "        # Determine the type based on the given conditions.\n",
        "        if arr[0] == max_value and arr[n - 2] > arr[n - 1]:\n",
        "            type_value = 2\n",
        "        elif arr[n - 1] == max_value and arr[1] > arr[0]:\n",
        "            type_value = 1\n",
        "        elif arr[(n + index - 1) % n] > arr[(n + index + 1) % n]:\n",
        "            type_value = 4\n",
        "        else:\n",
        "            type_value = 3\n",
        "\n",
        "        return type_value\n"
      ],
      "metadata": {
        "id": "J_Sy0bIx2oVF"
      },
      "execution_count": null,
      "outputs": []
    },
    {
      "cell_type": "markdown",
      "source": [
        "# unique Path\n",
        "https://leetcode.com/problems/unique-paths/"
      ],
      "metadata": {
        "id": "a4jUfF2S2ICK"
      }
    },
    {
      "cell_type": "code",
      "source": [
        "class Solution:\n",
        "    def uniquePaths(self, m: int, n: int) -> int:\n",
        "        mat=[[1]*n for i in range(m)]\n",
        "        #mat = [[1 for _ in range(n)] for _ in range(m)]\n",
        "        for i in range(m):\n",
        "            for j in range(n):\n",
        "                if (i==0 or j==0):\n",
        "                    mat[i][j]=1\n",
        "                else:\n",
        "                    mat[i][j]=mat[i][j-1]+mat[i-1][j]\n",
        "        return mat[m-1][n-1]\n",
        "        #while i<=m and j<=n:\n",
        "        #   mat[i][j]=(mat[i][j-1])+mat([i-1][j])\n",
        "        #return mat[m][n]"
      ],
      "metadata": {
        "id": "biT6HY432Lrg"
      },
      "execution_count": null,
      "outputs": []
    },
    {
      "cell_type": "markdown",
      "source": [
        "# Candy\n",
        "https://leetcode.com/problems/candy/"
      ],
      "metadata": {
        "id": "fHX-Id0D7FJK"
      }
    },
    {
      "cell_type": "code",
      "source": [
        "class Solution:\n",
        "    def candy(self, ratings: List[int]) -> int:\n",
        "        cand=[1]*len(ratings)\n",
        "        n=len(ratings)\n",
        "        for i in range(1,n):\n",
        "            if ratings[i]>ratings[i-1]:\n",
        "                cand[i]=cand[i-1]+1\n",
        "        for i in range(n-2,-1,-1):\n",
        "            if ratings[i]>ratings[i+1]:\n",
        "                cand[i]=max(cand[i],cand[i+1]+1)\n",
        "        return sum(cand)"
      ],
      "metadata": {
        "id": "elb4yk0I2NyB"
      },
      "execution_count": null,
      "outputs": []
    },
    {
      "cell_type": "markdown",
      "source": [
        "For each pair of adjacent children, compare their ratings. Here are the scenarios:\n",
        "\n",
        "If the rating is increasing: Update up and peak by incrementing them by 1. Set down to 0. Add up + 1 to ret because the current child must have one more candy than the previous child.\n",
        "\n",
        "If the rating is the same: Reset up, down, and peak to 0, because neither an increasing nor a decreasing trend is maintained. Add 1 to ret because the current child must have at least one candy.\n",
        "\n",
        "If the rating is decreasing: Update down by incrementing it by 1. Reset up to 0. Add down to ret. Additionally, if peak is greater than or equal to down, decrement ret by 1. This is because the peak child can share the same number of candies as one of the children in the decreasing sequence, which allows us to reduce the total number of candies."
      ],
      "metadata": {
        "id": "YGwWR73F9geA"
      }
    },
    {
      "cell_type": "code",
      "source": [
        "class Solution:\n",
        "    def candy(self, ratings: List[int]) -> int:\n",
        "        if not ratings:\n",
        "            return 0\n",
        "\n",
        "        ret, up, down, peak = 1, 0, 0, 0\n",
        "\n",
        "        for prev, curr in zip(ratings[:-1], ratings[1:]):\n",
        "            if prev < curr:\n",
        "                up, down, peak = up + 1, 0, up + 1\n",
        "                ret += 1 + up\n",
        "            elif prev == curr:\n",
        "                up = down = peak = 0\n",
        "                ret += 1\n",
        "            else:\n",
        "                up, down = 0, down + 1\n",
        "                ret += 1 + down - int(peak >= down)\n",
        "\n",
        "        return ret"
      ],
      "metadata": {
        "id": "vBmbW59L9YBd"
      },
      "execution_count": null,
      "outputs": []
    },
    {
      "cell_type": "markdown",
      "source": [
        "# Gas Station\n",
        "https://leetcode.com/problems/gas-station/"
      ],
      "metadata": {
        "id": "mTgGk-ohU6dr"
      }
    },
    {
      "cell_type": "code",
      "source": [
        "class Solution:\n",
        "    def canCompleteCircuit(self, gas: List[int], cost: List[int]) -> int:\n",
        "        gashai,start=0,0\n",
        "        if sum(gas)<sum(cost):\n",
        "            return -1\n",
        "\n",
        "        for i in range(len(cost)):\n",
        "                gashai+=gas[i]-cost[i]\n",
        "                if gashai<0:\n",
        "                    start=i+1\n",
        "                    gashai=0\n",
        "        return start"
      ],
      "metadata": {
        "id": "OJLGO3_uVQ16"
      },
      "execution_count": null,
      "outputs": []
    },
    {
      "cell_type": "markdown",
      "source": [
        "# increasing-triplet-subsequence\n",
        "\n",
        "https://leetcode.com/problems/increasing-triplet-subsequence/"
      ],
      "metadata": {
        "id": "kwcgQZSDvjd_"
      }
    },
    {
      "cell_type": "code",
      "source": [
        "class Solution:\n",
        "    def increasingTriplet(self, nums: List[int]) -> bool:\n",
        "        i = j = float('inf')\n",
        "\n",
        "        for num in nums:\n",
        "            if num <= i:\n",
        "                i = num\n",
        "\n",
        "            elif num <= j:\n",
        "                j = num\n",
        "\n",
        "            else:\n",
        "                return True\n",
        "\n",
        "        return False"
      ],
      "metadata": {
        "id": "hsGFYAbKvf75"
      },
      "execution_count": null,
      "outputs": []
    },
    {
      "cell_type": "code",
      "source": [
        "class Solution:\n",
        "    def increasingTriplet(self, nums: List[int]) -> bool:\n",
        "        if not nums or len(nums)<3:\n",
        "            return False\n",
        "        n1=float('inf')\n",
        "        n2=float('inf')\n",
        "        for n in nums:\n",
        "            if n<=n1:\n",
        "                n1=n\n",
        "            elif n<=n2:\n",
        "                n2=n\n",
        "            else:\n",
        "                return True\n",
        "        return False"
      ],
      "metadata": {
        "id": "leMe735_v1BN"
      },
      "execution_count": null,
      "outputs": []
    },
    {
      "cell_type": "markdown",
      "source": [
        "#Assign Cookies\n",
        "https://leetcode.com/problems/assign-cookies/description/"
      ],
      "metadata": {
        "id": "5mEtcz8q6pPh"
      }
    },
    {
      "cell_type": "code",
      "source": [
        "class Solution:\n",
        "    def findContentChildren(self, g: List[int], s: List[int]) -> int:\n",
        "        count=0\n",
        "        g.sort()\n",
        "        s.sort()\n",
        "        i=0\n",
        "        j=0\n",
        "        while i<len(g) and j<len(s):\n",
        "            if s[j]>=g[i]:\n",
        "                count+=1\n",
        "                i=i+1\n",
        "            j+=1\n",
        "        return count"
      ],
      "metadata": {
        "id": "B66BYAsq6oxi"
      },
      "execution_count": null,
      "outputs": []
    },
    {
      "cell_type": "markdown",
      "source": [
        "# JUMP GATE\n",
        "https://leetcode.com/problems/jump-game/submissions/1345207525/"
      ],
      "metadata": {
        "id": "9rLM83gF_gJ6"
      }
    },
    {
      "cell_type": "code",
      "source": [
        "class Solution:\n",
        "    def canJump(self, nums: List[int]) -> bool:\n",
        "        gas = 0\n",
        "        for n in nums:\n",
        "            if gas < 0:\n",
        "                return False\n",
        "            elif n > gas:\n",
        "                gas = n\n",
        "            gas -= 1\n",
        "\n",
        "        return True"
      ],
      "metadata": {
        "id": "mTi2eK9a_fXp"
      },
      "execution_count": null,
      "outputs": []
    },
    {
      "cell_type": "markdown",
      "source": [
        "# Is Subsequence\n",
        "https://leetcode.com/problems/is-subsequence/description/"
      ],
      "metadata": {
        "id": "RuNXdZiSEzPd"
      }
    },
    {
      "cell_type": "code",
      "source": [
        "class Solution:\n",
        "    def isSubsequence(self, s: str, t: str) -> bool:\n",
        "        p1, p2= 0, 0\n",
        "        while p2< len(t) and p1 < len(s):\n",
        "            # print(t[p2], s[p1], p1, i)\n",
        "            if t[p2] == s[p1]:\n",
        "                p1 += 1\n",
        "            p2 += 1\n",
        "        # print(p1)\n",
        "        return p1 == len(s)"
      ],
      "metadata": {
        "id": "jEs5PXxlE4Wb"
      },
      "execution_count": null,
      "outputs": []
    }
  ]
}