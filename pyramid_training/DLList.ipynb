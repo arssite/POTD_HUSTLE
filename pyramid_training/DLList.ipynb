{
  "nbformat": 4,
  "nbformat_minor": 0,
  "metadata": {
    "colab": {
      "provenance": [],
      "authorship_tag": "ABX9TyPHgWUi9TOys5hNoe8bgbu7",
      "include_colab_link": true
    },
    "kernelspec": {
      "name": "python3",
      "display_name": "Python 3"
    },
    "language_info": {
      "name": "python"
    }
  },
  "cells": [
    {
      "cell_type": "markdown",
      "metadata": {
        "id": "view-in-github",
        "colab_type": "text"
      },
      "source": [
        "<a href=\"https://colab.research.google.com/github/arssite/POTD_HUSTLE/blob/main/pyramid_training/DLList.ipynb\" target=\"_parent\"><img src=\"https://colab.research.google.com/assets/colab-badge.svg\" alt=\"Open In Colab\"/></a>"
      ]
    },
    {
      "cell_type": "code",
      "source": [
        "class Node():\n",
        "  def __init__(self,data):\n",
        "    self.data=data\n",
        "    self.next=None\n",
        "    self.prev=None\n"
      ],
      "metadata": {
        "id": "iifvlcUJnR1y"
      },
      "execution_count": 1,
      "outputs": []
    },
    {
      "cell_type": "code",
      "execution_count": 64,
      "metadata": {
        "id": "kdLKq-_3m7Z7"
      },
      "outputs": [],
      "source": [
        "class DLL:\n",
        "  def __init__(self):\n",
        "    self.head=None\n",
        "\n",
        "  def insertatbeg(self,data):\n",
        "    new=Node(data)\n",
        "    if self.head is not None:\n",
        "      self.head.prev=new\n",
        "    new.next=self.head\n",
        "    self.head=new\n",
        "\n",
        "  def insertatend(self,data):\n",
        "    new=Node(data)\n",
        "    if self.head is None:\n",
        "      self.head=new\n",
        "    else:\n",
        "      temp=self.head\n",
        "      while temp.next is not None:\n",
        "        temp=temp.next\n",
        "      temp.next=new\n",
        "      new.prev=temp\n",
        "\n",
        "  def delatbeg(self):\n",
        "    if self.head is None:\n",
        "      print(\"Empty\")\n",
        "    else:\n",
        "      self.head=self.head.next\n",
        "      if self.head is not None:\n",
        "        self.head.prev=None\n",
        "\n",
        "  def delatend(self):\n",
        "    if self.head==None:\n",
        "        print(\"\\n Empty\\n\\n\")\n",
        "    else:\n",
        "      temp=self.head\n",
        "      while temp.next is not None:\n",
        "        temp=temp.next\n",
        "      temp.prev.next=None\n",
        "      temp.prev=None\n",
        "\n",
        "  def printlist(self):\n",
        "      if self.head==None:\n",
        "        print(\"\\n Empty\\n\\n\")\n",
        "      else:\n",
        "        temp=self.head\n",
        "        while temp:\n",
        "          print(temp.data,end=\" > \")\n",
        "          temp=temp.next\n",
        "  def delatpos(self,p):\n",
        "    if self.head is None:\n",
        "      print(\"Empty\")\n",
        "    else:\n",
        "      if p<0:\n",
        "        print(\"invalid\")\n",
        "      elif p==0:\n",
        "        self.head=self.head.next\n",
        "        if self.head is not None:\n",
        "          self.head.prev=None\n",
        "      else:\n",
        "        curr=self.head\n",
        "        for i in range(p):\n",
        "          if curr is None or curr.next is None:\n",
        "            print(\"invalid\")\n",
        "            return\n",
        "          curr=curr.next\n",
        "        if curr.next is not None:\n",
        "          print(\"ok\")\n",
        "        if curr.prev is not None:\n",
        "          curr.prev.next=curr.next\n",
        "        if curr.next is not None:\n",
        "          curr.next.prev=curr.prev\n",
        "\n",
        "        #del(curr) used for delete the used memory\n",
        "\n",
        "\n",
        "\n",
        "\n",
        "\n",
        "\n"
      ]
    },
    {
      "cell_type": "code",
      "source": [
        "obj=DLL()"
      ],
      "metadata": {
        "id": "b0G9AyJGnQaC"
      },
      "execution_count": 65,
      "outputs": []
    },
    {
      "cell_type": "code",
      "source": [
        "obj.insertatbeg(89)"
      ],
      "metadata": {
        "id": "vmhuTTBBpFYD"
      },
      "execution_count": 66,
      "outputs": []
    },
    {
      "cell_type": "code",
      "source": [
        "obj.insertatbeg(19)"
      ],
      "metadata": {
        "id": "5wKfXnH0pIJK"
      },
      "execution_count": 67,
      "outputs": []
    },
    {
      "cell_type": "code",
      "source": [
        "obj.insertatend(10)"
      ],
      "metadata": {
        "id": "lXk301DZpL6r"
      },
      "execution_count": 68,
      "outputs": []
    },
    {
      "cell_type": "code",
      "source": [
        "obj.printlist()"
      ],
      "metadata": {
        "colab": {
          "base_uri": "https://localhost:8080/"
        },
        "id": "KsBzEnx0pO8c",
        "outputId": "02eea1f5-087c-4a21-db95-118d5fe9fcf9"
      },
      "execution_count": 69,
      "outputs": [
        {
          "output_type": "stream",
          "name": "stdout",
          "text": [
            "19 > 89 > 10 > "
          ]
        }
      ]
    },
    {
      "cell_type": "code",
      "source": [
        "obj.delatpos(0)"
      ],
      "metadata": {
        "id": "nHJwVtUapaYT"
      },
      "execution_count": 70,
      "outputs": []
    },
    {
      "cell_type": "code",
      "source": [
        "\n",
        "obj.printlist()"
      ],
      "metadata": {
        "colab": {
          "base_uri": "https://localhost:8080/"
        },
        "id": "AkYZL-hXpoMB",
        "outputId": "15624605-c686-46f8-c6f2-689e3fcce416"
      },
      "execution_count": 71,
      "outputs": [
        {
          "output_type": "stream",
          "name": "stdout",
          "text": [
            "89 > 10 > "
          ]
        }
      ]
    },
    {
      "cell_type": "code",
      "source": [
        "obj.delatend()"
      ],
      "metadata": {
        "id": "xOmD61HapqdC"
      },
      "execution_count": 72,
      "outputs": []
    },
    {
      "cell_type": "code",
      "source": [
        "obj.printlist()"
      ],
      "metadata": {
        "colab": {
          "base_uri": "https://localhost:8080/"
        },
        "id": "WgRPYqf6sKJb",
        "outputId": "f536d66f-f744-4031-81fb-a498ae2d9190"
      },
      "execution_count": 73,
      "outputs": [
        {
          "output_type": "stream",
          "name": "stdout",
          "text": [
            "89 > "
          ]
        }
      ]
    },
    {
      "cell_type": "code",
      "source": [
        "obj.delatbeg()"
      ],
      "metadata": {
        "id": "jBmHLHGhsL9L"
      },
      "execution_count": 74,
      "outputs": []
    },
    {
      "cell_type": "code",
      "source": [
        "obj.printlist()"
      ],
      "metadata": {
        "colab": {
          "base_uri": "https://localhost:8080/"
        },
        "id": "Ys9dS1d93_uG",
        "outputId": "6cad5eae-719e-44cf-cd3d-31a53f2d12af"
      },
      "execution_count": 75,
      "outputs": [
        {
          "output_type": "stream",
          "name": "stdout",
          "text": [
            "\n",
            " Empty\n",
            "\n",
            "\n"
          ]
        }
      ]
    },
    {
      "cell_type": "code",
      "source": [],
      "metadata": {
        "id": "jElIgcxR4Bhu"
      },
      "execution_count": null,
      "outputs": []
    }
  ]
}