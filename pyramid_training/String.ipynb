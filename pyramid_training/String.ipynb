{
  "nbformat": 4,
  "nbformat_minor": 0,
  "metadata": {
    "colab": {
      "provenance": [],
      "authorship_tag": "ABX9TyM+rkAbDuRaw1SaT4PJDsiW",
      "include_colab_link": true
    },
    "kernelspec": {
      "name": "python3",
      "display_name": "Python 3"
    },
    "language_info": {
      "name": "python"
    }
  },
  "cells": [
    {
      "cell_type": "markdown",
      "metadata": {
        "id": "view-in-github",
        "colab_type": "text"
      },
      "source": [
        "<a href=\"https://colab.research.google.com/github/arssite/POTD_HUSTLE/blob/main/pyramid_training/String.ipynb\" target=\"_parent\"><img src=\"https://colab.research.google.com/assets/colab-badge.svg\" alt=\"Open In Colab\"/></a>"
      ]
    },
    {
      "cell_type": "code",
      "execution_count": null,
      "metadata": {
        "colab": {
          "base_uri": "https://localhost:8080/"
        },
        "id": "VPH3HpOszvqy",
        "outputId": "3c0aa6ec-e6b6-435d-a44f-ad1da45afdd8"
      },
      "outputs": [
        {
          "output_type": "stream",
          "name": "stdout",
          "text": [
            "5 8 4 7 85\n",
            "85\n"
          ]
        }
      ],
      "source": [
        "inp=list(map(int,input().split()))\n",
        "print(max(inp))"
      ]
    },
    {
      "cell_type": "code",
      "source": [
        "import array\n",
        "x=int(input())\n",
        "inp=array.array('i',map(int,input().split()))\n",
        "print(max(inp))"
      ],
      "metadata": {
        "colab": {
          "base_uri": "https://localhost:8080/"
        },
        "id": "aVBwyNn3z1Gy",
        "outputId": "b1c02a6c-5b55-469b-ddda-94f258840bb1"
      },
      "execution_count": null,
      "outputs": [
        {
          "output_type": "stream",
          "name": "stdout",
          "text": [
            "5\n",
            "45 58 45 25 21\n",
            "58\n"
          ]
        }
      ]
    },
    {
      "cell_type": "code",
      "source": [
        "import array\n",
        "x=int(input())\n",
        "inp=list(map(int,input().split()))\n",
        "#inp=array.array('i',map(int,input().split()))\n",
        "print(*inp[::-1])"
      ],
      "metadata": {
        "colab": {
          "base_uri": "https://localhost:8080/"
        },
        "id": "Top8tsHk0HJP",
        "outputId": "23152e2b-5eab-4b3b-fa05-55904e480be2"
      },
      "execution_count": null,
      "outputs": [
        {
          "output_type": "stream",
          "name": "stdout",
          "text": [
            "1\n",
            "56 25\n",
            "25 56\n"
          ]
        }
      ]
    },
    {
      "cell_type": "code",
      "source": [
        "n=int((input()))\n",
        "lst=map(int,input().split())\n",
        "sum=0\n",
        "for i in lst:\n",
        "  if i%2!=0:\n",
        "    sum+=i\n",
        "print(sum)"
      ],
      "metadata": {
        "colab": {
          "base_uri": "https://localhost:8080/"
        },
        "id": "WUVQivMW0uHI",
        "outputId": "60cd0c9b-2675-4edb-f5c3-e05a966c718a"
      },
      "execution_count": null,
      "outputs": [
        {
          "output_type": "stream",
          "name": "stdout",
          "text": [
            "5\n",
            "45 25 10 12 5 5\n",
            "80\n"
          ]
        }
      ]
    },
    {
      "cell_type": "code",
      "source": [
        "n=int((input()))\n",
        "lst=map(int,input().split())\n",
        "lst2=[]\n",
        "x=''\n",
        "for i in lst:\n",
        "  if i in lst2:\n",
        "    x+=str(i)\n",
        "  lst2.append(i)\n",
        "print(x)"
      ],
      "metadata": {
        "colab": {
          "base_uri": "https://localhost:8080/"
        },
        "id": "ny7083RF1opk",
        "outputId": "cfae80bb-3341-4b64-9a5a-a7ce8cb40ccb"
      },
      "execution_count": null,
      "outputs": [
        {
          "output_type": "stream",
          "name": "stdout",
          "text": [
            "5\n",
            "12 21 12\n",
            "12\n"
          ]
        }
      ]
    },
    {
      "cell_type": "code",
      "source": [
        "n=int((input()))\n",
        "lst=map(int,input().split())\n",
        "x=list(set(lst))\n",
        "print(*x)\n"
      ],
      "metadata": {
        "colab": {
          "base_uri": "https://localhost:8080/"
        },
        "id": "XlaIZKnh2qIt",
        "outputId": "00050bb9-03c4-41e1-acf3-56c9ebbfc421"
      },
      "execution_count": null,
      "outputs": [
        {
          "output_type": "stream",
          "name": "stdout",
          "text": [
            "5\n",
            "12 52 12 54 12 54 3\n",
            "54 3 12 52\n"
          ]
        }
      ]
    },
    {
      "cell_type": "code",
      "source": [
        "n=int((input()))\n",
        "arr=map(int,input().split())\n",
        "seen=set(arr)\n",
        "unique_elements=[]\n",
        "for num in arr:\n",
        "        if num not in seen:\n",
        "            seen.add(num)\n",
        "            unique_elements.append(num)\n",
        "print(unique_elements)"
      ],
      "metadata": {
        "colab": {
          "base_uri": "https://localhost:8080/"
        },
        "id": "ekj6pWku35W7",
        "outputId": "69303a71-11d7-4670-ae92-f64f02aac233"
      },
      "execution_count": null,
      "outputs": [
        {
          "output_type": "stream",
          "name": "stdout",
          "text": [
            "51 \n",
            "12 5 5 12 7 5 4 7\n",
            "[]\n"
          ]
        }
      ]
    },
    {
      "cell_type": "code",
      "source": [
        "def ls(arr,x):\n",
        "  for i in range(len(arr)):\n",
        "    if arr[i]==x:\n",
        "      return i\n",
        "  return -1\n",
        "\n",
        "n,x=map(int,input().split())\n",
        "arr=list(map(int,input().split()))\n",
        "print(ls(arr,x))"
      ],
      "metadata": {
        "colab": {
          "base_uri": "https://localhost:8080/"
        },
        "id": "NeomnpS24_S9",
        "outputId": "ee196336-2a8b-4a2c-a48d-25e890ab0c96"
      },
      "execution_count": null,
      "outputs": [
        {
          "output_type": "stream",
          "name": "stdout",
          "text": [
            "2 5\n",
            "2 6 7 5 8 9\n",
            "3\n"
          ]
        }
      ]
    },
    {
      "cell_type": "code",
      "source": [
        "# Ensure there is no other usage of `sum` as a variable name or function\n",
        "import math\n",
        "for _ in range(int(input())):\n",
        "    n = int(input())\n",
        "    sum=0\n",
        "    arr = list(map(int, input().split()))\n",
        "    for i in arr:\n",
        "      sum+=i\n",
        "    print(sum)\n",
        "\n"
      ],
      "metadata": {
        "colab": {
          "base_uri": "https://localhost:8080/",
          "height": 245
        },
        "id": "W9b2MaZ86uO5",
        "outputId": "6105277a-5d51-4e42-fce1-08bde8cbccea"
      },
      "execution_count": null,
      "outputs": [
        {
          "name": "stdout",
          "output_type": "stream",
          "text": [
            "45\n",
            "ff\n"
          ]
        },
        {
          "output_type": "error",
          "ename": "ValueError",
          "evalue": "invalid literal for int() with base 10: 'ff'",
          "traceback": [
            "\u001b[0;31m---------------------------------------------------------------------------\u001b[0m",
            "\u001b[0;31mValueError\u001b[0m                                Traceback (most recent call last)",
            "\u001b[0;32m<ipython-input-29-9eb126c5eb64>\u001b[0m in \u001b[0;36m<cell line: 3>\u001b[0;34m()\u001b[0m\n\u001b[1;32m      2\u001b[0m \u001b[0;32mimport\u001b[0m \u001b[0mmath\u001b[0m\u001b[0;34m\u001b[0m\u001b[0;34m\u001b[0m\u001b[0m\n\u001b[1;32m      3\u001b[0m \u001b[0;32mfor\u001b[0m \u001b[0m_\u001b[0m \u001b[0;32min\u001b[0m \u001b[0mrange\u001b[0m\u001b[0;34m(\u001b[0m\u001b[0mint\u001b[0m\u001b[0;34m(\u001b[0m\u001b[0minput\u001b[0m\u001b[0;34m(\u001b[0m\u001b[0;34m)\u001b[0m\u001b[0;34m)\u001b[0m\u001b[0;34m)\u001b[0m\u001b[0;34m:\u001b[0m\u001b[0;34m\u001b[0m\u001b[0;34m\u001b[0m\u001b[0m\n\u001b[0;32m----> 4\u001b[0;31m     \u001b[0mn\u001b[0m \u001b[0;34m=\u001b[0m \u001b[0mint\u001b[0m\u001b[0;34m(\u001b[0m\u001b[0minput\u001b[0m\u001b[0;34m(\u001b[0m\u001b[0;34m)\u001b[0m\u001b[0;34m)\u001b[0m\u001b[0;34m\u001b[0m\u001b[0;34m\u001b[0m\u001b[0m\n\u001b[0m\u001b[1;32m      5\u001b[0m     \u001b[0msum\u001b[0m\u001b[0;34m=\u001b[0m\u001b[0;36m0\u001b[0m\u001b[0;34m\u001b[0m\u001b[0;34m\u001b[0m\u001b[0m\n\u001b[1;32m      6\u001b[0m     \u001b[0marr\u001b[0m \u001b[0;34m=\u001b[0m \u001b[0mlist\u001b[0m\u001b[0;34m(\u001b[0m\u001b[0mmap\u001b[0m\u001b[0;34m(\u001b[0m\u001b[0mint\u001b[0m\u001b[0;34m,\u001b[0m \u001b[0minput\u001b[0m\u001b[0;34m(\u001b[0m\u001b[0;34m)\u001b[0m\u001b[0;34m.\u001b[0m\u001b[0msplit\u001b[0m\u001b[0;34m(\u001b[0m\u001b[0;34m)\u001b[0m\u001b[0;34m)\u001b[0m\u001b[0;34m)\u001b[0m\u001b[0;34m\u001b[0m\u001b[0;34m\u001b[0m\u001b[0m\n",
            "\u001b[0;31mValueError\u001b[0m: invalid literal for int() with base 10: 'ff'"
          ]
        }
      ]
    },
    {
      "cell_type": "code",
      "source": [
        "for _ in range(int(input())):\n",
        "  n=int((input()))\n",
        "  lst=map(int,input().split())\n",
        "  lst2,lst3=[],[]\n",
        "  for i in lst:\n",
        "    if i in lst2:\n",
        "      lst3.append(i)\n",
        "    lst2.append(i)\n",
        "  print(*lst3)"
      ],
      "metadata": {
        "colab": {
          "base_uri": "https://localhost:8080/"
        },
        "id": "AolClmSH8ojK",
        "outputId": "7537c22c-9df5-49b0-a4c2-2fe95f1d9ecf"
      },
      "execution_count": null,
      "outputs": [
        {
          "output_type": "stream",
          "name": "stdout",
          "text": [
            "1\n",
            "12\n",
            "8 8 5 8 5 6\n",
            "8 8 5\n"
          ]
        }
      ]
    },
    {
      "cell_type": "code",
      "source": [
        "def find_two_repeated_numbers(arr):\n",
        "    # Find the size of the array\n",
        "    N = len(arr)\n",
        "\n",
        "    # Initialize variables to store the repeated numbers\n",
        "    repeated_numbers = []\n",
        "\n",
        "    # Traverse the array\n",
        "    for i in range(N):\n",
        "        index = abs(arr[i]) - 1\n",
        "        if arr[index] < 0:\n",
        "            repeated_numbers.append(index + 1)\n",
        "        else:\n",
        "            arr[index] = -arr[index]\n",
        "\n",
        "    # Sort the repeated numbers and return\n",
        "    repeated_numbers.sort()\n",
        "    return repeated_numbers\n",
        "\n",
        "# Reading input\n",
        "T = int(input().strip())\n",
        "results = []\n",
        "\n",
        "for _ in range(T):\n",
        "    N = int(input().strip())\n",
        "    arr = list(map(int, input().strip().split()))\n",
        "\n",
        "    # Find the two repeated numbers\n",
        "    repeated_numbers = find_two_repeated_numbers(arr)\n",
        "\n",
        "    # Append the result for current test case\n",
        "    results.append(repeated_numbers)\n",
        "\n",
        "# Print all results\n",
        "for result in results:\n",
        "    print(result[0], result[1])\n"
      ],
      "metadata": {
        "id": "3afbDDoL9MKU"
      },
      "execution_count": null,
      "outputs": []
    },
    {
      "cell_type": "code",
      "source": [
        "st=input()\n",
        "print(st[::-1])"
      ],
      "metadata": {
        "colab": {
          "base_uri": "https://localhost:8080/"
        },
        "id": "eQYfB_lHAYnG",
        "outputId": "3913ccc0-b71b-46d2-846f-35fc04adcdc6"
      },
      "execution_count": null,
      "outputs": [
        {
          "output_type": "stream",
          "name": "stdout",
          "text": [
            "khushi\n",
            "ihsuhk\n"
          ]
        }
      ]
    },
    {
      "cell_type": "code",
      "source": [
        "st=input()\n",
        "x=st[1::2]\n",
        "y=st[0::2]\n",
        "print(x+y)\n"
      ],
      "metadata": {
        "colab": {
          "base_uri": "https://localhost:8080/"
        },
        "id": "NdYYRE6uAcYl",
        "outputId": "82233700-b5a4-4e10-fc82-91c0bf5c324f"
      },
      "execution_count": null,
      "outputs": [
        {
          "output_type": "stream",
          "name": "stdout",
          "text": [
            "khushi\n",
            "hsikuh\n"
          ]
        }
      ]
    },
    {
      "cell_type": "code",
      "source": [
        "st=input()\n",
        "x=input()\n",
        "print(st.count(x))"
      ],
      "metadata": {
        "colab": {
          "base_uri": "https://localhost:8080/"
        },
        "id": "LzJSEKIWB6Go",
        "outputId": "73b4759b-7c75-491a-9903-5580a1151250"
      },
      "execution_count": null,
      "outputs": [
        {
          "output_type": "stream",
          "name": "stdout",
          "text": [
            "anmol\n",
            "a\n",
            "1\n"
          ]
        }
      ]
    },
    {
      "cell_type": "code",
      "source": [
        "st=input()\n",
        "vowels = set('aeiouAEIOU')\n",
        "for i in st:\n",
        "  if i not in vowels:\n",
        "    print(\"No\")\n",
        "    break\n",
        "else:\n",
        "  print(\"Yes\")\n"
      ],
      "metadata": {
        "colab": {
          "base_uri": "https://localhost:8080/"
        },
        "id": "LaWymFOiCnOL",
        "outputId": "3b5aeeac-104b-4445-b985-116d9e725ea0"
      },
      "execution_count": null,
      "outputs": [
        {
          "output_type": "stream",
          "name": "stdout",
          "text": [
            "jvdvkha\n",
            "No\n"
          ]
        }
      ]
    },
    {
      "cell_type": "code",
      "source": [
        "st=input()\n",
        "if st.isdigit():\n",
        "  print('Yes')\n",
        "else:\n",
        "  print('No')"
      ],
      "metadata": {
        "colab": {
          "base_uri": "https://localhost:8080/"
        },
        "id": "jnvPJRUND1Gr",
        "outputId": "e4e81a85-637a-4f80-a687-660ea3ef3246"
      },
      "execution_count": null,
      "outputs": [
        {
          "output_type": "stream",
          "name": "stdout",
          "text": [
            "fgg45\n",
            "No\n"
          ]
        }
      ]
    },
    {
      "cell_type": "code",
      "source": [
        "st=input()\n",
        "vowels = set('aeiouAEIOU')\n",
        "v,c=0,0\n",
        "for i in st:\n",
        "  if i not in vowels:\n",
        "    v=v+1\n",
        "  else:\n",
        "    c=c+1\n",
        "\n",
        "print(c,v)\n"
      ],
      "metadata": {
        "colab": {
          "base_uri": "https://localhost:8080/"
        },
        "id": "vNgKtKVaEo02",
        "outputId": "91eb5a3f-4ff8-45ae-8185-8b062f0e8565"
      },
      "execution_count": null,
      "outputs": [
        {
          "output_type": "stream",
          "name": "stdout",
          "text": [
            "anmol\n",
            "3 2\n"
          ]
        }
      ]
    },
    {
      "cell_type": "code",
      "source": [
        "st=input()\n",
        "print(st.swapcase())"
      ],
      "metadata": {
        "colab": {
          "base_uri": "https://localhost:8080/"
        },
        "id": "5colgrXYFe-Q",
        "outputId": "e35f2fcd-2a19-4529-dac1-ec0f94eb2af9"
      },
      "execution_count": null,
      "outputs": [
        {
          "output_type": "stream",
          "name": "stdout",
          "text": [
            "Khushi\n",
            "kHUSHI\n"
          ]
        }
      ]
    },
    {
      "cell_type": "code",
      "source": [
        "st=input()\n",
        "sts=list(set(st))\n",
        "#print(sts)\n",
        "out=[]\n",
        "for i in range(len(sts)):\n",
        "  x=st.count(sts[i])\n",
        "  out.append(sts[i]+str(x))\n",
        "print(''.join(out))"
      ],
      "metadata": {
        "colab": {
          "base_uri": "https://localhost:8080/"
        },
        "id": "klrtHK1KGzZU",
        "outputId": "638c5b3d-c1d8-41bc-e0fe-451288ce3b25"
      },
      "execution_count": null,
      "outputs": [
        {
          "output_type": "stream",
          "name": "stdout",
          "text": [
            "aabbccv\n",
            "b2a2c2v1\n"
          ]
        }
      ]
    },
    {
      "cell_type": "code",
      "source": [
        "st=input()\n",
        "ll=0\n",
        "for i in range(1,len(st)):\n",
        "           p=st[:i]\n",
        "           q=st[-i:]\n",
        "           if p==q:\n",
        "                 ll=i\n",
        "print(ll)"
      ],
      "metadata": {
        "colab": {
          "base_uri": "https://localhost:8080/"
        },
        "id": "S9rEinCQKmNs",
        "outputId": "c22a96b0-eb56-4a18-e02b-2c44ae89e25a"
      },
      "execution_count": null,
      "outputs": [
        {
          "output_type": "stream",
          "name": "stdout",
          "text": [
            "arskhuhiars\n",
            "3\n"
          ]
        }
      ]
    },
    {
      "cell_type": "code",
      "source": [
        "for _ in range(int(input())):\n",
        "  st=input()\n",
        "  seen = set()\n",
        "  for char in st:\n",
        "          if char in seen:\n",
        "              print(char)\n",
        "              break\n",
        "          seen.add(char)\n",
        "  else:\n",
        "    print('.')\n"
      ],
      "metadata": {
        "colab": {
          "base_uri": "https://localhost:8080/"
        },
        "id": "al4jeyOeOwvL",
        "outputId": "68af831d-00bd-4495-f663-12ab671f808b"
      },
      "execution_count": null,
      "outputs": [
        {
          "output_type": "stream",
          "name": "stdout",
          "text": [
            "4\n",
            "algorithms\n",
            ".\n",
            "anmol\n",
            ".\n",
            "g\n",
            ".\n",
            "h\n",
            ".\n"
          ]
        }
      ]
    },
    {
      "cell_type": "code",
      "source": [
        "def find_first_repeating_character(string):\n",
        "    seen = set()\n",
        "    for char in string:\n",
        "        if char in seen:\n",
        "            return char\n",
        "        seen.add(char)\n",
        "    return '.'\n",
        "\n",
        "# Read number of test cases\n",
        "T = int(input())\n",
        "\n",
        "# Process each test case\n",
        "results = []\n",
        "for _ in range(T):\n",
        "    string = input()\n",
        "    result = find_first_repeating_character(string)\n",
        "    results.append(result)\n",
        "\n",
        "# Print results for each test case\n",
        "for result in results:\n",
        "    print(result)"
      ],
      "metadata": {
        "colab": {
          "base_uri": "https://localhost:8080/"
        },
        "id": "qe3NPRTBPw6H",
        "outputId": "631a33a2-952b-4f07-e27d-92c5fa6e1db9"
      },
      "execution_count": null,
      "outputs": [
        {
          "output_type": "stream",
          "name": "stdout",
          "text": [
            "2\n",
            "anmol\n",
            "khushi\n",
            ".\n",
            "h\n"
          ]
        }
      ]
    },
    {
      "cell_type": "code",
      "source": [
        "def compress_string(s):\n",
        "    if not s:\n",
        "        return \"\"\n",
        "\n",
        "    compressed = []\n",
        "    count = 1\n",
        "    for i in range(1, len(s)):\n",
        "        if s[i] == s[i - 1]:\n",
        "            count += 1\n",
        "        else:\n",
        "            compressed.append(f\"{s[i - 1]}{count}\")\n",
        "            count = 1\n",
        "    compressed.append(f\"{s[-1]}{count}\")\n",
        "\n",
        "    return ''.join(compressed)\n",
        "\n",
        "\n",
        "s = input().strip()\n",
        "print(compress_string(s))\n"
      ],
      "metadata": {
        "id": "1dnUB2YQQ9pn"
      },
      "execution_count": null,
      "outputs": []
    },
    {
      "cell_type": "code",
      "source": [
        "for _ in range(int(input())):\n",
        "  x=input()\n",
        "  y=input()\n",
        "  st=''\n",
        "  for i in range(len(x)):\n",
        "    if x[i]==y[i]:\n",
        "      st=st+'G'\n",
        "    else:\n",
        "      st=st+'B'\n",
        "  print(st)"
      ],
      "metadata": {
        "colab": {
          "base_uri": "https://localhost:8080/"
        },
        "id": "U7jODWCX0jqV",
        "outputId": "6dc5b264-1a44-4fb8-b2f8-9a08e49c1b1e"
      },
      "execution_count": 5,
      "outputs": [
        {
          "output_type": "stream",
          "name": "stdout",
          "text": [
            "1\n",
            "ABCDE\n",
            "BBCGH\n",
            "BGGBB\n"
          ]
        }
      ]
    },
    {
      "cell_type": "code",
      "source": [
        "for _ in range(int(input())):\n",
        "  n=int(input())\n",
        "  x=list(map(int,input().split()))\n",
        "  for i in range(1,len(x)-2):\n",
        "    if x[i]==x[i-1] or x[i]==x[i+1]:\n",
        "      n-=1\n",
        "print(n)"
      ],
      "metadata": {
        "id": "JkGhhGeR1lFw"
      },
      "execution_count": null,
      "outputs": []
    },
    {
      "cell_type": "code",
      "source": [
        "def is_possible_multiple_of_5(d, n_str):\n",
        "    # Check if there's a '0' or '5' in the string representation of the number\n",
        "    return '0' in n_str or '5' in n_str\n",
        "\n",
        "def main():\n",
        "    t = int(input().strip())\n",
        "    results = []\n",
        "    for _ in range(t):\n",
        "        d = int(input().strip())  # Read the number of digits (not used in the check)\n",
        "        n_str = input().strip()\n",
        "        if is_possible_multiple_of_5(d, n_str):\n",
        "            results.append(\"Yes\")\n",
        "        else:\n",
        "            results.append(\"No\")\n",
        "\n",
        "    # Output all results for the test cases\n",
        "    for result in results:\n",
        "        print(result)\n",
        "\n",
        "# Example usage\n",
        "if __name__ == \"__main__\":\n",
        "    main()\n"
      ],
      "metadata": {
        "colab": {
          "base_uri": "https://localhost:8080/"
        },
        "id": "oQ729hP--ybS",
        "outputId": "d1f3ae4a-21bd-4330-eeee-f3ee26f9dc83"
      },
      "execution_count": 11,
      "outputs": [
        {
          "output_type": "stream",
          "name": "stdout",
          "text": [
            "1\n",
            "2\n",
            "99\n",
            "No\n"
          ]
        }
      ]
    },
    {
      "cell_type": "code",
      "source": [
        "for _ in range(int(input())):\n",
        "  st=input()\n",
        "  vowels = set('aeiou')\n",
        "  count = 0\n",
        "  for char in st:\n",
        "        if char in vowels:\n",
        "            count += 1\n",
        "            if count > 2:\n",
        "                print(\"HAPPY\")\n",
        "                break\n",
        "            else:\n",
        "                count = 0\n",
        "  else:print(\"SAD\")\n",
        "\n"
      ],
      "metadata": {
        "colab": {
          "base_uri": "https://localhost:8080/"
        },
        "id": "7dxHKdxT-5fY",
        "outputId": "0f9d47a9-9aff-4866-b927-7c14185ac251"
      },
      "execution_count": 20,
      "outputs": [
        {
          "output_type": "stream",
          "name": "stdout",
          "text": [
            "1\n",
            "adaeiou\n",
            "SAD\n"
          ]
        }
      ]
    },
    {
      "cell_type": "code",
      "source": [
        "st=input()\n",
        "nr=int(input())\n",
        "rot=len(st)-nr\n",
        "print(st[rot:]+st[:rot])"
      ],
      "metadata": {
        "colab": {
          "base_uri": "https://localhost:8080/"
        },
        "id": "rMDRFpPzFlVd",
        "outputId": "bf611083-0258-4db0-cfac-692a53094340"
      },
      "execution_count": 21,
      "outputs": [
        {
          "output_type": "stream",
          "name": "stdout",
          "text": [
            "abcv\n",
            "2\n",
            "cvab\n"
          ]
        }
      ]
    },
    {
      "cell_type": "code",
      "source": [],
      "metadata": {
        "id": "PaFoc6mXLQwV"
      },
      "execution_count": null,
      "outputs": []
    }
  ]
}