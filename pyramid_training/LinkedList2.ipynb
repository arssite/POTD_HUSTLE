{
  "nbformat": 4,
  "nbformat_minor": 0,
  "metadata": {
    "colab": {
      "provenance": [],
      "authorship_tag": "ABX9TyPD/PCKt08UyqOPAgP7FTiw",
      "include_colab_link": true
    },
    "kernelspec": {
      "name": "python3",
      "display_name": "Python 3"
    },
    "language_info": {
      "name": "python"
    }
  },
  "cells": [
    {
      "cell_type": "markdown",
      "metadata": {
        "id": "view-in-github",
        "colab_type": "text"
      },
      "source": [
        "<a href=\"https://colab.research.google.com/github/arssite/POTD_HUSTLE/blob/main/pyramid_training/LinkedList2.ipynb\" target=\"_parent\"><img src=\"https://colab.research.google.com/assets/colab-badge.svg\" alt=\"Open In Colab\"/></a>"
      ]
    },
    {
      "cell_type": "code",
      "execution_count": null,
      "metadata": {
        "id": "84MAAC5TnT1n"
      },
      "outputs": [],
      "source": [
        "class Node():\n",
        "  def __init__(self,data):\n",
        "    self.data=data\n",
        "    self.next=None"
      ]
    },
    {
      "cell_type": "code",
      "source": [
        "class LinkedList():\n",
        "  def __init__(self):\n",
        "    self.head=None\n",
        "\n",
        "  def append(self,data):\n",
        "    if self.head is None:\n",
        "      self.head=Node(data)\n",
        "    else:\n",
        "      temp=self.head\n",
        "      while temp.next:\n",
        "        temp=temp.next\n",
        "      temp.next=Node(data)\n",
        "  def display(self):\n",
        "    if self.head is None:\n",
        "      print(\"Empty\")\n",
        "\n",
        "    temp=self.head\n",
        "    while temp:\n",
        "      print(temp.data,end=\" \")\n",
        "      temp=temp.next"
      ],
      "metadata": {
        "id": "VG_lilXlnhNN"
      },
      "execution_count": null,
      "outputs": []
    },
    {
      "cell_type": "code",
      "source": [
        "a=LinkedList()\n",
        "a.append(10)\n",
        "a.display()"
      ],
      "metadata": {
        "colab": {
          "base_uri": "https://localhost:8080/"
        },
        "id": "KbZa97qKnom5",
        "outputId": "bdd408b7-4c4d-49e4-ac63-c5e9eccfb0fc"
      },
      "execution_count": null,
      "outputs": [
        {
          "output_type": "stream",
          "name": "stdout",
          "text": [
            "10 "
          ]
        }
      ]
    },
    {
      "cell_type": "code",
      "source": [
        "b=LinkedList()\n",
        "#b.append(20)\n",
        "b.display()"
      ],
      "metadata": {
        "colab": {
          "base_uri": "https://localhost:8080/"
        },
        "id": "X8-eQI8cns7p",
        "outputId": "e5937a3a-b148-459c-d2e6-e962033c6f0e"
      },
      "execution_count": null,
      "outputs": [
        {
          "output_type": "stream",
          "name": "stdout",
          "text": [
            "Empty\n"
          ]
        }
      ]
    },
    {
      "cell_type": "code",
      "source": [
        "s=Node(8)\n",
        "s.data"
      ],
      "metadata": {
        "colab": {
          "base_uri": "https://localhost:8080/"
        },
        "id": "MT1EUanTn7dJ",
        "outputId": "16cab192-2a98-47b7-d19d-76c1113c81ce"
      },
      "execution_count": null,
      "outputs": [
        {
          "output_type": "execute_result",
          "data": {
            "text/plain": [
              "8"
            ]
          },
          "metadata": {},
          "execution_count": 22
        }
      ]
    },
    {
      "cell_type": "markdown",
      "source": [
        "Creating Single LinkedList"
      ],
      "metadata": {
        "id": "AkSQQsYhrLRh"
      }
    },
    {
      "cell_type": "code",
      "source": [
        "class Node():\n",
        "  def __init__(self,data):\n",
        "    self.data=data\n",
        "    self.next=None"
      ],
      "metadata": {
        "id": "PHpHXVfjrQGH"
      },
      "execution_count": null,
      "outputs": []
    },
    {
      "cell_type": "code",
      "source": [
        "class LL():\n",
        "  def __init__(self):\n",
        "    self.head=None\n",
        "\n",
        "  def insertatbeg(self,data):\n",
        "    if self.head==None:\n",
        "      self.head=Node(data)\n",
        "    else:\n",
        "      temp=Node(data)\n",
        "      #so here we do a swap firstly store the new data into temp then push current head to next of temp, finally change current head with new data which is stored in temp.\n",
        "      temp.next=self.head\n",
        "      self.head=temp\n",
        "#newnode=Node(num)\n",
        "#newnode.next=self.head\n",
        "#self.head=newnode\n",
        "  def printlist(self):\n",
        "    if self.head==None:\n",
        "      print(\"\\n Empty\\n\\n\")\n",
        "    else:\n",
        "      temp=self.head\n",
        "      while temp:\n",
        "        print(temp.data,end=\" > \")\n",
        "        temp=temp.next\n"
      ],
      "metadata": {
        "id": "WwgZOxsprZo-"
      },
      "execution_count": null,
      "outputs": []
    },
    {
      "cell_type": "code",
      "source": [
        "class SLL():\n",
        "  obj=LL()\n",
        "  while True:\n",
        "    inp=input(\"\\n\\n--------\\nChoices\\n--------\\n\\n 0: for display\\n 1: for Insert \\n 2: for exit\\n\")\n",
        "    if inp==\"0\":\n",
        "      obj.printlist()\n",
        "    elif inp==\"1\":\n",
        "      num=int(input(\"Enter number: \"))\n",
        "      obj.insertatbeg(num)\n",
        "    elif inp==\"2\":\n",
        "      break\n",
        "    else:\n",
        "      print(\"\\nEnter a Valid Choice\\n\")"
      ],
      "metadata": {
        "colab": {
          "base_uri": "https://localhost:8080/"
        },
        "id": "YoVGx5VptFxC",
        "outputId": "dccdcde5-3d38-4242-f1b0-d196221ca84f"
      },
      "execution_count": null,
      "outputs": [
        {
          "name": "stdout",
          "output_type": "stream",
          "text": [
            "\n",
            "\n",
            "--------\n",
            "Choices\n",
            "--------\n",
            "\n",
            " 0: for display\n",
            " 1: for Insert \n",
            " 2: for exit\n",
            "0\n",
            "\n",
            " Empty\n",
            "\n",
            "\n",
            "\n",
            "\n",
            "--------\n",
            "Choices\n",
            "--------\n",
            "\n",
            " 0: for display\n",
            " 1: for Insert \n",
            " 2: for exit\n",
            "1\n",
            "Enter number: 56\n",
            "\n",
            "\n",
            "--------\n",
            "Choices\n",
            "--------\n",
            "\n",
            " 0: for display\n",
            " 1: for Insert \n",
            " 2: for exit\n",
            "3\n",
            "\n",
            "Enter a Valid Choice\n",
            "\n",
            "\n",
            "\n",
            "--------\n",
            "Choices\n",
            "--------\n",
            "\n",
            " 0: for display\n",
            " 1: for Insert \n",
            " 2: for exit\n",
            "1\n",
            "Enter number: 253\n",
            "\n",
            "\n",
            "--------\n",
            "Choices\n",
            "--------\n",
            "\n",
            " 0: for display\n",
            " 1: for Insert \n",
            " 2: for exit\n",
            "1\n",
            "Enter number: 855\n",
            "\n",
            "\n",
            "--------\n",
            "Choices\n",
            "--------\n",
            "\n",
            " 0: for display\n",
            " 1: for Insert \n",
            " 2: for exit\n",
            "0\n",
            "855 > 253 > 56 > \n",
            "\n",
            "--------\n",
            "Choices\n",
            "--------\n",
            "\n",
            " 0: for display\n",
            " 1: for Insert \n",
            " 2: for exit\n",
            "2\n"
          ]
        }
      ]
    },
    {
      "cell_type": "code",
      "source": [
        "class LL():\n",
        "  def __init__(self):\n",
        "    self.head=None\n",
        "\n",
        "  def append(self,data):\n",
        "    if self.head==None:\n",
        "      self.head=Node(data)\n",
        "    else:\n",
        "      temp=self.head\n",
        "      while temp.next:\n",
        "        temp=temp.next\n",
        "      temp.next=Node(data)\n",
        "\n",
        "  def insertatbeg(self,data):\n",
        "    if self.head==None:\n",
        "      self.head=Node(data)\n",
        "    else:\n",
        "      temp=Node(data)\n",
        "      #so here we do a swap firstly store the new data into temp then push current head to next of temp, finally change current head with new data which is stored in temp.\n",
        "      temp.next=self.head\n",
        "      self.head=temp\n",
        "#newnode=Node(num)\n",
        "#newnode.next=self.head\n",
        "#self.head=newnode\n",
        "  def printlist(self):\n",
        "    if self.head==None:\n",
        "      print(\"\\n Empty\\n\\n\")\n",
        "    else:\n",
        "      temp=self.head\n",
        "      while temp:\n",
        "        print(temp.data,end=\" > \")\n",
        "        temp=temp.next\n"
      ],
      "metadata": {
        "id": "korvPkKJtN4I"
      },
      "execution_count": null,
      "outputs": []
    },
    {
      "cell_type": "code",
      "source": [
        "class SLL():\n",
        "  obj=LL()\n",
        "  while True:\n",
        "    inp=input(\"\\n\\n--------\\nChoices\\n--------\\n\\n 0: for display\\n 1: for Insert \\n 2: for exit\\n 3: append at last \\n\")\n",
        "    if inp==\"0\":\n",
        "      obj.printlist()\n",
        "    elif inp==\"1\":\n",
        "      num=int(input(\"Enter number: \"))\n",
        "      obj.insertatbeg(num)\n",
        "    elif inp==\"2\":\n",
        "      break\n",
        "    elif inp==\"3\":\n",
        "      num=int(input(\"Enter number: \"))\n",
        "      obj.append(num)\n",
        "    else:\n",
        "      print(\"\\nEnter a Valid Choice\\n\")"
      ],
      "metadata": {
        "colab": {
          "base_uri": "https://localhost:8080/"
        },
        "id": "BmIz92O30MjC",
        "outputId": "d202ca14-1ccb-4a03-aa73-2b0b5f4d8f09"
      },
      "execution_count": null,
      "outputs": [
        {
          "name": "stdout",
          "output_type": "stream",
          "text": [
            "\n",
            "\n",
            "--------\n",
            "Choices\n",
            "--------\n",
            "\n",
            " 0: for display\n",
            " 1: for Insert \n",
            " 2: for exit\n",
            " 3: append at last \n",
            "3\n",
            "Enter number: 25\n",
            "\n",
            "\n",
            "--------\n",
            "Choices\n",
            "--------\n",
            "\n",
            " 0: for display\n",
            " 1: for Insert \n",
            " 2: for exit\n",
            " 3: append at last \n",
            "3\n",
            "Enter number: 26\n",
            "\n",
            "\n",
            "--------\n",
            "Choices\n",
            "--------\n",
            "\n",
            " 0: for display\n",
            " 1: for Insert \n",
            " 2: for exit\n",
            " 3: append at last \n",
            "0\n",
            "25 > 26 > \n",
            "\n",
            "--------\n",
            "Choices\n",
            "--------\n",
            "\n",
            " 0: for display\n",
            " 1: for Insert \n",
            " 2: for exit\n",
            " 3: append at last \n",
            "3\n",
            "Enter number: 56\n",
            "\n",
            "\n",
            "--------\n",
            "Choices\n",
            "--------\n",
            "\n",
            " 0: for display\n",
            " 1: for Insert \n",
            " 2: for exit\n",
            " 3: append at last \n",
            "0\n",
            "25 > 26 > 56 > \n",
            "\n",
            "--------\n",
            "Choices\n",
            "--------\n",
            "\n",
            " 0: for display\n",
            " 1: for Insert \n",
            " 2: for exit\n",
            " 3: append at last \n",
            "2\n"
          ]
        }
      ]
    },
    {
      "cell_type": "code",
      "source": [
        "class Node():\n",
        "  def __init__(self,data):\n",
        "    self.data=data\n",
        "    self.next=None"
      ],
      "metadata": {
        "id": "TBShLftLLEWg"
      },
      "execution_count": 2,
      "outputs": []
    },
    {
      "cell_type": "code",
      "source": [
        "class LL():\n",
        "  def __init__(self):\n",
        "    self.head=None\n",
        "\n",
        "  def insertatpos(self,p,data):\n",
        "    newnode=Node(data)\n",
        "    if p<0:\n",
        "      print(\"invalid\")\n",
        "    elif p==1:\n",
        "      newnode.next=self.head\n",
        "      self.head=newnode\n",
        "    else:\n",
        "      curr=self.head\n",
        "      for i in range(p-1):\n",
        "        curr=curr.next\n",
        "        if curr is None:\n",
        "          print(\"Invaid Position\")\n",
        "        newnode.next=curr.next\n",
        "        curr.next=newnode\n",
        "\n",
        "  def delatend(self):\n",
        "    if self.head is None:\n",
        "      print(\"empty\")\n",
        "    elif self.head.next is None:\n",
        "      self.head=None\n",
        "    else:\n",
        "      last=self.head\n",
        "      slast=self.head\n",
        "      while last.next is not None:\n",
        "        slast=last\n",
        "        last=last.next\n",
        "      slast.next=None\n",
        "\n",
        "  def delfromlast(self):\n",
        "    if self.head is None:\n",
        "      print(\"empty\")\n",
        "    else:\n",
        "      temp=self.head\n",
        "      if temp.next is None:\n",
        "        temp=None\n",
        "      else:\n",
        "        while temp.next.next:\n",
        "          temp=temp.next\n",
        "        temp.next=None\n",
        "\n",
        "\n",
        "  def delhead(self):\n",
        "    if self.head==None:\n",
        "      print(\"Empty\")\n",
        "    else:\n",
        "      self.head=self.head.next\n",
        "\n",
        "  def delatpos(self,p):\n",
        "    if p<0:\n",
        "      print(\"Invalid Position\")\n",
        "    elif self.head is None:\n",
        "      print(\"Empty\")\n",
        "    elif p==0:\n",
        "      self.head=self.head.next\n",
        "    else:\n",
        "      curr=self.head\n",
        "      for i in range(p-1):\n",
        "        if curr is None or curr.next is None:\n",
        "          print(\"Invalid position\")\n",
        "          return\n",
        "        curr=curr.next\n",
        "      curr.next=curr.next.next\n",
        "\n",
        "  def append(self,data):\n",
        "    if self.head==None:\n",
        "      self.head=Node(data)\n",
        "    else:\n",
        "      temp=self.head\n",
        "      while temp.next:\n",
        "        temp=temp.next\n",
        "      temp.next=Node(data)\n",
        "\n",
        "  def insertatbeg(self,data):\n",
        "    if self.head==None:\n",
        "      self.head=Node(data)\n",
        "    else:\n",
        "      temp=Node(data)\n",
        "      #so here we do a swap firstly store the new data into temp then push current head to next of temp, finally change current head with new data which is stored in temp.\n",
        "      temp.next=self.head\n",
        "      self.head=temp\n",
        "    #newnode=Node(num)\n",
        "    #newnode.next=self.head\n",
        "    #self.head=newnode\n",
        "  def printlist(self):\n",
        "    if self.head==None:\n",
        "      print(\"\\n Empty\\n\\n\")\n",
        "    else:\n",
        "      temp=self.head\n",
        "      while temp:\n",
        "        print(temp.data,end=\" > \")\n",
        "        temp=temp.next"
      ],
      "metadata": {
        "colab": {
          "base_uri": "https://localhost:8080/"
        },
        "id": "Kl26RJtMLI8X",
        "outputId": "7fddd002-7b27-4d12-ae5b-5d5e22f614a9"
      },
      "execution_count": 40,
      "outputs": [
        {
          "output_type": "stream",
          "name": "stderr",
          "text": [
            "/usr/lib/python3.10/tokenize.py:527: RuntimeWarning: coroutine 'main' was never awaited\n",
            "  pseudomatch = _compile(PseudoToken).match(line, pos)\n",
            "RuntimeWarning: Enable tracemalloc to get the object allocation traceback\n"
          ]
        }
      ]
    },
    {
      "cell_type": "code",
      "source": [
        "class SLL():\n",
        "  obj=LL()\n",
        "  while True:\n",
        "    inp=input(\"\\n\\n--------\\nChoices\\n--------\\n\\n 0: for display\\n 1: for Insert \\n 2: for exit\\n 3: append at last \\n 5: del head \\n 4: del last \\n 44: de at end \\n 6 : insert at pos\\n 7: Del with pos \\n\")\n",
        "    if inp==\"0\":\n",
        "      obj.printlist()\n",
        "    elif inp==\"5\":\n",
        "      obj.delhead()\n",
        "    elif inp==\"44\":\n",
        "      obj.delatend()\n",
        "    elif inp==\"4\":\n",
        "      obj.delfromlast()\n",
        "    elif inp==\"1\":\n",
        "      num=int(input(\"Enter number: \"))\n",
        "      obj.insertatbeg(num)\n",
        "    elif inp==\"2\":\n",
        "      break\n",
        "    elif inp==\"3\":\n",
        "      num=int(input(\"Enter number: \"))\n",
        "      obj.append(num)\n",
        "    elif inp==\"6\":\n",
        "      x=int(input(\"pos\"))\n",
        "      e=int(input(\"emenet\"))\n",
        "      obj.insertatpos(x,e)\n",
        "    elif inp==\"7\":\n",
        "      x=int(input(\"pos\"))\n",
        "      obj.delatpos(x)\n",
        "    else:\n",
        "      print(\"\\nEnter a Valid Choice\\n\")"
      ],
      "metadata": {
        "colab": {
          "base_uri": "https://localhost:8080/"
        },
        "id": "CGLKvh0TLMHX",
        "outputId": "87a42910-8942-4339-ca23-d7ed2596c1d3"
      },
      "execution_count": 41,
      "outputs": [
        {
          "name": "stdout",
          "output_type": "stream",
          "text": [
            "\n",
            "\n",
            "--------\n",
            "Choices\n",
            "--------\n",
            "\n",
            " 0: for display\n",
            " 1: for Insert \n",
            " 2: for exit\n",
            " 3: append at last \n",
            " 5: del head \n",
            " 4: del last \n",
            " 44: de at end \n",
            " 6 : insert at pos\n",
            " 7: Del with pos \n",
            "1\n",
            "Enter number: 52\n",
            "\n",
            "\n",
            "--------\n",
            "Choices\n",
            "--------\n",
            "\n",
            " 0: for display\n",
            " 1: for Insert \n",
            " 2: for exit\n",
            " 3: append at last \n",
            " 5: del head \n",
            " 4: del last \n",
            " 44: de at end \n",
            " 6 : insert at pos\n",
            " 7: Del with pos \n",
            "3\n",
            "Enter number: 85\n",
            "\n",
            "\n",
            "--------\n",
            "Choices\n",
            "--------\n",
            "\n",
            " 0: for display\n",
            " 1: for Insert \n",
            " 2: for exit\n",
            " 3: append at last \n",
            " 5: del head \n",
            " 4: del last \n",
            " 44: de at end \n",
            " 6 : insert at pos\n",
            " 7: Del with pos \n",
            "6\n",
            "pos1\n",
            "emenet11\n",
            "\n",
            "\n",
            "--------\n",
            "Choices\n",
            "--------\n",
            "\n",
            " 0: for display\n",
            " 1: for Insert \n",
            " 2: for exit\n",
            " 3: append at last \n",
            " 5: del head \n",
            " 4: del last \n",
            " 44: de at end \n",
            " 6 : insert at pos\n",
            " 7: Del with pos \n",
            "7\n",
            "pos1\n",
            "\n",
            "\n",
            "--------\n",
            "Choices\n",
            "--------\n",
            "\n",
            " 0: for display\n",
            " 1: for Insert \n",
            " 2: for exit\n",
            " 3: append at last \n",
            " 5: del head \n",
            " 4: del last \n",
            " 44: de at end \n",
            " 6 : insert at pos\n",
            " 7: Del with pos \n",
            "0\n",
            "11 > 85 > \n",
            "\n",
            "--------\n",
            "Choices\n",
            "--------\n",
            "\n",
            " 0: for display\n",
            " 1: for Insert \n",
            " 2: for exit\n",
            " 3: append at last \n",
            " 5: del head \n",
            " 4: del last \n",
            " 44: de at end \n",
            " 6 : insert at pos\n",
            " 7: Del with pos \n",
            "7\n",
            "pos0\n",
            "\n",
            "\n",
            "--------\n",
            "Choices\n",
            "--------\n",
            "\n",
            " 0: for display\n",
            " 1: for Insert \n",
            " 2: for exit\n",
            " 3: append at last \n",
            " 5: del head \n",
            " 4: del last \n",
            " 44: de at end \n",
            " 6 : insert at pos\n",
            " 7: Del with pos \n",
            "0\n",
            "85 > \n",
            "\n",
            "--------\n",
            "Choices\n",
            "--------\n",
            "\n",
            " 0: for display\n",
            " 1: for Insert \n",
            " 2: for exit\n",
            " 3: append at last \n",
            " 5: del head \n",
            " 4: del last \n",
            " 44: de at end \n",
            " 6 : insert at pos\n",
            " 7: Del with pos \n",
            "2\n"
          ]
        }
      ]
    },
    {
      "cell_type": "code",
      "source": [
        "\n",
        "\n",
        "\n"
      ],
      "metadata": {
        "id": "YQO06aKELj7A"
      },
      "execution_count": 37,
      "outputs": []
    },
    {
      "cell_type": "code",
      "source": [
        "import threading\n",
        "\n",
        "def task():\n",
        "    print(\"Executing task\")\n",
        "\n",
        "# Create threads\n",
        "threads = []\n",
        "for _ in range(5):\n",
        "    thread = threading.Thread(target=task)\n",
        "    threads.append(thread)\n",
        "    thread.start()\n",
        "\n",
        "# Wait for all threads to complete\n",
        "for thread in threads:\n",
        "    thread.join()\n"
      ],
      "metadata": {
        "colab": {
          "base_uri": "https://localhost:8080/"
        },
        "id": "rGL7UENwd1uA",
        "outputId": "8f36a4a0-cde7-4248-a19a-9260471ce4ce"
      },
      "execution_count": 32,
      "outputs": [
        {
          "output_type": "stream",
          "name": "stdout",
          "text": [
            "Executing task\n",
            "Executing task\n",
            "Executing task\n",
            "Executing task\n",
            "Executing task\n"
          ]
        }
      ]
    },
    {
      "cell_type": "code",
      "source": [
        "import multiprocessing\n",
        "\n",
        "def task():\n",
        "    print(\"Executing task\")\n",
        "\n",
        "# Create processes\n",
        "processes = []\n",
        "for _ in range(5):\n",
        "    process = multiprocessing.Process(target=task)\n",
        "    processes.append(process)\n",
        "    process.start()\n",
        "\n",
        "# Wait for all processes to complete\n",
        "for process in processes:\n",
        "    process.join()\n"
      ],
      "metadata": {
        "colab": {
          "base_uri": "https://localhost:8080/"
        },
        "id": "haFFISQTjprW",
        "outputId": "1c361b06-0b35-4c2f-b556-45570dd09597"
      },
      "execution_count": 33,
      "outputs": [
        {
          "output_type": "stream",
          "name": "stdout",
          "text": [
            "Executing taskExecuting task\n",
            "\n",
            "Executing task\n",
            "Executing taskExecuting task\n",
            "\n"
          ]
        }
      ]
    },
    {
      "cell_type": "code",
      "source": [
        "from concurrent.futures import ThreadPoolExecutor\n",
        "\n",
        "def task():\n",
        "    print(\"Executing task\")\n",
        "\n",
        "# Create thread pool executor\n",
        "with ThreadPoolExecutor(max_workers=5) as executor:\n",
        "    futures = [executor.submit(task) for _ in range(5)]\n",
        "\n",
        "# Wait for all tasks to complete\n",
        "for future in futures:\n",
        "    future.result()\n"
      ],
      "metadata": {
        "colab": {
          "base_uri": "https://localhost:8080/"
        },
        "id": "_qkwlfLCjtnm",
        "outputId": "884220ad-3bcf-4cbc-ade1-6ad48507e661"
      },
      "execution_count": 34,
      "outputs": [
        {
          "output_type": "stream",
          "name": "stdout",
          "text": [
            "Executing task\n",
            "Executing task\n",
            "Executing task\n",
            "Executing taskExecuting task\n",
            "\n"
          ]
        }
      ]
    },
    {
      "cell_type": "code",
      "source": [
        "from concurrent.futures import ProcessPoolExecutor\n",
        "\n",
        "def task():\n",
        "    print(\"Executing task\")\n",
        "\n",
        "# Create process pool executor\n",
        "with ProcessPoolExecutor(max_workers=5) as executor:\n",
        "    futures = [executor.submit(task) for _ in range(5)]\n",
        "\n",
        "# Wait for all tasks to complete\n",
        "for future in futures:\n",
        "    future.result()\n"
      ],
      "metadata": {
        "colab": {
          "base_uri": "https://localhost:8080/"
        },
        "id": "Z3VhN7vzj0ef",
        "outputId": "c9d5e1ea-4890-4f98-d75d-dbec04df794e"
      },
      "execution_count": 35,
      "outputs": [
        {
          "output_type": "stream",
          "name": "stdout",
          "text": [
            "Executing taskExecuting taskExecuting taskExecuting task\n",
            "Executing task\n",
            "\n",
            "\n",
            "\n"
          ]
        }
      ]
    },
    {
      "cell_type": "code",
      "source": [
        "import asyncio\n",
        "\n",
        "async def task():\n",
        "    print(\"Executing task\")\n",
        "    await asyncio.sleep(1)\n",
        "\n",
        "# Run tasks concurrently\n",
        "async def main():\n",
        "    tasks = [task() for _ in range(5)]\n",
        "    await asyncio.gather(*tasks)\n",
        "\n",
        "# Run the event loop\n",
        "asyncio.run(main())\n"
      ],
      "metadata": {
        "colab": {
          "base_uri": "https://localhost:8080/",
          "height": 297
        },
        "id": "rUiLL8Hdj3oH",
        "outputId": "adf182d4-643f-49e9-af4f-84ca677bb147"
      },
      "execution_count": 36,
      "outputs": [
        {
          "output_type": "error",
          "ename": "RuntimeError",
          "evalue": "asyncio.run() cannot be called from a running event loop",
          "traceback": [
            "\u001b[0;31m---------------------------------------------------------------------------\u001b[0m",
            "\u001b[0;31mRuntimeError\u001b[0m                              Traceback (most recent call last)",
            "\u001b[0;32m<ipython-input-36-1b7d3f66f3c4>\u001b[0m in \u001b[0;36m<cell line: 13>\u001b[0;34m()\u001b[0m\n\u001b[1;32m     11\u001b[0m \u001b[0;34m\u001b[0m\u001b[0m\n\u001b[1;32m     12\u001b[0m \u001b[0;31m# Run the event loop\u001b[0m\u001b[0;34m\u001b[0m\u001b[0;34m\u001b[0m\u001b[0m\n\u001b[0;32m---> 13\u001b[0;31m \u001b[0masyncio\u001b[0m\u001b[0;34m.\u001b[0m\u001b[0mrun\u001b[0m\u001b[0;34m(\u001b[0m\u001b[0mmain\u001b[0m\u001b[0;34m(\u001b[0m\u001b[0;34m)\u001b[0m\u001b[0;34m)\u001b[0m\u001b[0;34m\u001b[0m\u001b[0;34m\u001b[0m\u001b[0m\n\u001b[0m",
            "\u001b[0;32m/usr/lib/python3.10/asyncio/runners.py\u001b[0m in \u001b[0;36mrun\u001b[0;34m(main, debug)\u001b[0m\n\u001b[1;32m     31\u001b[0m     \"\"\"\n\u001b[1;32m     32\u001b[0m     \u001b[0;32mif\u001b[0m \u001b[0mevents\u001b[0m\u001b[0;34m.\u001b[0m\u001b[0m_get_running_loop\u001b[0m\u001b[0;34m(\u001b[0m\u001b[0;34m)\u001b[0m \u001b[0;32mis\u001b[0m \u001b[0;32mnot\u001b[0m \u001b[0;32mNone\u001b[0m\u001b[0;34m:\u001b[0m\u001b[0;34m\u001b[0m\u001b[0;34m\u001b[0m\u001b[0m\n\u001b[0;32m---> 33\u001b[0;31m         raise RuntimeError(\n\u001b[0m\u001b[1;32m     34\u001b[0m             \"asyncio.run() cannot be called from a running event loop\")\n\u001b[1;32m     35\u001b[0m \u001b[0;34m\u001b[0m\u001b[0m\n",
            "\u001b[0;31mRuntimeError\u001b[0m: asyncio.run() cannot be called from a running event loop"
          ]
        }
      ]
    },
    {
      "cell_type": "code",
      "source": [],
      "metadata": {
        "id": "CKVdwLZ8j6qm"
      },
      "execution_count": null,
      "outputs": []
    }
  ]
}