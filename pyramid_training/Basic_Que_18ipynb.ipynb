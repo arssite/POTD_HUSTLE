{
  "nbformat": 4,
  "nbformat_minor": 0,
  "metadata": {
    "colab": {
      "provenance": [],
      "authorship_tag": "ABX9TyP0VRR0aTqd+eX44hMBxYMq",
      "include_colab_link": true
    },
    "kernelspec": {
      "name": "python3",
      "display_name": "Python 3"
    },
    "language_info": {
      "name": "python"
    }
  },
  "cells": [
    {
      "cell_type": "markdown",
      "metadata": {
        "id": "view-in-github",
        "colab_type": "text"
      },
      "source": [
        "<a href=\"https://colab.research.google.com/github/arssite/POTD_HUSTLE/blob/main/pyramid_training/Basic_Que_18ipynb.ipynb\" target=\"_parent\"><img src=\"https://colab.research.google.com/assets/colab-badge.svg\" alt=\"Open In Colab\"/></a>"
      ]
    },
    {
      "cell_type": "code",
      "source": [
        "#circle in a rectangle\n",
        "w,h,x,y,r=map(int,input().split())\n",
        "if (x+r<=w) and (y+r<=h) and (x-r>=0) and (y-r>=0):\n",
        "  print(\"Yes\")\n",
        "else:\n",
        "  print(\"No\")"
      ],
      "metadata": {
        "colab": {
          "base_uri": "https://localhost:8080/"
        },
        "id": "1Po-nH9qFHr4",
        "outputId": "0e96dc8c-50ca-488a-e7d8-88d9364830d7"
      },
      "execution_count": 17,
      "outputs": [
        {
          "output_type": "stream",
          "name": "stdout",
          "text": [
            "5 4 3 4 1\n",
            "No\n"
          ]
        }
      ]
    },
    {
      "cell_type": "code",
      "source": [],
      "metadata": {
        "id": "CI7zV7DrMuOS"
      },
      "execution_count": null,
      "outputs": []
    },
    {
      "cell_type": "code",
      "source": [
        "#greater Avaerage\n",
        "for _ in range(int(input())):\n",
        "  a,b,c=map(int,input().split())\n",
        "  av=(a+b)/2\n",
        "  if av>c:\n",
        "    print(\"Yes\")\n",
        "  else:\n",
        "    print(\"No\")"
      ],
      "metadata": {
        "colab": {
          "base_uri": "https://localhost:8080/"
        },
        "id": "EZc7-Qc6FvdC",
        "outputId": "7d43efcc-573a-41f9-8322-afb59a8c199f"
      },
      "execution_count": 6,
      "outputs": [
        {
          "output_type": "stream",
          "name": "stdout",
          "text": [
            "5\n",
            "5 9 6\n",
            "Yes\n",
            "5 8 6\n",
            "Yes\n",
            "5 7 6\n",
            "No\n",
            "4 9 8\n",
            "No\n",
            "3 7 2\n",
            "Yes\n"
          ]
        }
      ]
    },
    {
      "cell_type": "code",
      "source": [
        "#maximum submission\n",
        "for _ in range(int(input())):\n",
        "  n=(int(input())*60)/30\n",
        "  print(int(n))\n",
        "\n",
        "\n"
      ],
      "metadata": {
        "colab": {
          "base_uri": "https://localhost:8080/"
        },
        "id": "F-3cTwJFG3TN",
        "outputId": "25aa5a78-9b1b-495c-fbaf-11532b433dcb"
      },
      "execution_count": 7,
      "outputs": [
        {
          "output_type": "stream",
          "name": "stdout",
          "text": [
            "4\n",
            "1\n",
            "2\n",
            "2\n",
            "4\n",
            "3\n",
            "6\n",
            "4\n",
            "8\n"
          ]
        }
      ]
    },
    {
      "cell_type": "code",
      "source": [
        "#W-next Round\n",
        "\n",
        "n,k=map(int,input().split())\n",
        "a=list(map(int,input().split()))\n",
        "c=0\n",
        "for i in a:\n",
        "  if i>=a[k-1] and i>0:\n",
        "    c+=1\n",
        "print(c)\n",
        ""
      ],
      "metadata": {
        "colab": {
          "base_uri": "https://localhost:8080/"
        },
        "id": "sY1CXXwpHp7u",
        "outputId": "dfa6bd68-28d2-46ac-f750-5a3c26fa28c3"
      },
      "execution_count": 21,
      "outputs": [
        {
          "output_type": "stream",
          "name": "stdout",
          "text": [
            "4 2\n",
            "0 0 0 0\n",
            "0\n"
          ]
        }
      ]
    },
    {
      "cell_type": "code",
      "source": [
        "#Theatre Square\n",
        "import math\n",
        "x,y,a=map(int,input().split())\n",
        "t1=math.ceil(x/a)\n",
        "t2=math.ceil(y/a)\n",
        "print(t1*t2)"
      ],
      "metadata": {
        "colab": {
          "base_uri": "https://localhost:8080/"
        },
        "id": "sIzB12mWItEQ",
        "outputId": "122f68f5-d3d9-4260-b9d6-4246dd6ecce5"
      },
      "execution_count": 28,
      "outputs": [
        {
          "output_type": "stream",
          "name": "stdout",
          "text": [
            "6 6 4\n",
            "4\n"
          ]
        }
      ]
    },
    {
      "cell_type": "code",
      "source": [],
      "metadata": {
        "id": "ERo3PiDTPzni"
      },
      "execution_count": null,
      "outputs": []
    }
  ]
}