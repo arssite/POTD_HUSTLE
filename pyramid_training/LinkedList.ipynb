{
  "nbformat": 4,
  "nbformat_minor": 0,
  "metadata": {
    "colab": {
      "provenance": [],
      "authorship_tag": "ABX9TyMJWAzriJXZzLa1yyOx2PMR",
      "include_colab_link": true
    },
    "kernelspec": {
      "name": "python3",
      "display_name": "Python 3"
    },
    "language_info": {
      "name": "python"
    }
  },
  "cells": [
    {
      "cell_type": "markdown",
      "metadata": {
        "id": "view-in-github",
        "colab_type": "text"
      },
      "source": [
        "<a href=\"https://colab.research.google.com/github/arssite/POTD_HUSTLE/blob/main/pyramid_training/LinkedList.ipynb\" target=\"_parent\"><img src=\"https://colab.research.google.com/assets/colab-badge.svg\" alt=\"Open In Colab\"/></a>"
      ]
    },
    {
      "cell_type": "code",
      "execution_count": 1,
      "metadata": {
        "id": "84MAAC5TnT1n"
      },
      "outputs": [],
      "source": [
        "class Node():\n",
        "  def __init__(self,data):\n",
        "    self.data=data\n",
        "    self.next=None"
      ]
    },
    {
      "cell_type": "code",
      "source": [
        "class LinkedList():\n",
        "  def __init__(self):\n",
        "    self.head=None\n",
        "\n",
        "  def append(self,data):\n",
        "    if self.head is None:\n",
        "      self.head=Node(data)\n",
        "    else:\n",
        "      temp=self.head\n",
        "      while temp.next:\n",
        "        temp=temp.next\n",
        "      temp.next=Node(data)\n",
        "  def display(self):\n",
        "    if self.head is None:\n",
        "      print(\"Empty\")\n",
        "\n",
        "    temp=self.head\n",
        "    while temp:\n",
        "      print(temp.data,end=\" \")\n",
        "      temp=temp.next"
      ],
      "metadata": {
        "id": "VG_lilXlnhNN"
      },
      "execution_count": 13,
      "outputs": []
    },
    {
      "cell_type": "code",
      "source": [
        "a=LinkedList()\n",
        "a.append(10)\n",
        "a.display()"
      ],
      "metadata": {
        "colab": {
          "base_uri": "https://localhost:8080/"
        },
        "id": "KbZa97qKnom5",
        "outputId": "bdd408b7-4c4d-49e4-ac63-c5e9eccfb0fc"
      },
      "execution_count": 19,
      "outputs": [
        {
          "output_type": "stream",
          "name": "stdout",
          "text": [
            "10 "
          ]
        }
      ]
    },
    {
      "cell_type": "code",
      "source": [
        "b=LinkedList()\n",
        "#b.append(20)\n",
        "b.display()"
      ],
      "metadata": {
        "colab": {
          "base_uri": "https://localhost:8080/"
        },
        "id": "X8-eQI8cns7p",
        "outputId": "e5937a3a-b148-459c-d2e6-e962033c6f0e"
      },
      "execution_count": 20,
      "outputs": [
        {
          "output_type": "stream",
          "name": "stdout",
          "text": [
            "Empty\n"
          ]
        }
      ]
    },
    {
      "cell_type": "code",
      "source": [
        "s=Node(8)\n",
        "s.data"
      ],
      "metadata": {
        "colab": {
          "base_uri": "https://localhost:8080/"
        },
        "id": "MT1EUanTn7dJ",
        "outputId": "16cab192-2a98-47b7-d19d-76c1113c81ce"
      },
      "execution_count": 22,
      "outputs": [
        {
          "output_type": "execute_result",
          "data": {
            "text/plain": [
              "8"
            ]
          },
          "metadata": {},
          "execution_count": 22
        }
      ]
    },
    {
      "cell_type": "markdown",
      "source": [
        "Creating Single LinkedList"
      ],
      "metadata": {
        "id": "AkSQQsYhrLRh"
      }
    },
    {
      "cell_type": "code",
      "source": [
        "class Node():\n",
        "  def __init__(self,data):\n",
        "    self.data=data\n",
        "    self.next=None"
      ],
      "metadata": {
        "id": "PHpHXVfjrQGH"
      },
      "execution_count": 23,
      "outputs": []
    },
    {
      "cell_type": "code",
      "source": [
        "class LL():\n",
        "  def __init__(self):\n",
        "    self.head=None\n",
        "\n",
        "  def insertatbeg(self,data):\n",
        "    if self.head==None:\n",
        "      self.head=Node(data)\n",
        "    else:\n",
        "      temp=Node(data)\n",
        "      #so here we do a swap firstly store the new data into temp then push current head to next of temp, finally change current head with new data which is stored in temp.\n",
        "      temp.next=self.head\n",
        "      self.head=temp\n",
        "#newnode=Node(num)\n",
        "#newnode.next=self.head\n",
        "#self.head=newnode\n",
        "  def printlist(self):\n",
        "    if self.head==None:\n",
        "      print(\"\\n Empty\\n\\n\")\n",
        "    else:\n",
        "      temp=self.head\n",
        "      while temp:\n",
        "        print(temp.data,end=\" > \")\n",
        "        temp=temp.next\n"
      ],
      "metadata": {
        "id": "WwgZOxsprZo-"
      },
      "execution_count": 41,
      "outputs": []
    },
    {
      "cell_type": "code",
      "source": [
        "class SLL():\n",
        "  obj=LL()\n",
        "  while True:\n",
        "    inp=input(\"\\n\\n--------\\nChoices\\n--------\\n\\n 0: for display\\n 1: for Insert \\n 2: for exit\\n\")\n",
        "    if inp==\"0\":\n",
        "      obj.printlist()\n",
        "    elif inp==\"1\":\n",
        "      num=int(input(\"Enter number: \"))\n",
        "      obj.insertatbeg(num)\n",
        "    elif inp==\"2\":\n",
        "      break\n",
        "    else:\n",
        "      print(\"\\nEnter a Valid Choice\\n\")"
      ],
      "metadata": {
        "colab": {
          "base_uri": "https://localhost:8080/"
        },
        "id": "YoVGx5VptFxC",
        "outputId": "dccdcde5-3d38-4242-f1b0-d196221ca84f"
      },
      "execution_count": 42,
      "outputs": [
        {
          "name": "stdout",
          "output_type": "stream",
          "text": [
            "\n",
            "\n",
            "--------\n",
            "Choices\n",
            "--------\n",
            "\n",
            " 0: for display\n",
            " 1: for Insert \n",
            " 2: for exit\n",
            "0\n",
            "\n",
            " Empty\n",
            "\n",
            "\n",
            "\n",
            "\n",
            "--------\n",
            "Choices\n",
            "--------\n",
            "\n",
            " 0: for display\n",
            " 1: for Insert \n",
            " 2: for exit\n",
            "1\n",
            "Enter number: 56\n",
            "\n",
            "\n",
            "--------\n",
            "Choices\n",
            "--------\n",
            "\n",
            " 0: for display\n",
            " 1: for Insert \n",
            " 2: for exit\n",
            "3\n",
            "\n",
            "Enter a Valid Choice\n",
            "\n",
            "\n",
            "\n",
            "--------\n",
            "Choices\n",
            "--------\n",
            "\n",
            " 0: for display\n",
            " 1: for Insert \n",
            " 2: for exit\n",
            "1\n",
            "Enter number: 253\n",
            "\n",
            "\n",
            "--------\n",
            "Choices\n",
            "--------\n",
            "\n",
            " 0: for display\n",
            " 1: for Insert \n",
            " 2: for exit\n",
            "1\n",
            "Enter number: 855\n",
            "\n",
            "\n",
            "--------\n",
            "Choices\n",
            "--------\n",
            "\n",
            " 0: for display\n",
            " 1: for Insert \n",
            " 2: for exit\n",
            "0\n",
            "855 > 253 > 56 > \n",
            "\n",
            "--------\n",
            "Choices\n",
            "--------\n",
            "\n",
            " 0: for display\n",
            " 1: for Insert \n",
            " 2: for exit\n",
            "2\n"
          ]
        }
      ]
    },
    {
      "cell_type": "code",
      "source": [],
      "metadata": {
        "id": "korvPkKJtN4I"
      },
      "execution_count": null,
      "outputs": []
    }
  ]
}