{
  "nbformat": 4,
  "nbformat_minor": 0,
  "metadata": {
    "colab": {
      "provenance": [],
      "authorship_tag": "ABX9TyOSe8LXYS6QORTW74OPrA4O",
      "include_colab_link": true
    },
    "kernelspec": {
      "name": "python3",
      "display_name": "Python 3"
    },
    "language_info": {
      "name": "python"
    }
  },
  "cells": [
    {
      "cell_type": "markdown",
      "metadata": {
        "id": "view-in-github",
        "colab_type": "text"
      },
      "source": [
        "<a href=\"https://colab.research.google.com/github/arssite/POTD_HUSTLE/blob/main/pyramid_training/Queue.ipynb\" target=\"_parent\"><img src=\"https://colab.research.google.com/assets/colab-badge.svg\" alt=\"Open In Colab\"/></a>"
      ]
    },
    {
      "cell_type": "code",
      "source": [
        "class Que:\n",
        "  def __init__(self):\n",
        "    self.front=-1\n",
        "    self.rear=-1\n",
        "\n",
        "  def enque(self,x,s,queue):\n",
        "    if self.isFull(s):\n",
        "      print(\"Overflow\")\n",
        "    else:\n",
        "      if self.front==-1 and self.rear==-1:\n",
        "        self.rear+=1\n",
        "        self.front+=1\n",
        "      else:\n",
        "        self.rear+=1\n",
        "      queue[self.rear]=x\n",
        "\n",
        "  def deque(self):\n",
        "    if self.isEmpty():\n",
        "      print(\"Underflow\")\n",
        "    else:\n",
        "      self.front+=1\n",
        "\n",
        "  def isFull(self,s):\n",
        "    if self.rear==s-1:\n",
        "      return True\n",
        "    else:\n",
        "      return False\n",
        "\n",
        "  def isEmpty(self):\n",
        "    if (self.front==-1 and self.rear==-1) or (self.front>self.rear):\n",
        "      return True\n",
        "    else:\n",
        "      return False\n",
        "\n",
        "\n",
        "  def display(self,queue):\n",
        "    if self.isEmpty():\n",
        "      print(\"Underflow\")\n",
        "    else:\n",
        "      for i in range(self.front,self.rear+1):\n",
        "        print(queue[i],end=\" \")"
      ],
      "metadata": {
        "id": "o_JaZ3C_tZeW"
      },
      "execution_count": 16,
      "outputs": []
    },
    {
      "cell_type": "code",
      "execution_count": 18,
      "metadata": {
        "colab": {
          "base_uri": "https://localhost:8080/"
        },
        "id": "vudYAEqmsiOg",
        "outputId": "fabc0edf-9b77-457b-cd5e-35ae74c1ff28"
      },
      "outputs": [
        {
          "name": "stdout",
          "output_type": "stream",
          "text": [
            "Enter size of Queue : 3\n",
            "\n",
            "\n",
            "1.Enque\n",
            "2.Deque\n",
            "3.isFull\n",
            "4: isEmpty\n",
            "5: Display\n",
            "0.Exit\n",
            "\n",
            "enter Choice: 1\n",
            "Enter the element90\n",
            "\n",
            "\n",
            "1.Enque\n",
            "2.Deque\n",
            "3.isFull\n",
            "4: isEmpty\n",
            "5: Display\n",
            "0.Exit\n",
            "\n",
            "enter Choice: 0\n"
          ]
        }
      ],
      "source": [
        "class Que:\n",
        "  obj=Que()\n",
        "  s=int(input(\"Enter size of Queue : \"))\n",
        "  queue=[0]*s\n",
        "  while True:\n",
        "    print(\"\\n\")\n",
        "    print(\"1.Enque\")\n",
        "    print(\"2.Deque\")\n",
        "    print(\"3.isFull\")\n",
        "    print(\"4: isEmpty\")\n",
        "    print(\"5: Display\")\n",
        "    print(\"0.Exit\")\n",
        "    c=int(input(\"\\nenter Choice: \"))\n",
        "    match c:\n",
        "      case 1:\n",
        "        x=int(input(\"Enter the element\"))\n",
        "        obj.enque(x,s,queue)\n",
        "      case 2:\n",
        "        obj.deque()\n",
        "      case 3:\n",
        "        c=obj.isFull(s)\n",
        "        print(c)\n",
        "      case 4:\n",
        "        c=obj.isEmpty()\n",
        "        print(c)\n",
        "      case 5:\n",
        "        obj.display(queue)\n",
        "      case 0:\n",
        "        break\n",
        "      case _:\n",
        "        print(\"Invalid Choice\")\n"
      ]
    },
    {
      "cell_type": "code",
      "source": [
        "class Que:\n",
        "  def __init__(self):\n",
        "    self.front=0\n",
        "    self.rear=-1\n",
        "\n",
        "  def enque(self,x,s,queue):\n",
        "    if self.isFull(s):\n",
        "      print(\"Overflow\")\n",
        "    else:\n",
        "      self.rear+=1\n",
        "      queue[self.rear]=x\n",
        "\n",
        "  def deque(self):\n",
        "    if self.isEmpty():\n",
        "      print(\"Underflow\")\n",
        "    else:\n",
        "      self.front+=1\n",
        "\n",
        "  def isFull(self,s):\n",
        "    if self.rear==s-1:\n",
        "      return True\n",
        "    else:\n",
        "      return False\n",
        "\n",
        "  def isEmpty(self):\n",
        "    if (self.front==0 and self.rear==-1) or (self.front>self.rear):\n",
        "      return True\n",
        "    else:\n",
        "      return False\n",
        "\n",
        "\n",
        "  def display(self,queue):\n",
        "    if self.isEmpty():\n",
        "      print(\"Underflow\")\n",
        "    else:\n",
        "      for i in range(self.front,self.rear+1):\n",
        "        print(queue[i],end=\" \")"
      ],
      "metadata": {
        "id": "ZVcaDsNIto0x"
      },
      "execution_count": 19,
      "outputs": []
    },
    {
      "cell_type": "code",
      "source": [
        "class Que:\n",
        "  obj=Que()\n",
        "  s=int(input(\"Enter size of Queue : \"))\n",
        "  queue=[0]*s\n",
        "  while True:\n",
        "    print(\"\\n\")\n",
        "    print(\"1.Enque\")\n",
        "    print(\"2.Deque\")\n",
        "    print(\"3.isFull\")\n",
        "    print(\"4: isEmpty\")\n",
        "    print(\"5: Display\")\n",
        "    print(\"0.Exit\")\n",
        "    c=int(input(\"\\nenter Choice: \"))\n",
        "    match c:\n",
        "      case 1:\n",
        "        x=int(input(\"Enter the element\"))\n",
        "        obj.enque(x,s,queue)\n",
        "      case 2:\n",
        "        obj.deque()\n",
        "      case 3:\n",
        "        c=obj.isFull(s)\n",
        "        print(c)\n",
        "      case 4:\n",
        "        c=obj.isEmpty()\n",
        "        print(c)\n",
        "      case 5:\n",
        "        obj.display(queue)\n",
        "      case 0:\n",
        "        break\n",
        "      case _:\n",
        "        print(\"Invalid Choice\")\n"
      ],
      "metadata": {
        "colab": {
          "base_uri": "https://localhost:8080/"
        },
        "id": "hczz7Vwi1byu",
        "outputId": "07ce4927-4994-4666-d67f-c081d703bb2d"
      },
      "execution_count": null,
      "outputs": [
        {
          "output_type": "stream",
          "name": "stdout",
          "text": [
            "Enter size of Queue : 3\n",
            "\n",
            "\n",
            "1.Enque\n",
            "2.Deque\n",
            "3.isFull\n",
            "4: isEmpty\n",
            "5: Display\n",
            "0.Exit\n",
            "\n",
            "enter Choice: 1\n",
            "Enter the element45\n",
            "\n",
            "\n",
            "1.Enque\n",
            "2.Deque\n",
            "3.isFull\n",
            "4: isEmpty\n",
            "5: Display\n",
            "0.Exit\n",
            "\n",
            "enter Choice: 1\n",
            "Enter the element25\n",
            "\n",
            "\n",
            "1.Enque\n",
            "2.Deque\n",
            "3.isFull\n",
            "4: isEmpty\n",
            "5: Display\n",
            "0.Exit\n",
            "\n",
            "enter Choice: 5\n",
            "45 25 \n",
            "\n",
            "1.Enque\n",
            "2.Deque\n",
            "3.isFull\n",
            "4: isEmpty\n",
            "5: Display\n",
            "0.Exit\n"
          ]
        }
      ]
    },
    {
      "cell_type": "code",
      "source": [],
      "metadata": {
        "id": "_u1DuoGO1dc0"
      },
      "execution_count": null,
      "outputs": []
    }
  ]
}