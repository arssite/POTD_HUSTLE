{
  "nbformat": 4,
  "nbformat_minor": 0,
  "metadata": {
    "colab": {
      "provenance": [],
      "authorship_tag": "ABX9TyPJZPviSipMLYVgKCr1XX9O",
      "include_colab_link": true
    },
    "kernelspec": {
      "name": "python3",
      "display_name": "Python 3"
    },
    "language_info": {
      "name": "python"
    }
  },
  "cells": [
    {
      "cell_type": "markdown",
      "metadata": {
        "id": "view-in-github",
        "colab_type": "text"
      },
      "source": [
        "<a href=\"https://colab.research.google.com/github/arssite/POTD_HUSTLE/blob/main/pyramid_training/Stack.ipynb\" target=\"_parent\"><img src=\"https://colab.research.google.com/assets/colab-badge.svg\" alt=\"Open In Colab\"/></a>"
      ]
    },
    {
      "cell_type": "code",
      "execution_count": 30,
      "metadata": {
        "id": "58zuW7HJ8eiG"
      },
      "outputs": [],
      "source": [
        "class stack():\n",
        "  def __init__(self):\n",
        "    self.top=-1\n",
        "\n",
        "  def push(self,stk,x,n):\n",
        "    if self.isfull(n):\n",
        "      print(\"stack is full stackflow\")\n",
        "    else:\n",
        "      self.top+=1\n",
        "      stk[self.top]=x\n",
        "\n",
        "  def pop(self,stk):\n",
        "    if self.isempty():\n",
        "      print(\"stack is empty Underflow\")\n",
        "    else:\n",
        "      self.top-=1\n",
        "\n",
        "  def isempty(self):\n",
        "    if self.top==-1:\n",
        "      return True\n",
        "    else:\n",
        "      return False\n",
        "\n",
        "  def isfull(self,n):\n",
        "    if self.top==n-1:\n",
        "      return True\n",
        "    else:\n",
        "      return False\n",
        "\n",
        "  def display(self,stk):\n",
        "    if self.isempty():\n",
        "      print(\"stack is empty\")\n",
        "    else:\n",
        "      for i in range(self.top,-1,-1):\n",
        "        print(stk[i],end='  ')\n",
        "      print()\n",
        "\n",
        "  def peek(self,stk):\n",
        "    if self.isempty():\n",
        "      print(\"stack is empty\")\n",
        "    else:\n",
        "      print(stk[self.top])"
      ]
    },
    {
      "cell_type": "code",
      "source": [
        "class Main:\n",
        "  s=stack()\n",
        "  n=int(input(\"enter the size of stack: \"))\n",
        "  stk=[0]*n\n",
        "  while True:\n",
        "    inp=int(input(\"--------------\\n Choices \\n 1: push\\n 2: pop \\n 3: empty check \\n 4: ful check \\n 5: display \\n 6: peek \\n 0: exit\\n --------\\n\"))\n",
        "    match inp:\n",
        "      case 1:\n",
        "        x=int(input(\"enter the element to push\"))\n",
        "        s.push(stk,x,n)\n",
        "      case 2:\n",
        "        s.pop(stk)\n",
        "      case 3:\n",
        "        if s.empty():\n",
        "          print(\"empty\")\n",
        "        else:\n",
        "          print(\"not empty\")\n",
        "      case 4:\n",
        "        if s.isfull(n):\n",
        "          print(\"full\")\n",
        "        else:\n",
        "          print(\"not full\")\n",
        "      case 5:\n",
        "        s.display(stk)\n",
        "      case 6:\n",
        "        s.peek(stk)\n",
        "      case 0:\n",
        "        break\n",
        "      case _:\n",
        "        print(\"invalid input\")"
      ],
      "metadata": {
        "colab": {
          "base_uri": "https://localhost:8080/"
        },
        "id": "05A6y2bp-Rfz",
        "outputId": "18cf2330-938a-453f-820f-0ab59ff1b381"
      },
      "execution_count": 31,
      "outputs": [
        {
          "name": "stdout",
          "output_type": "stream",
          "text": [
            "enter the size of stack4\n",
            "--------------\n",
            " Choices \n",
            " 1: push\n",
            " 2: pop \n",
            " 3: empty check \n",
            " 4: ful check \n",
            " 5: display \n",
            " 6: peek \n",
            " 0: exit\n",
            " --------\n",
            "1\n",
            "enter the element to push45\n",
            "--------------\n",
            " Choices \n",
            " 1: push\n",
            " 2: pop \n",
            " 3: empty check \n",
            " 4: ful check \n",
            " 5: display \n",
            " 6: peek \n",
            " 0: exit\n",
            " --------\n",
            "5\n",
            "45  \n",
            "--------------\n",
            " Choices \n",
            " 1: push\n",
            " 2: pop \n",
            " 3: empty check \n",
            " 4: ful check \n",
            " 5: display \n",
            " 6: peek \n",
            " 0: exit\n",
            " --------\n",
            "1\n",
            "enter the element to push56\n",
            "--------------\n",
            " Choices \n",
            " 1: push\n",
            " 2: pop \n",
            " 3: empty check \n",
            " 4: ful check \n",
            " 5: display \n",
            " 6: peek \n",
            " 0: exit\n",
            " --------\n",
            "1\n",
            "enter the element to push85\n",
            "--------------\n",
            " Choices \n",
            " 1: push\n",
            " 2: pop \n",
            " 3: empty check \n",
            " 4: ful check \n",
            " 5: display \n",
            " 6: peek \n",
            " 0: exit\n",
            " --------\n",
            "5\n",
            "85  56  45  \n",
            "--------------\n",
            " Choices \n",
            " 1: push\n",
            " 2: pop \n",
            " 3: empty check \n",
            " 4: ful check \n",
            " 5: display \n",
            " 6: peek \n",
            " 0: exit\n",
            " --------\n",
            "2\n",
            "--------------\n",
            " Choices \n",
            " 1: push\n",
            " 2: pop \n",
            " 3: empty check \n",
            " 4: ful check \n",
            " 5: display \n",
            " 6: peek \n",
            " 0: exit\n",
            " --------\n",
            "6\n",
            "56\n",
            "--------------\n",
            " Choices \n",
            " 1: push\n",
            " 2: pop \n",
            " 3: empty check \n",
            " 4: ful check \n",
            " 5: display \n",
            " 6: peek \n",
            " 0: exit\n",
            " --------\n",
            "4\n",
            "not full\n",
            "--------------\n",
            " Choices \n",
            " 1: push\n",
            " 2: pop \n",
            " 3: empty check \n",
            " 4: ful check \n",
            " 5: display \n",
            " 6: peek \n",
            " 0: exit\n",
            " --------\n",
            "0\n"
          ]
        }
      ]
    },
    {
      "cell_type": "markdown",
      "source": [
        "# **Write  a program to check if parantenthesis are balanced or not**"
      ],
      "metadata": {
        "id": "U63U_XCOfWJ4"
      }
    },
    {
      "cell_type": "code",
      "source": [
        "def balancedStack(str1):\n",
        "  stack1=[]\n",
        "  for i in str1:\n",
        "    if i in '{[(':\n",
        "      stack1.append(i)\n",
        "    elif i in '}])':\n",
        "      if i==']' and stack1[-1]=='[':\n",
        "        stack1.pop()\n",
        "      elif i==')' and stack1[-1]=='(':\n",
        "        stack1.pop()\n",
        "      elif i=='}' and stack1[-1]=='{':\n",
        "        stack1.pop()\n",
        "      else:\n",
        "        return False\n",
        "\n",
        "    return True\n",
        ""
      ],
      "metadata": {
        "id": "07Pm3eLqGh_3"
      },
      "execution_count": 38,
      "outputs": []
    },
    {
      "cell_type": "code",
      "source": [
        "str1=input()\n",
        "print(balancedStack(str1))"
      ],
      "metadata": {
        "colab": {
          "base_uri": "https://localhost:8080/"
        },
        "id": "Iie6vXgfiuo2",
        "outputId": "80e5cc51-4e58-4786-a582-cf3599c4d0e8"
      },
      "execution_count": 39,
      "outputs": [
        {
          "output_type": "stream",
          "name": "stdout",
          "text": [
            "((]))[\n",
            "True\n"
          ]
        }
      ]
    },
    {
      "cell_type": "code",
      "source": [],
      "metadata": {
        "id": "skW8yR9Qj-bE"
      },
      "execution_count": 39,
      "outputs": []
    }
  ]
}