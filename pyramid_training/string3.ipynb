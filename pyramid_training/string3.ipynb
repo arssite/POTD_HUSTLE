{
  "nbformat": 4,
  "nbformat_minor": 0,
  "metadata": {
    "colab": {
      "provenance": [],
      "authorship_tag": "ABX9TyOG1oczxIV3gwkBmpEJ5caV",
      "include_colab_link": true
    },
    "kernelspec": {
      "name": "python3",
      "display_name": "Python 3"
    },
    "language_info": {
      "name": "python"
    }
  },
  "cells": [
    {
      "cell_type": "markdown",
      "metadata": {
        "id": "view-in-github",
        "colab_type": "text"
      },
      "source": [
        "<a href=\"https://colab.research.google.com/github/arssite/POTD_HUSTLE/blob/main/pyramid_training/string3.ipynb\" target=\"_parent\"><img src=\"https://colab.research.google.com/assets/colab-badge.svg\" alt=\"Open In Colab\"/></a>"
      ]
    },
    {
      "cell_type": "code",
      "execution_count": 2,
      "metadata": {
        "colab": {
          "base_uri": "https://localhost:8080/"
        },
        "id": "1SVJC9b_6hDA",
        "outputId": "a93b494e-d9f0-40d9-c6b1-02b0c044d9b8"
      },
      "outputs": [
        {
          "output_type": "stream",
          "name": "stdout",
          "text": [
            "2\n",
            "word\n",
            "word\n",
            "anmolratansrivastava\n",
            "a18a\n"
          ]
        }
      ],
      "source": [
        "for _ in range(int(input())):\n",
        "  x=input()\n",
        "  if len(x)>10:\n",
        "    print(x[0]+str(len(x)-2)+x[-1])\n",
        "  else:\n",
        "    print(x)"
      ]
    },
    {
      "cell_type": "code",
      "source": [
        "for _ in range(int(input())):\n",
        "  c=0\n",
        "  x=input()\n",
        "  ap='codeforces'\n",
        "  for i in range(len(ap)):\n",
        "    if x[i]!=ap[i]:\n",
        "      c=c+1\n",
        "  print(c)"
      ],
      "metadata": {
        "colab": {
          "base_uri": "https://localhost:8080/"
        },
        "id": "YwsvnbaM69kd",
        "outputId": "dca15ad5-48ee-4135-80a4-7d333182c240"
      },
      "execution_count": 7,
      "outputs": [
        {
          "output_type": "stream",
          "name": "stdout",
          "text": [
            "5\n",
            "coolforsez\n",
            "4\n",
            "forcescode\n",
            "9\n",
            "cadafurcie\n",
            "5\n",
            "codeforces\n",
            "0\n",
            "paiuforces\n",
            "4\n"
          ]
        }
      ]
    },
    {
      "cell_type": "code",
      "source": [
        "for _ in range(int(input())):\n",
        "  x=input()\n",
        ""
      ],
      "metadata": {
        "colab": {
          "base_uri": "https://localhost:8080/"
        },
        "id": "e9NJlUP4745m",
        "outputId": "5c1fcd73-2262-4777-ec63-9570b2111ffd"
      },
      "execution_count": 10,
      "outputs": [
        {
          "output_type": "stream",
          "name": "stdout",
          "text": [
            "1\n",
            "codedoc\n",
            "Yes\n"
          ]
        }
      ]
    },
    {
      "cell_type": "code",
      "source": [
        "#factorial\n",
        "def fact(x):\n",
        "  if x==1 or x==0:\n",
        "    return 1\n",
        "  else:\n",
        "    return x*fact(x-1)"
      ],
      "metadata": {
        "id": "kuld4uEf-Tp2"
      },
      "execution_count": 14,
      "outputs": []
    },
    {
      "cell_type": "code",
      "source": [
        "fact(5)"
      ],
      "metadata": {
        "colab": {
          "base_uri": "https://localhost:8080/"
        },
        "id": "bktloiu-BMoz",
        "outputId": "e32e16da-7f7b-469d-d072-c3fda467e17c"
      },
      "execution_count": 17,
      "outputs": [
        {
          "output_type": "execute_result",
          "data": {
            "text/plain": [
              "120"
            ]
          },
          "metadata": {},
          "execution_count": 17
        }
      ]
    },
    {
      "cell_type": "code",
      "source": [
        "def can_rearrange_to_another_palindrome(s):\n",
        "    from collections import Counter\n",
        "    # Count frequencies of each character\n",
        "    freq = Counter(s)\n",
        "    # Check if there is any character that appears more than once\n",
        "    for count in freq.values():\n",
        "        if count > 1:\n",
        "            return True\n",
        "    return False\n",
        "\n",
        "def solve(test_cases):\n",
        "    results = []\n",
        "    for s in test_cases:\n",
        "        if can_rearrange_to_another_palindrome(s):\n",
        "            results.append(\"YES\")\n",
        "        else:\n",
        "            results.append(\"NO\")\n",
        "    return results\n",
        "\n",
        "# Reading input\n",
        "t = int(input().strip())\n",
        "test_cases = [input().strip() for _ in range(t)]\n",
        "\n",
        "# Solving the problem\n",
        "results = solve(test_cases)\n",
        "\n",
        "# Printing the results\n",
        "for result in results:\n",
        "    print(result)\n"
      ],
      "metadata": {
        "colab": {
          "base_uri": "https://localhost:8080/"
        },
        "id": "vpUbJyJlBOJK",
        "outputId": "0f8cd6fd-2839-432f-f00a-61d3021f4af9"
      },
      "execution_count": 18,
      "outputs": [
        {
          "output_type": "stream",
          "name": "stdout",
          "text": [
            "2\n",
            "gg\n",
            "codedoc\n",
            "YES\n",
            "YES\n"
          ]
        }
      ]
    },
    {
      "cell_type": "code",
      "source": [
        "def solve(s):\n",
        "    from collections import Counter\n",
        "\n",
        "    mp = Counter(s)\n",
        "\n",
        "    if len(s) % 2 == 0:\n",
        "        if len(mp) == 1:\n",
        "            print(\"NO\")\n",
        "            return\n",
        "        for count in mp.values():\n",
        "            if count % 2 != 0:\n",
        "                print(\"NO\")\n",
        "                return\n",
        "    else:\n",
        "        if len(mp) < 2:\n",
        "            print(\"NO\")\n",
        "            return\n",
        "        elif len(mp) == 2:\n",
        "            for count in mp.values():\n",
        "                if count == 1:\n",
        "                    print(\"NO\")\n",
        "                    return\n",
        "        else:\n",
        "            cnt = 0\n",
        "            for count in mp.values():\n",
        "                if count % 2 != 0:\n",
        "                    cnt += 1\n",
        "            if cnt > 1:\n",
        "                print(\"NO\")\n",
        "                return\n",
        "    print(\"YES\")\n",
        "\n",
        "def main():\n",
        "    T = int(input())\n",
        "    for _ in range(T):\n",
        "        s = input().strip()\n",
        "        solve(s)\n",
        "\n",
        "if __name__ == \"__main__\":\n",
        "    main()\n"
      ],
      "metadata": {
        "colab": {
          "base_uri": "https://localhost:8080/"
        },
        "id": "ta_QshULC1D-",
        "outputId": "0aa9cf0f-143b-426b-f78d-c96917ec6617"
      },
      "execution_count": 22,
      "outputs": [
        {
          "output_type": "stream",
          "name": "stdout",
          "text": [
            "2\n",
            "gg\n",
            "NO\n",
            "codedoc\n",
            "YES\n"
          ]
        }
      ]
    },
    {
      "cell_type": "code",
      "source": [
        "def fib(x):\n",
        "  if x==1 or x==2:\n",
        "    return 1\n",
        "  else:\n",
        "    return fib(x-1)+fib(x-2)\n",
        ""
      ],
      "metadata": {
        "id": "BksgLdxLDa4X"
      },
      "execution_count": 20,
      "outputs": []
    },
    {
      "cell_type": "code",
      "source": [
        "fib(6)"
      ],
      "metadata": {
        "colab": {
          "base_uri": "https://localhost:8080/"
        },
        "id": "-2XVBY9TE4or",
        "outputId": "13e837bb-75b9-4a87-e490-3f08158f3928"
      },
      "execution_count": 23,
      "outputs": [
        {
          "output_type": "execute_result",
          "data": {
            "text/plain": [
              "8"
            ]
          },
          "metadata": {},
          "execution_count": 23
        }
      ]
    },
    {
      "cell_type": "code",
      "source": [],
      "metadata": {
        "id": "DpFWiDH-E71q"
      },
      "execution_count": null,
      "outputs": []
    }
  ]
}