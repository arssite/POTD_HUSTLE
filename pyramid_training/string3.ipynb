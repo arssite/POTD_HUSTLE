{
  "nbformat": 4,
  "nbformat_minor": 0,
  "metadata": {
    "colab": {
      "provenance": [],
      "authorship_tag": "ABX9TyMRCCNdScUpIGdNOeRSheUT",
      "include_colab_link": true
    },
    "kernelspec": {
      "name": "python3",
      "display_name": "Python 3"
    },
    "language_info": {
      "name": "python"
    }
  },
  "cells": [
    {
      "cell_type": "markdown",
      "metadata": {
        "id": "view-in-github",
        "colab_type": "text"
      },
      "source": [
        "<a href=\"https://colab.research.google.com/github/arssite/POTD_HUSTLE/blob/main/pyramid_training/string3.ipynb\" target=\"_parent\"><img src=\"https://colab.research.google.com/assets/colab-badge.svg\" alt=\"Open In Colab\"/></a>"
      ]
    },
    {
      "cell_type": "code",
      "execution_count": null,
      "metadata": {
        "colab": {
          "base_uri": "https://localhost:8080/"
        },
        "id": "1SVJC9b_6hDA",
        "outputId": "a93b494e-d9f0-40d9-c6b1-02b0c044d9b8"
      },
      "outputs": [
        {
          "output_type": "stream",
          "name": "stdout",
          "text": [
            "2\n",
            "word\n",
            "word\n",
            "anmolratansrivastava\n",
            "a18a\n"
          ]
        }
      ],
      "source": [
        "for _ in range(int(input())):\n",
        "  x=input()\n",
        "  if len(x)>10:\n",
        "    print(x[0]+str(len(x)-2)+x[-1])\n",
        "  else:\n",
        "    print(x)"
      ]
    },
    {
      "cell_type": "code",
      "source": [
        "for _ in range(int(input())):\n",
        "  c=0\n",
        "  x=input()\n",
        "  ap='codeforces'\n",
        "  for i in range(len(ap)):\n",
        "    if x[i]!=ap[i]:\n",
        "      c=c+1\n",
        "  print(c)"
      ],
      "metadata": {
        "colab": {
          "base_uri": "https://localhost:8080/"
        },
        "id": "YwsvnbaM69kd",
        "outputId": "dca15ad5-48ee-4135-80a4-7d333182c240"
      },
      "execution_count": null,
      "outputs": [
        {
          "output_type": "stream",
          "name": "stdout",
          "text": [
            "5\n",
            "coolforsez\n",
            "4\n",
            "forcescode\n",
            "9\n",
            "cadafurcie\n",
            "5\n",
            "codeforces\n",
            "0\n",
            "paiuforces\n",
            "4\n"
          ]
        }
      ]
    },
    {
      "cell_type": "code",
      "source": [
        "for _ in range(int(input())):\n",
        "  x=input()\n"
      ],
      "metadata": {
        "colab": {
          "base_uri": "https://localhost:8080/"
        },
        "id": "e9NJlUP4745m",
        "outputId": "5c1fcd73-2262-4777-ec63-9570b2111ffd"
      },
      "execution_count": null,
      "outputs": [
        {
          "output_type": "stream",
          "name": "stdout",
          "text": [
            "1\n",
            "codedoc\n",
            "Yes\n"
          ]
        }
      ]
    },
    {
      "cell_type": "code",
      "source": [
        "#factorial\n",
        "def fact(x):\n",
        "  if x==1 or x==0:\n",
        "    return 1\n",
        "  else:\n",
        "    return x*fact(x-1)"
      ],
      "metadata": {
        "id": "kuld4uEf-Tp2"
      },
      "execution_count": null,
      "outputs": []
    },
    {
      "cell_type": "code",
      "source": [
        "fact(5)"
      ],
      "metadata": {
        "colab": {
          "base_uri": "https://localhost:8080/"
        },
        "id": "bktloiu-BMoz",
        "outputId": "e32e16da-7f7b-469d-d072-c3fda467e17c"
      },
      "execution_count": null,
      "outputs": [
        {
          "output_type": "execute_result",
          "data": {
            "text/plain": [
              "120"
            ]
          },
          "metadata": {},
          "execution_count": 17
        }
      ]
    },
    {
      "cell_type": "code",
      "source": [
        "def solve(s):\n",
        "    from collections import Counter\n",
        "\n",
        "    mp = Counter(s)\n",
        "\n",
        "    if len(s) % 2 == 0:\n",
        "        if len(mp) == 1:\n",
        "            print(\"NO\")\n",
        "            return\n",
        "        for count in mp.values():\n",
        "            if count % 2 != 0:\n",
        "                print(\"NO\")\n",
        "                return\n",
        "    else:\n",
        "        if len(mp) < 2:\n",
        "            print(\"NO\")\n",
        "            return\n",
        "        elif len(mp) == 2:\n",
        "            for count in mp.values():\n",
        "                if count == 1:\n",
        "                    print(\"NO\")\n",
        "                    return\n",
        "        else:\n",
        "            cnt = 0\n",
        "            for count in mp.values():\n",
        "                if count % 2 != 0:\n",
        "                    cnt += 1\n",
        "            if cnt > 1:\n",
        "                print(\"NO\")\n",
        "                return\n",
        "    print(\"YES\")\n",
        "\n",
        "def main():\n",
        "    T = int(input())\n",
        "    for _ in range(T):\n",
        "        s = input().strip()\n",
        "        solve(s)\n",
        "\n",
        "if __name__ == \"__main__\":\n",
        "    main()\n"
      ],
      "metadata": {
        "colab": {
          "base_uri": "https://localhost:8080/"
        },
        "id": "ta_QshULC1D-",
        "outputId": "0aa9cf0f-143b-426b-f78d-c96917ec6617"
      },
      "execution_count": null,
      "outputs": [
        {
          "output_type": "stream",
          "name": "stdout",
          "text": [
            "2\n",
            "gg\n",
            "NO\n",
            "codedoc\n",
            "YES\n"
          ]
        }
      ]
    },
    {
      "cell_type": "code",
      "source": [
        "def fib(x):\n",
        "  if x==0 or x==1:\n",
        "    return 1\n",
        "  elif x==2:\n",
        "    return 2\n",
        "  else:\n",
        "    return fib(x-1)+fib(x-2)\n"
      ],
      "metadata": {
        "id": "BksgLdxLDa4X"
      },
      "execution_count": null,
      "outputs": []
    },
    {
      "cell_type": "code",
      "source": [
        "fib(20)"
      ],
      "metadata": {
        "colab": {
          "base_uri": "https://localhost:8080/"
        },
        "id": "-2XVBY9TE4or",
        "outputId": "100d3f56-c258-4e23-c8d6-688997288dae"
      },
      "execution_count": null,
      "outputs": [
        {
          "output_type": "execute_result",
          "data": {
            "text/plain": [
              "10946"
            ]
          },
          "metadata": {},
          "execution_count": 62
        }
      ]
    },
    {
      "cell_type": "code",
      "source": [
        "def sod(n):\n",
        "  if n<=9:\n",
        "    return n\n",
        "  else:\n",
        "    return sod(n//10)+n%10"
      ],
      "metadata": {
        "id": "DpFWiDH-E71q"
      },
      "execution_count": null,
      "outputs": []
    },
    {
      "cell_type": "code",
      "source": [
        "sod(78)"
      ],
      "metadata": {
        "colab": {
          "base_uri": "https://localhost:8080/"
        },
        "id": "fdrwPMa3MHYM",
        "outputId": "4190a1a8-0455-4916-8170-0835d2b67029"
      },
      "execution_count": null,
      "outputs": [
        {
          "output_type": "execute_result",
          "data": {
            "text/plain": [
              "15"
            ]
          },
          "metadata": {},
          "execution_count": 38
        }
      ]
    },
    {
      "cell_type": "code",
      "source": [
        "def negsod(n):\n",
        "  if n//10==0:\n",
        "    return n\n",
        "  else:\n",
        "    return sod(n//10)+n%10"
      ],
      "metadata": {
        "id": "2nhtcj8AMOF1"
      },
      "execution_count": null,
      "outputs": []
    },
    {
      "cell_type": "code",
      "source": [
        "negsod(-123)"
      ],
      "metadata": {
        "colab": {
          "base_uri": "https://localhost:8080/"
        },
        "id": "i3tBrvKYNmnw",
        "outputId": "962def91-bfef-4bc4-936e-8fd9b390fa3a"
      },
      "execution_count": null,
      "outputs": [
        {
          "output_type": "execute_result",
          "data": {
            "text/plain": [
              "-6"
            ]
          },
          "metadata": {},
          "execution_count": 40
        }
      ]
    },
    {
      "cell_type": "code",
      "source": [
        "def gcd(a,b):\n",
        "  if b==0:\n",
        "    return a\n",
        "  else:\n",
        "    return gcd(b,a%b)"
      ],
      "metadata": {
        "id": "LYuCBnjxNoiv"
      },
      "execution_count": null,
      "outputs": []
    },
    {
      "cell_type": "code",
      "source": [
        "gcd(2,3)"
      ],
      "metadata": {
        "colab": {
          "base_uri": "https://localhost:8080/"
        },
        "id": "T_8cLxvDPOyM",
        "outputId": "4d73e148-22b8-45e5-eda8-ca49e61c2015"
      },
      "execution_count": null,
      "outputs": [
        {
          "output_type": "execute_result",
          "data": {
            "text/plain": [
              "1"
            ]
          },
          "metadata": {},
          "execution_count": 42
        }
      ]
    },
    {
      "cell_type": "code",
      "source": [
        "gcd(7,14)"
      ],
      "metadata": {
        "colab": {
          "base_uri": "https://localhost:8080/"
        },
        "id": "PXXYpWbOPQyk",
        "outputId": "57cdbd33-c71f-46f9-b91d-98f2bc69a0f3"
      },
      "execution_count": null,
      "outputs": [
        {
          "output_type": "execute_result",
          "data": {
            "text/plain": [
              "7"
            ]
          },
          "metadata": {},
          "execution_count": 43
        }
      ]
    },
    {
      "cell_type": "code",
      "source": [
        "def can_form_alternating_binary_string(n, s):\n",
        "    # Dictionary to store indices of each character\n",
        "    position_map = {}\n",
        "\n",
        "    for i in range(n):\n",
        "        char = s[i]\n",
        "        if char not in position_map:\n",
        "            position_map[char] = []\n",
        "        position_map[char].append(i)\n",
        "\n",
        "    # Check each character's positions\n",
        "    for positions in position_map.values():\n",
        "        has_even = any(pos % 2 == 0 for pos in positions)\n",
        "        has_odd = any(pos % 2 != 0 for pos in positions)\n",
        "        if has_even and has_odd:\n",
        "            return \"NO\"\n",
        "\n",
        "    return \"YES\"\n",
        "\n",
        "def main():\n",
        "    import sys\n",
        "    input = sys.stdin.read\n",
        "    data = input().split()\n",
        "\n",
        "    t = int(data[0])\n",
        "    index = 1\n",
        "    results = []\n",
        "    for _ in range(t):\n",
        "        n = int(data[index])\n",
        "        s = data[index + 1]\n",
        "        index += 2\n",
        "        results.append(can_form_alternating_binary_string(n, s))\n",
        "\n",
        "    for result in results:\n",
        "        print(result)\n",
        "\n",
        "if __name__ == \"__main__\":\n",
        "    main()\n"
      ],
      "metadata": {
        "id": "V2CVCf05PUl8"
      },
      "execution_count": null,
      "outputs": []
    },
    {
      "cell_type": "code",
      "source": [
        "def solve():\n",
        "    n = int(input())\n",
        "    strings = list(map(str,input().split()))\n",
        "\n",
        "    for s in strings:\n",
        "        reversed_s = s[::-1]\n",
        "        if s == reversed_s:\n",
        "            x=\"YES\"\n",
        "        else:\n",
        "            x=\"NO\"\n",
        "        print(x)\n",
        "\n",
        "def main():\n",
        "    t = int(input())\n",
        "    for _ in range(t):\n",
        "        solve()\n",
        "\n",
        "if __name__ == \"__main__\":\n",
        "    main()"
      ],
      "metadata": {
        "colab": {
          "base_uri": "https://localhost:8080/"
        },
        "id": "bhtTA742Tzxg",
        "outputId": "bbe8e8c1-9b84-46aa-ca61-6a0cc80136f5"
      },
      "execution_count": null,
      "outputs": [
        {
          "output_type": "stream",
          "name": "stdout",
          "text": [
            "1\n",
            "4\n",
            "bcd cd a d abc ab\n",
            "NO\n",
            "NO\n",
            "YES\n",
            "YES\n",
            "NO\n",
            "NO\n"
          ]
        }
      ]
    },
    {
      "cell_type": "code",
      "source": [
        "def solve():\n",
        "    n = int(input())  # Read n (length of string s), but we don't actually use it here\n",
        "    prefixes_suffixes = input().split()  # Read all prefixes and suffixes\n",
        "\n",
        "    s_set = set(prefixes_suffixes)\n",
        "\n",
        "    # Find if s itself is in the set and is a palindrome\n",
        "    s = None\n",
        "    for ps in s_set:\n",
        "        if ps == ps[::-1]:\n",
        "            s = ps\n",
        "            break\n",
        "\n",
        "    if s is None:\n",
        "        print(\"NO\")\n",
        "    else:\n",
        "        print(\"YES\")\n",
        "\n",
        "def main():\n",
        "    t = int(input())  # Read number of test cases\n",
        "    for _ in range(t):\n",
        "        solve()\n",
        "\n",
        "if __name__ == \"__main__\":\n",
        "    main()\n"
      ],
      "metadata": {
        "colab": {
          "base_uri": "https://localhost:8080/"
        },
        "id": "dtMt7pWDVNgt",
        "outputId": "11245a40-77aa-43db-cd92-822d897f15e0"
      },
      "execution_count": null,
      "outputs": [
        {
          "output_type": "stream",
          "name": "stdout",
          "text": [
            "1\n",
            "4\n",
            "bcd cd a d abc ab\n",
            "YES\n"
          ]
        }
      ]
    },
    {
      "cell_type": "code",
      "source": [
        "def solve():\n",
        "    import sys\n",
        "    input = sys.stdin.read\n",
        "    data = input().splitlines()\n",
        "\n",
        "    if len(data) == 0:\n",
        "        return\n",
        "\n",
        "    t = int(data[0])\n",
        "    index = 1\n",
        "\n",
        "    results = []\n",
        "    for _ in range(t):\n",
        "        if index >= len(data):\n",
        "            break\n",
        "\n",
        "        n = int(data[index])\n",
        "        index += 1\n",
        "\n",
        "        if index >= len(data):\n",
        "            break\n",
        "\n",
        "        prefixes_suffixes = data[index].split()\n",
        "        index += 1\n",
        "\n",
        "        s_set = set(prefixes_suffixes)\n",
        "\n",
        "        # Find if s itself is in the set\n",
        "        s = None\n",
        "        for ps in s_set:\n",
        "            if ps == ps[::-1]:\n",
        "                s = ps\n",
        "                break\n",
        "\n",
        "        if s is None:\n",
        "            results.append(\"NO\")\n",
        "        else:\n",
        "            results.append(\"YES\")\n",
        "\n",
        "    for result in results:\n",
        "        print(result)\n",
        "\n",
        "if __name__ == \"__main__\":\n",
        "    solve()\n"
      ],
      "metadata": {
        "id": "hAPyiTsAUnub"
      },
      "execution_count": null,
      "outputs": []
    },
    {
      "cell_type": "code",
      "source": [
        "solve()"
      ],
      "metadata": {
        "id": "8CAqecH7UoK6"
      },
      "execution_count": null,
      "outputs": []
    },
    {
      "cell_type": "code",
      "source": [
        "def solve():\n",
        "    import sys\n",
        "    input = sys.stdin.read\n",
        "    data = input().splitlines()\n",
        "\n",
        "    t = int(data[0])\n",
        "    index = 1\n",
        "    results = []\n",
        "\n",
        "    for _ in range(t):\n",
        "        n = int(data[index])  # Read the length of the string, but we don't actually need to use it\n",
        "        index += 1\n",
        "        prefixes_suffixes = data[index].split()  # Read all prefixes and suffixes\n",
        "        index += 1\n",
        "\n",
        "        # Check if any prefix or suffix is a palindrome\n",
        "        is_palindrome = False\n",
        "        for ps in prefixes_suffixes:\n",
        "            if ps == ps[::-1]:  # Check if ps is equal to its reverse\n",
        "                is_palindrome = True\n",
        "                break\n",
        "\n",
        "        if is_palindrome:\n",
        "            results.append(\"YES\")\n",
        "        else:\n",
        "            results.append(\"NO\")\n",
        "\n",
        "    for result in results:\n",
        "        print(result)\n",
        "\n",
        "if __name__ == \"__main__\":\n",
        "    solve()\n"
      ],
      "metadata": {
        "colab": {
          "base_uri": "https://localhost:8080/",
          "height": 297
        },
        "id": "nh-Xix50U0yJ",
        "outputId": "a9d405c5-4379-4001-8619-6a94e068e819"
      },
      "execution_count": null,
      "outputs": [
        {
          "output_type": "error",
          "ename": "IndexError",
          "evalue": "list index out of range",
          "traceback": [
            "\u001b[0;31m---------------------------------------------------------------------------\u001b[0m",
            "\u001b[0;31mIndexError\u001b[0m                                Traceback (most recent call last)",
            "\u001b[0;32m<ipython-input-52-5625f656e29c>\u001b[0m in \u001b[0;36m<cell line: 31>\u001b[0;34m()\u001b[0m\n\u001b[1;32m     30\u001b[0m \u001b[0;34m\u001b[0m\u001b[0m\n\u001b[1;32m     31\u001b[0m \u001b[0;32mif\u001b[0m \u001b[0m__name__\u001b[0m \u001b[0;34m==\u001b[0m \u001b[0;34m\"__main__\"\u001b[0m\u001b[0;34m:\u001b[0m\u001b[0;34m\u001b[0m\u001b[0;34m\u001b[0m\u001b[0m\n\u001b[0;32m---> 32\u001b[0;31m     \u001b[0msolve\u001b[0m\u001b[0;34m(\u001b[0m\u001b[0;34m)\u001b[0m\u001b[0;34m\u001b[0m\u001b[0;34m\u001b[0m\u001b[0m\n\u001b[0m",
            "\u001b[0;32m<ipython-input-52-5625f656e29c>\u001b[0m in \u001b[0;36msolve\u001b[0;34m()\u001b[0m\n\u001b[1;32m      4\u001b[0m     \u001b[0mdata\u001b[0m \u001b[0;34m=\u001b[0m \u001b[0minput\u001b[0m\u001b[0;34m(\u001b[0m\u001b[0;34m)\u001b[0m\u001b[0;34m.\u001b[0m\u001b[0msplitlines\u001b[0m\u001b[0;34m(\u001b[0m\u001b[0;34m)\u001b[0m\u001b[0;34m\u001b[0m\u001b[0;34m\u001b[0m\u001b[0m\n\u001b[1;32m      5\u001b[0m \u001b[0;34m\u001b[0m\u001b[0m\n\u001b[0;32m----> 6\u001b[0;31m     \u001b[0mt\u001b[0m \u001b[0;34m=\u001b[0m \u001b[0mint\u001b[0m\u001b[0;34m(\u001b[0m\u001b[0mdata\u001b[0m\u001b[0;34m[\u001b[0m\u001b[0;36m0\u001b[0m\u001b[0;34m]\u001b[0m\u001b[0;34m)\u001b[0m\u001b[0;34m\u001b[0m\u001b[0;34m\u001b[0m\u001b[0m\n\u001b[0m\u001b[1;32m      7\u001b[0m     \u001b[0mindex\u001b[0m \u001b[0;34m=\u001b[0m \u001b[0;36m1\u001b[0m\u001b[0;34m\u001b[0m\u001b[0;34m\u001b[0m\u001b[0m\n\u001b[1;32m      8\u001b[0m     \u001b[0mresults\u001b[0m \u001b[0;34m=\u001b[0m \u001b[0;34m[\u001b[0m\u001b[0;34m]\u001b[0m\u001b[0;34m\u001b[0m\u001b[0;34m\u001b[0m\u001b[0m\n",
            "\u001b[0;31mIndexError\u001b[0m: list index out of range"
          ]
        }
      ]
    },
    {
      "cell_type": "code",
      "source": [
        "def banana(x):\n",
        "  out=(fact(x))/(fact(2)*(fact(x-2)))\n",
        "  return int(out)"
      ],
      "metadata": {
        "id": "XC8TH9UaWGac"
      },
      "execution_count": null,
      "outputs": []
    },
    {
      "cell_type": "code",
      "source": [
        "banana(20)"
      ],
      "metadata": {
        "colab": {
          "base_uri": "https://localhost:8080/"
        },
        "id": "QPxjW418ie6Y",
        "outputId": "97ae618d-65dd-4259-f063-4cc5d1a6d8c4"
      },
      "execution_count": null,
      "outputs": [
        {
          "output_type": "execute_result",
          "data": {
            "text/plain": [
              "190"
            ]
          },
          "metadata": {},
          "execution_count": 57
        }
      ]
    },
    {
      "cell_type": "code",
      "source": [
        "def rev(x,out=0):\n",
        "  if x==0:\n",
        "    print(out)\n",
        "  else:\n",
        "    out=out*10+x%10\n",
        "    rev(x//10,out)\n"
      ],
      "metadata": {
        "id": "HYqAEqY2ihiZ"
      },
      "execution_count": null,
      "outputs": []
    },
    {
      "cell_type": "code",
      "source": [
        "rev(893,0)"
      ],
      "metadata": {
        "colab": {
          "base_uri": "https://localhost:8080/"
        },
        "id": "g_z4qcKT40Vi",
        "outputId": "40e4c526-cbf9-4072-d92e-cb3b913eea5a"
      },
      "execution_count": null,
      "outputs": [
        {
          "output_type": "stream",
          "name": "stdout",
          "text": [
            "398\n"
          ]
        }
      ]
    },
    {
      "cell_type": "code",
      "source": [
        "def pime(x):\n",
        "  for i in range(2,x):\n",
        "    if x%i==0:\n",
        "      return False\n",
        "  return True"
      ],
      "metadata": {
        "id": "N45XQTVE49Tq"
      },
      "execution_count": 77,
      "outputs": []
    },
    {
      "cell_type": "code",
      "source": [
        "pime(7)"
      ],
      "metadata": {
        "colab": {
          "base_uri": "https://localhost:8080/"
        },
        "id": "dDPP4hrC_mD1",
        "outputId": "5232d450-1be9-47aa-bbdb-8fa7b1dc8b11"
      },
      "execution_count": 78,
      "outputs": [
        {
          "output_type": "execute_result",
          "data": {
            "text/plain": [
              "True"
            ]
          },
          "metadata": {},
          "execution_count": 78
        }
      ]
    },
    {
      "cell_type": "code",
      "source": [
        "def is_prime(n):\n",
        "  if n <= 1:\n",
        "    return False\n",
        "  elif n <= 3:\n",
        "    return True\n",
        "  elif n % 2 == 0 or n % 3 == 0:\n",
        "    return False\n",
        "  i = 5\n",
        "  while i * i <= n:\n",
        "    if n % i == 0 or n % (i + 2) == 0:\n",
        "      return False\n",
        "    i += 6\n",
        "  return True"
      ],
      "metadata": {
        "id": "wpOntX6z_nbz"
      },
      "execution_count": 83,
      "outputs": []
    },
    {
      "cell_type": "code",
      "source": [
        "def find_primes(n):\n",
        "  primes = []\n",
        "  for i in range(n + 1):\n",
        "    if is_prime(i):\n",
        "      primes.append(i)\n",
        "  return primes\n",
        "n = int(input(\"Enter a number: \"))\n",
        "primes = find_primes(n)\n",
        "print(f\"The prime numbers up to {n} are: {primes}\")"
      ],
      "metadata": {
        "colab": {
          "base_uri": "https://localhost:8080/"
        },
        "id": "3OmFntVl_0A0",
        "outputId": "2d02fc00-0cf8-4744-f720-7af86fc7c1a9"
      },
      "execution_count": 98,
      "outputs": [
        {
          "output_type": "stream",
          "name": "stdout",
          "text": [
            "Enter a number: 25\n",
            "The prime numbers up to 25 are: [2, 3, 5, 7, 11, 13, 17, 19, 23]\n"
          ]
        }
      ]
    },
    {
      "cell_type": "code",
      "source": [
        "def sieveEratosthesnes(n):\n",
        "  plst=[0]*(n+1)\n",
        "  for i in range(2,int(n**0.5)+1):\n",
        "    for j in range(i*i,n+1,i):\n",
        "      if plst[i]==0:\n",
        "        plst[j]=1\n",
        "  rlst=[]\n",
        "  for i in range(2,n+1):\n",
        "    if plst[i]==0:\n",
        "      rlst.append(i)\n",
        "  return rlst"
      ],
      "metadata": {
        "id": "5qIoB9tXAQdr"
      },
      "execution_count": 99,
      "outputs": []
    },
    {
      "cell_type": "code",
      "source": [
        "x=sieveEratosthesnes(10)\n",
        "len(x)"
      ],
      "metadata": {
        "colab": {
          "base_uri": "https://localhost:8080/"
        },
        "id": "gH6WkXWMEnSz",
        "outputId": "8dcfa774-5f7e-4fe1-90e7-90dc0e53ae92"
      },
      "execution_count": 108,
      "outputs": [
        {
          "output_type": "execute_result",
          "data": {
            "text/plain": [
              "4"
            ]
          },
          "metadata": {},
          "execution_count": 108
        }
      ]
    },
    {
      "cell_type": "code",
      "source": [
        "def sieve_of_sundaram(n):\n",
        "    \"\"\"\n",
        "    Return a list of prime numbers up to n (inclusive) using Sieve of Sundaram algorithm.\n",
        "    \"\"\"\n",
        "    if n < 2:\n",
        "        return []\n",
        "\n",
        "    # Generate the numbers to be sieved\n",
        "    limit = (n - 1) // 2\n",
        "    sieve = [False] * (limit + 1)\n",
        "\n",
        "    # Sieve process\n",
        "    for i in range(1, limit + 1):\n",
        "        j = i\n",
        "        while (i + j + 2 * i * j) <= limit:\n",
        "            sieve[i + j + 2 * i * j] = True\n",
        "            j += 1\n",
        "\n",
        "    # Collect results\n",
        "    primes = [2]\n",
        "    for i in range(1, limit + 1):\n",
        "        if not sieve[i]:\n",
        "            primes.append(2 * i + 1)\n",
        "\n",
        "    return primes\n"
      ],
      "metadata": {
        "id": "6xrpC0MGErzL"
      },
      "execution_count": 101,
      "outputs": []
    },
    {
      "cell_type": "code",
      "source": [
        "def sieveofsundaram(n):\n",
        "  newn=(n-1)//2\n",
        "  slst=[0]*(newn+1)\n",
        "  if n>=2:\n",
        "    print(2,end=\" \")\n",
        "  for i in range(1,newn+1):\n",
        "    j=i\n",
        "    while i+j+2*i*j<=newn:\n",
        "      slst[i+j+2*i*j]=1\n",
        "      j+=1\n",
        "  for i in range(1,newn+1):\n",
        "    if slst[i]==0:\n",
        "      print(2*i+1,end=\" \")"
      ],
      "metadata": {
        "id": "X4qaP63_JKKK"
      },
      "execution_count": 106,
      "outputs": []
    },
    {
      "cell_type": "code",
      "source": [
        "sieveofsundaram(100)"
      ],
      "metadata": {
        "colab": {
          "base_uri": "https://localhost:8080/"
        },
        "id": "_-vGrkORMTye",
        "outputId": "f683dc2b-5791-4fd4-b5ff-cc0d17b69db4"
      },
      "execution_count": 109,
      "outputs": [
        {
          "output_type": "stream",
          "name": "stdout",
          "text": [
            "2 3 5 7 11 13 17 19 23 29 31 37 41 43 47 53 59 61 67 71 73 79 83 89 97 "
          ]
        }
      ]
    },
    {
      "cell_type": "code",
      "source": [
        "def gcd(x,y):\n",
        "  if y==0:\n",
        "    return x\n",
        "  elif x==0:\n",
        "    return y\n",
        "  else:\n",
        "    if x<y:\n",
        "      return gcd(x%y,y)\n",
        "    else:\n",
        "      return gcd(y,x%y)\n",
        ""
      ],
      "metadata": {
        "id": "JebvUBAtMjf3"
      },
      "execution_count": 110,
      "outputs": []
    },
    {
      "cell_type": "code",
      "source": [
        "x=int(input())\n",
        "c=0\n",
        "for i in range(1,x+1):\n",
        "  if gcd(i,x)==1:\n",
        "    c+=1\n",
        "print(c)\n"
      ],
      "metadata": {
        "colab": {
          "base_uri": "https://localhost:8080/"
        },
        "id": "hiKwnS7VSvRc",
        "outputId": "1b1ca5f8-8dca-4447-8b66-21c1f55bf715"
      },
      "execution_count": 115,
      "outputs": [
        {
          "output_type": "stream",
          "name": "stdout",
          "text": [
            "10\n",
            "4\n"
          ]
        }
      ]
    },
    {
      "cell_type": "code",
      "source": [],
      "metadata": {
        "id": "F4twj2SBS42d"
      },
      "execution_count": null,
      "outputs": []
    }
  ]
}