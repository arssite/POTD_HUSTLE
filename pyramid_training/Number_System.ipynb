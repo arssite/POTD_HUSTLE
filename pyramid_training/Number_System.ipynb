{
  "nbformat": 4,
  "nbformat_minor": 0,
  "metadata": {
    "colab": {
      "provenance": [],
      "authorship_tag": "ABX9TyMfvWRpzY53xisrHVhwWIKA",
      "include_colab_link": true
    },
    "kernelspec": {
      "name": "python3",
      "display_name": "Python 3"
    },
    "language_info": {
      "name": "python"
    }
  },
  "cells": [
    {
      "cell_type": "markdown",
      "metadata": {
        "id": "view-in-github",
        "colab_type": "text"
      },
      "source": [
        "<a href=\"https://colab.research.google.com/github/arssite/POTD_HUSTLE/blob/main/pyramid_training/Number_System.ipynb\" target=\"_parent\"><img src=\"https://colab.research.google.com/assets/colab-badge.svg\" alt=\"Open In Colab\"/></a>"
      ]
    },
    {
      "cell_type": "markdown",
      "source": [
        "Program to decimal to binary"
      ],
      "metadata": {
        "id": "E4JooTrTk0HS"
      }
    },
    {
      "cell_type": "code",
      "execution_count": 25,
      "metadata": {
        "id": "QkmS16Apjly7"
      },
      "outputs": [],
      "source": [
        "def d2b(x):\n",
        "  lst=[]\n",
        "  if x==0:\n",
        "    print(\"Scratch Function\",0)\n",
        "  else:\n",
        "    while x >= 1:\n",
        "      y =x % 2\n",
        "      lst.append(y)\n",
        "      x = x // 2\n",
        "    print(\"Scratch Function\",*lst[-1::-1])\n"
      ]
    },
    {
      "cell_type": "code",
      "source": [
        "def d2b_m2(x):\n",
        "  b=''\n",
        "  if x==0:\n",
        "    return \"string\",0\n",
        "  while x>0:\n",
        "    b=str(x%2)+b\n",
        "    x=x//2\n",
        "    return \"String\",b"
      ],
      "metadata": {
        "id": "XxoFyUevnEy-"
      },
      "execution_count": 31,
      "outputs": []
    },
    {
      "cell_type": "code",
      "source": [
        "def binn(x):\n",
        "  x=bin(x)\n",
        "  print(\"Prebuild Function\",x[2:])"
      ],
      "metadata": {
        "id": "1eekBAFVk9bn"
      },
      "execution_count": 32,
      "outputs": []
    },
    {
      "cell_type": "code",
      "source": [
        "x=input('Enter Number to Convert: ')\n",
        "d2b(int(x))\n",
        "binn(int(x))\n",
        "print(\"Method\",d2b_m2(int(x)))"
      ],
      "metadata": {
        "colab": {
          "base_uri": "https://localhost:8080/"
        },
        "id": "RksZouGik7c5",
        "outputId": "d7b6fe19-c67a-4f39-efbb-f143643daaf6"
      },
      "execution_count": 34,
      "outputs": [
        {
          "output_type": "stream",
          "name": "stdout",
          "text": [
            "Enter Number to Convert: 1\n",
            "Scratch Function 1\n",
            "Prebuild Function 1\n",
            "Method ('String', '1')\n"
          ]
        }
      ]
    },
    {
      "cell_type": "markdown",
      "source": [
        "Program to calculate decimal value of given Binary number"
      ],
      "metadata": {
        "id": "uZzIWCyOsKQa"
      }
    },
    {
      "cell_type": "code",
      "source": [
        "def b2d(x):\n",
        "  x=str(x)\n",
        "  x=x[::-1]\n",
        "  c,sum=0,0\n",
        "  for i in x:\n",
        "    if i =='1':\n",
        "      sum=sum+2**c\n",
        "    c=c+1\n",
        "  print(\"Scratch Function\",sum)"
      ],
      "metadata": {
        "id": "aCPcXJghomcE"
      },
      "execution_count": 70,
      "outputs": []
    },
    {
      "cell_type": "code",
      "source": [
        "def b2d_m3(x):\n",
        "  x=str(x)\n",
        "  x=x[::-1]\n",
        "  c,sum,y=0,0,0\n",
        "  for i in x:\n",
        "    y+=int(i)*(2**c)\n",
        "    c+=1\n",
        "  print(\"Scratch Function 2\",y)"
      ],
      "metadata": {
        "id": "1N8tOMsavqOD"
      },
      "execution_count": 71,
      "outputs": []
    },
    {
      "cell_type": "code",
      "source": [
        "def b2d_m4(n):\n",
        "  r,p=0,0\n",
        "  while n>0:\n",
        "    r+=(n%10)*(2**p)\n",
        "    #print(n%10)\n",
        "    n=n//10\n",
        "    p+=1\n",
        "  print(\"Scratch Function 3\",r)"
      ],
      "metadata": {
        "id": "Wsy894hpw4_w"
      },
      "execution_count": 76,
      "outputs": []
    },
    {
      "cell_type": "code",
      "source": [
        "def b2d_m2(x):\n",
        "  x=int(x,2)\n",
        "  print(\"Prebuild Function\",x)"
      ],
      "metadata": {
        "id": "OEQB30QTurdB"
      },
      "execution_count": 73,
      "outputs": []
    },
    {
      "cell_type": "code",
      "source": [
        "b2d(1111011)\n",
        "b2d_m2(str(1111011))\n",
        "b2d_m3(1111011)\n",
        "b2d_m4(1111011)"
      ],
      "metadata": {
        "colab": {
          "base_uri": "https://localhost:8080/"
        },
        "id": "8tAnnPcWvIvT",
        "outputId": "2cbe7330-cc13-417f-e90e-cc4bcb764afd"
      },
      "execution_count": 74,
      "outputs": [
        {
          "output_type": "stream",
          "name": "stdout",
          "text": [
            "Scratch Function 123\n",
            "Prebuild Function 123\n",
            "Scratch Function 2 123\n",
            "Scratch Function 3 123\n"
          ]
        }
      ]
    },
    {
      "cell_type": "code",
      "source": [
        "b2d_m4(1111011)"
      ],
      "metadata": {
        "colab": {
          "base_uri": "https://localhost:8080/"
        },
        "id": "dWEQVUActIw8",
        "outputId": "b7093033-8274-4104-c1b6-f0a1649b2649"
      },
      "execution_count": 77,
      "outputs": [
        {
          "output_type": "stream",
          "name": "stdout",
          "text": [
            "1\n",
            "1\n",
            "0\n",
            "1\n",
            "1\n",
            "1\n",
            "1\n",
            "Scratch Function 3 123\n"
          ]
        }
      ]
    },
    {
      "cell_type": "code",
      "source": [],
      "metadata": {
        "id": "Ejs_te6Xx2II"
      },
      "execution_count": null,
      "outputs": []
    }
  ]
}