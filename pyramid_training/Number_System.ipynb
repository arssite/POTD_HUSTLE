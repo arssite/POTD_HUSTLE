{
  "nbformat": 4,
  "nbformat_minor": 0,
  "metadata": {
    "colab": {
      "provenance": [],
      "authorship_tag": "ABX9TyMFZIAA8cStm4EFv5BI1huf",
      "include_colab_link": true
    },
    "kernelspec": {
      "name": "python3",
      "display_name": "Python 3"
    },
    "language_info": {
      "name": "python"
    }
  },
  "cells": [
    {
      "cell_type": "markdown",
      "metadata": {
        "id": "view-in-github",
        "colab_type": "text"
      },
      "source": [
        "<a href=\"https://colab.research.google.com/github/arssite/POTD_HUSTLE/blob/main/pyramid_training/Number_System.ipynb\" target=\"_parent\"><img src=\"https://colab.research.google.com/assets/colab-badge.svg\" alt=\"Open In Colab\"/></a>"
      ]
    },
    {
      "cell_type": "markdown",
      "source": [
        "Program to decimal to binary"
      ],
      "metadata": {
        "id": "E4JooTrTk0HS"
      }
    },
    {
      "cell_type": "code",
      "execution_count": 25,
      "metadata": {
        "id": "QkmS16Apjly7"
      },
      "outputs": [],
      "source": [
        "def d2b(x):\n",
        "  lst=[]\n",
        "  if x==0:\n",
        "    print(\"Scratch Function\",0)\n",
        "  else:\n",
        "    while x >= 1:\n",
        "      y =x % 2\n",
        "      lst.append(y)\n",
        "      x = x // 2\n",
        "    print(\"Scratch Function\",*lst[-1::-1])\n"
      ]
    },
    {
      "cell_type": "code",
      "source": [
        "def d2b_m2(x):\n",
        "  b=''\n",
        "  if x==0:\n",
        "    return \"string\",0\n",
        "  while x>0:\n",
        "    b=str(x%2)+b\n",
        "    x=x//2\n",
        "    return \"String\",b"
      ],
      "metadata": {
        "id": "XxoFyUevnEy-"
      },
      "execution_count": 31,
      "outputs": []
    },
    {
      "cell_type": "code",
      "source": [
        "def binn(x):\n",
        "  x=bin(x)\n",
        "  print(\"Prebuild Function\",x[2:])"
      ],
      "metadata": {
        "id": "1eekBAFVk9bn"
      },
      "execution_count": 32,
      "outputs": []
    },
    {
      "cell_type": "code",
      "source": [
        "x=input('Enter Number to Convert: ')\n",
        "d2b(int(x))\n",
        "binn(int(x))\n",
        "print(\"Method\",d2b_m2(int(x)))"
      ],
      "metadata": {
        "colab": {
          "base_uri": "https://localhost:8080/"
        },
        "id": "RksZouGik7c5",
        "outputId": "b719a5b8-b01b-4dd4-d5c5-62c1b66c6082"
      },
      "execution_count": 120,
      "outputs": [
        {
          "output_type": "stream",
          "name": "stdout",
          "text": [
            "Enter Number to Convert: 262\n",
            "Scratch Function 1 0 0 0 0 0 1 1 0\n",
            "Prebuild Function 100000110\n",
            "Method ('String', '0')\n"
          ]
        }
      ]
    },
    {
      "cell_type": "markdown",
      "source": [
        "Program to calculate decimal value of given Binary number"
      ],
      "metadata": {
        "id": "uZzIWCyOsKQa"
      }
    },
    {
      "cell_type": "code",
      "source": [
        "def b2d(x):\n",
        "  x=str(x)\n",
        "  x=x[::-1]\n",
        "  c,sum=0,0\n",
        "  for i in x:\n",
        "    if i =='1':\n",
        "      sum=sum+2**c\n",
        "    c=c+1\n",
        "  print(\"Scratch Function\",sum)"
      ],
      "metadata": {
        "id": "aCPcXJghomcE"
      },
      "execution_count": 70,
      "outputs": []
    },
    {
      "cell_type": "code",
      "source": [
        "def b2d_m3(x):\n",
        "  x=str(x)\n",
        "  x=x[::-1]\n",
        "  c,sum,y=0,0,0\n",
        "  for i in x:\n",
        "    y+=int(i)*(2**c)\n",
        "    c+=1\n",
        "  print(\"Scratch Function 2\",y)"
      ],
      "metadata": {
        "id": "1N8tOMsavqOD"
      },
      "execution_count": 71,
      "outputs": []
    },
    {
      "cell_type": "code",
      "source": [
        "def b2d_m4(n):\n",
        "  r,p=0,0\n",
        "  while n>0:\n",
        "    r+=(n%10)*(2**p)\n",
        "    #print(n%10)\n",
        "    n=n//10\n",
        "    p+=1\n",
        "  print(\"Scratch Function 3\",r)"
      ],
      "metadata": {
        "id": "Wsy894hpw4_w"
      },
      "execution_count": 76,
      "outputs": []
    },
    {
      "cell_type": "code",
      "source": [
        "def b2d_m2(x):\n",
        "  x=int(x,2)\n",
        "  print(\"Prebuild Function\",x)"
      ],
      "metadata": {
        "id": "OEQB30QTurdB"
      },
      "execution_count": 73,
      "outputs": []
    },
    {
      "cell_type": "code",
      "source": [
        "b2d(1111011)\n",
        "b2d_m2(str(1111011))\n",
        "b2d_m3(1111011)\n",
        "b2d_m4(1111011)"
      ],
      "metadata": {
        "colab": {
          "base_uri": "https://localhost:8080/"
        },
        "id": "8tAnnPcWvIvT",
        "outputId": "2cbe7330-cc13-417f-e90e-cc4bcb764afd"
      },
      "execution_count": 74,
      "outputs": [
        {
          "output_type": "stream",
          "name": "stdout",
          "text": [
            "Scratch Function 123\n",
            "Prebuild Function 123\n",
            "Scratch Function 2 123\n",
            "Scratch Function 3 123\n"
          ]
        }
      ]
    },
    {
      "cell_type": "markdown",
      "source": [
        "program to decimal to octal"
      ],
      "metadata": {
        "id": "nasL6kyryWxN"
      }
    },
    {
      "cell_type": "code",
      "source": [
        "def d2o(x):\n",
        "    lst=[]\n",
        "    while x >0:\n",
        "      y =x % 8\n",
        "      lst.append(y)\n",
        "      x = x // 8\n",
        "    print(\"Scratch Function\",*lst[-1::-1])"
      ],
      "metadata": {
        "id": "Ejs_te6Xx2II"
      },
      "execution_count": 102,
      "outputs": []
    },
    {
      "cell_type": "code",
      "source": [
        "def d2o_m2(x):\n",
        "  x=oct(x)\n",
        "  print(\"Builtin\",x[2:])"
      ],
      "metadata": {
        "id": "zqsgAT9w0lgE"
      },
      "execution_count": 109,
      "outputs": []
    },
    {
      "cell_type": "code",
      "source": [
        "def d2o_m3(x):\n",
        "  b=''\n",
        "  if x==0:\n",
        "    return \"string\",0\n",
        "  while x>0:\n",
        "    b=str(x%8)+b\n",
        "    x=x//8\n",
        "  return \"String\",b"
      ],
      "metadata": {
        "id": "QRG-XtAr01j1"
      },
      "execution_count": 110,
      "outputs": []
    },
    {
      "cell_type": "code",
      "source": [
        "d2o(101)\n",
        "d2o_m2(101)"
      ],
      "metadata": {
        "colab": {
          "base_uri": "https://localhost:8080/"
        },
        "id": "pt-TlDgt0PGv",
        "outputId": "abe4f202-2106-4ed1-bdac-a2ea14c59b31"
      },
      "execution_count": 111,
      "outputs": [
        {
          "output_type": "stream",
          "name": "stdout",
          "text": [
            "Scratch Function 1 4 5\n",
            "Builtin 145\n"
          ]
        }
      ]
    },
    {
      "cell_type": "markdown",
      "source": [
        "Program to Octal to decimal"
      ],
      "metadata": {
        "id": "dKWvMnV615JQ"
      }
    },
    {
      "cell_type": "code",
      "source": [
        "def o2d(x):\n",
        "  x=str(x)\n",
        "  x=x[::-1]\n",
        "  c,sum,y=0,0,0\n",
        "  for i in x:\n",
        "    y+=int(i)*(8**c)\n",
        "    c+=1\n",
        "  print(\"Scratch Function 2\",y)"
      ],
      "metadata": {
        "id": "ac0frTu-14ay"
      },
      "execution_count": 115,
      "outputs": []
    },
    {
      "cell_type": "code",
      "source": [
        "def o2d_m2(x):\n",
        "  x=str(123)\n",
        "  print(\"prebuild function\",int(x,8))"
      ],
      "metadata": {
        "id": "RP3_XAbk0WLf"
      },
      "execution_count": 118,
      "outputs": []
    },
    {
      "cell_type": "code",
      "source": [
        "o2d(123)\n",
        "o2d_m2(123)"
      ],
      "metadata": {
        "colab": {
          "base_uri": "https://localhost:8080/"
        },
        "id": "drd8JxkB1yr_",
        "outputId": "3d734f8c-e94a-4272-85fb-25be8c96b253"
      },
      "execution_count": 119,
      "outputs": [
        {
          "output_type": "stream",
          "name": "stdout",
          "text": [
            "Scratch Function 2 83\n",
            "prebuild function 83\n"
          ]
        }
      ]
    },
    {
      "cell_type": "markdown",
      "source": [
        "program Decimal to Hexa"
      ],
      "metadata": {
        "id": "2T0m-ow45og1"
      }
    },
    {
      "cell_type": "code",
      "source": [
        "def d2h(x):\n",
        "  x=str(x)\n",
        "  print(\"Preuild\",hex(int(x))[2:])"
      ],
      "metadata": {
        "id": "zNCEtWOA2PZH"
      },
      "execution_count": 124,
      "outputs": []
    },
    {
      "cell_type": "code",
      "source": [
        "d2h(3509)"
      ],
      "metadata": {
        "colab": {
          "base_uri": "https://localhost:8080/"
        },
        "id": "d75ij7Pu6TQE",
        "outputId": "d530db98-1bd2-4f22-8581-832c07aad672"
      },
      "execution_count": 125,
      "outputs": [
        {
          "output_type": "stream",
          "name": "stdout",
          "text": [
            "Preuild db5\n"
          ]
        }
      ]
    },
    {
      "cell_type": "code",
      "source": [
        "bin(3993)"
      ],
      "metadata": {
        "colab": {
          "base_uri": "https://localhost:8080/",
          "height": 35
        },
        "id": "G9-UjbN56Xcl",
        "outputId": "1727cec3-1004-4945-a2a0-378e66bfcbea"
      },
      "execution_count": 131,
      "outputs": [
        {
          "output_type": "execute_result",
          "data": {
            "text/plain": [
              "'0b111110011001'"
            ],
            "application/vnd.google.colaboratory.intrinsic+json": {
              "type": "string"
            }
          },
          "metadata": {},
          "execution_count": 131
        }
      ]
    },
    {
      "cell_type": "code",
      "source": [
        "int(str(7631),8)"
      ],
      "metadata": {
        "colab": {
          "base_uri": "https://localhost:8080/"
        },
        "id": "1AGHvH-K60l4",
        "outputId": "cf9b69ad-abac-4efb-da9a-f33c80f7e085"
      },
      "execution_count": 133,
      "outputs": [
        {
          "output_type": "execute_result",
          "data": {
            "text/plain": [
              "3993"
            ]
          },
          "metadata": {},
          "execution_count": 133
        }
      ]
    },
    {
      "cell_type": "code",
      "source": [
        "decimal_number = int('9DB5', 16)  # Convert to decimal first\n",
        "binary_representation = bin(decimal_number)\n",
        "int(binary_representation[2:])"
      ],
      "metadata": {
        "colab": {
          "base_uri": "https://localhost:8080/"
        },
        "id": "7gMJKf3l66LG",
        "outputId": "a3111486-cdc1-4771-c969-8f5852e6e368"
      },
      "execution_count": 137,
      "outputs": [
        {
          "output_type": "execute_result",
          "data": {
            "text/plain": [
              "1001110110110101"
            ]
          },
          "metadata": {},
          "execution_count": 137
        }
      ]
    },
    {
      "cell_type": "code",
      "source": [],
      "metadata": {
        "id": "aSSXGKWH9WcW"
      },
      "execution_count": null,
      "outputs": []
    }
  ]
}