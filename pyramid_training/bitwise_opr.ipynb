{
  "nbformat": 4,
  "nbformat_minor": 0,
  "metadata": {
    "colab": {
      "provenance": [],
      "authorship_tag": "ABX9TyMhNZ/YLoaLquKmfI0ezbkF",
      "include_colab_link": true
    },
    "kernelspec": {
      "name": "python3",
      "display_name": "Python 3"
    },
    "language_info": {
      "name": "python"
    }
  },
  "cells": [
    {
      "cell_type": "markdown",
      "metadata": {
        "id": "view-in-github",
        "colab_type": "text"
      },
      "source": [
        "<a href=\"https://colab.research.google.com/github/arssite/POTD_HUSTLE/blob/main/pyramid_training/bitwise_opr.ipynb\" target=\"_parent\"><img src=\"https://colab.research.google.com/assets/colab-badge.svg\" alt=\"Open In Colab\"/></a>"
      ]
    },
    {
      "cell_type": "markdown",
      "source": [
        "**&**  is Bitwise Operator\n",
        "\n",
        "**and** is Logical Operator"
      ],
      "metadata": {
        "id": "HDN7cIqdcc7n"
      }
    },
    {
      "cell_type": "code",
      "execution_count": 1,
      "metadata": {
        "id": "8H6MFN1BaNkf"
      },
      "outputs": [],
      "source": [
        "a=10\n",
        "b=12"
      ]
    },
    {
      "cell_type": "code",
      "source": [
        "a&b"
      ],
      "metadata": {
        "colab": {
          "base_uri": "https://localhost:8080/"
        },
        "id": "U2Rkiol1aSw6",
        "outputId": "08b2e0d5-2647-4866-c1fe-be611c45200e"
      },
      "execution_count": 2,
      "outputs": [
        {
          "output_type": "execute_result",
          "data": {
            "text/plain": [
              "8"
            ]
          },
          "metadata": {},
          "execution_count": 2
        }
      ]
    },
    {
      "cell_type": "code",
      "source": [
        "a and b"
      ],
      "metadata": {
        "colab": {
          "base_uri": "https://localhost:8080/"
        },
        "id": "yekSfa1qaUA4",
        "outputId": "d05549fb-d00b-4739-d282-1cc0f2cb2f62"
      },
      "execution_count": 3,
      "outputs": [
        {
          "output_type": "execute_result",
          "data": {
            "text/plain": [
              "12"
            ]
          },
          "metadata": {},
          "execution_count": 3
        }
      ]
    },
    {
      "cell_type": "code",
      "source": [
        "35 | 29"
      ],
      "metadata": {
        "colab": {
          "base_uri": "https://localhost:8080/"
        },
        "id": "6Hd00nucaaLo",
        "outputId": "f943b8fd-5b02-4d29-d777-361308b959c7"
      },
      "execution_count": 4,
      "outputs": [
        {
          "output_type": "execute_result",
          "data": {
            "text/plain": [
              "63"
            ]
          },
          "metadata": {},
          "execution_count": 4
        }
      ]
    },
    {
      "cell_type": "code",
      "source": [
        "10 ^ 12"
      ],
      "metadata": {
        "colab": {
          "base_uri": "https://localhost:8080/"
        },
        "id": "G5ntBXofer79",
        "outputId": "dac5d401-dbe2-4e70-f62b-2453181e781b"
      },
      "execution_count": 5,
      "outputs": [
        {
          "output_type": "execute_result",
          "data": {
            "text/plain": [
              "6"
            ]
          },
          "metadata": {},
          "execution_count": 5
        }
      ]
    },
    {
      "cell_type": "code",
      "source": [
        "23 ^ 32"
      ],
      "metadata": {
        "colab": {
          "base_uri": "https://localhost:8080/"
        },
        "id": "cthwlpxHfL1W",
        "outputId": "51c31c23-253c-42ec-adf5-e9c60311e512"
      },
      "execution_count": 6,
      "outputs": [
        {
          "output_type": "execute_result",
          "data": {
            "text/plain": [
              "55"
            ]
          },
          "metadata": {},
          "execution_count": 6
        }
      ]
    },
    {
      "cell_type": "code",
      "source": [
        "10<<2"
      ],
      "metadata": {
        "colab": {
          "base_uri": "https://localhost:8080/"
        },
        "id": "SfUo70NXfxMp",
        "outputId": "015253be-214b-45d0-f0bc-3e75d891d3b7"
      },
      "execution_count": 7,
      "outputs": [
        {
          "output_type": "execute_result",
          "data": {
            "text/plain": [
              "40"
            ]
          },
          "metadata": {},
          "execution_count": 7
        }
      ]
    },
    {
      "cell_type": "code",
      "source": [
        "bin(40)"
      ],
      "metadata": {
        "colab": {
          "base_uri": "https://localhost:8080/",
          "height": 35
        },
        "id": "kBxKz_GzgY_i",
        "outputId": "239867c9-8290-4fb2-da0b-f9f589308dc7"
      },
      "execution_count": 8,
      "outputs": [
        {
          "output_type": "execute_result",
          "data": {
            "text/plain": [
              "'0b101000'"
            ],
            "application/vnd.google.colaboratory.intrinsic+json": {
              "type": "string"
            }
          },
          "metadata": {},
          "execution_count": 8
        }
      ]
    },
    {
      "cell_type": "code",
      "source": [
        "10>>2"
      ],
      "metadata": {
        "colab": {
          "base_uri": "https://localhost:8080/"
        },
        "id": "o_m2ReGRgbHy",
        "outputId": "8ee4364a-12bf-4c40-971e-e589df1cc728"
      },
      "execution_count": 9,
      "outputs": [
        {
          "output_type": "execute_result",
          "data": {
            "text/plain": [
              "2"
            ]
          },
          "metadata": {},
          "execution_count": 9
        }
      ]
    },
    {
      "cell_type": "markdown",
      "source": [
        "Write a python to calculate hexadecimal no."
      ],
      "metadata": {
        "id": "L7pRHWQBiv5r"
      }
    },
    {
      "cell_type": "code",
      "source": [
        "def hexa(x):\n",
        "  print(hex(x)[2:])"
      ],
      "metadata": {
        "id": "eYQ0gG4Yg9KM"
      },
      "execution_count": 14,
      "outputs": []
    },
    {
      "cell_type": "code",
      "source": [
        "X=int(input(\"Enter a number:\"))\n",
        "hexa(X)"
      ],
      "metadata": {
        "colab": {
          "base_uri": "https://localhost:8080/"
        },
        "id": "prLnOsTni_Va",
        "outputId": "4720da77-e254-457d-cbe3-064d611a2d02"
      },
      "execution_count": 15,
      "outputs": [
        {
          "output_type": "stream",
          "name": "stdout",
          "text": [
            "Enter a number:123\n",
            "7b\n"
          ]
        }
      ]
    },
    {
      "cell_type": "code",
      "source": [
        "def d2h(x):\n",
        "  st=''\n",
        "  while x>0:\n",
        "    y=x%16\n",
        "    if y==10:\n",
        "      st+='A'\n",
        "    elif y==11:\n",
        "      staticmethod\n",
        "      st+='B'\n",
        "    elif y==12:\n",
        "      st+='C'\n",
        "    elif y==13:\n",
        "      st+='D'\n",
        "    else:\n",
        "      st+=str(y)\n",
        "    x=x//16\n",
        "\n",
        "  return st[::-1]"
      ],
      "metadata": {
        "id": "XdD6r2rHjANT"
      },
      "execution_count": 31,
      "outputs": []
    },
    {
      "cell_type": "code",
      "source": [
        "d2h(123)\n"
      ],
      "metadata": {
        "colab": {
          "base_uri": "https://localhost:8080/",
          "height": 35
        },
        "id": "54CxqLOTjwKE",
        "outputId": "925b3d7b-34ad-4896-b201-e247a9c12b98"
      },
      "execution_count": 33,
      "outputs": [
        {
          "output_type": "execute_result",
          "data": {
            "text/plain": [
              "'7B'"
            ],
            "application/vnd.google.colaboratory.intrinsic+json": {
              "type": "string"
            }
          },
          "metadata": {},
          "execution_count": 33
        }
      ]
    },
    {
      "cell_type": "code",
      "source": [
        "# prompt: create a hexa conversion function from decimal\n",
        "\n",
        "def hexa_conversion(decimal_number):\n",
        "  hexa = \"\"\n",
        "  i = 0\n",
        "  while decimal_number != 0:\n",
        "    temp = 0\n",
        "    temp = decimal_number % 16\n",
        "    if temp < 10:\n",
        "      hexa += chr(temp + 48)\n",
        "    else:\n",
        "      hexa += chr(temp + 87)\n",
        "      i += 1\n",
        "    decimal_number = decimal_number // 16\n",
        "  return hexa[::-1]\n",
        "\n",
        "print(hexa_conversion(123))\n"
      ],
      "metadata": {
        "colab": {
          "base_uri": "https://localhost:8080/"
        },
        "id": "w5ZnZDH9jxn8",
        "outputId": "0879803f-3147-49b3-c4cc-3c1992ae4354"
      },
      "execution_count": 34,
      "outputs": [
        {
          "output_type": "stream",
          "name": "stdout",
          "text": [
            "7b\n"
          ]
        }
      ]
    },
    {
      "cell_type": "code",
      "source": [
        "def h2d_m2(n):\n",
        "  s=''\n",
        "  h_digit='0123456789ABCDEF'\n",
        "  if n==0:\n",
        "    return 0\n",
        "  while n>0:\n",
        "    s=h_digit[n%16]+s\n",
        "    n=n//16\n",
        "  return s"
      ],
      "metadata": {
        "id": "y_5n0zppmlC-"
      },
      "execution_count": 37,
      "outputs": []
    },
    {
      "cell_type": "code",
      "source": [
        "h2d_m2(123)"
      ],
      "metadata": {
        "colab": {
          "base_uri": "https://localhost:8080/",
          "height": 35
        },
        "id": "iphSjz7gm_HA",
        "outputId": "09f4c81f-0b7d-4bcf-e4ab-ecc79ed96dff"
      },
      "execution_count": 38,
      "outputs": [
        {
          "output_type": "execute_result",
          "data": {
            "text/plain": [
              "'7B'"
            ],
            "application/vnd.google.colaboratory.intrinsic+json": {
              "type": "string"
            }
          },
          "metadata": {},
          "execution_count": 38
        }
      ]
    },
    {
      "cell_type": "code",
      "source": [
        "def d2h(x):\n",
        "  x=x[::-1]\n",
        "  h_digit=\"0123456789ABCDEF\"\n",
        "  st=0\n",
        "  r=0\n",
        "  for ch in x:\n",
        "    r+=(h_digit.index(ch))*16**st\n",
        "    st+=1\n",
        "  return r\n",
        ""
      ],
      "metadata": {
        "id": "mmZuw3gAnA0M"
      },
      "execution_count": 39,
      "outputs": []
    },
    {
      "cell_type": "code",
      "source": [
        "x=\"123\"\n",
        "d2h(x)"
      ],
      "metadata": {
        "colab": {
          "base_uri": "https://localhost:8080/"
        },
        "id": "-d_B-aiRt5mk",
        "outputId": "c6c6f7ff-ab3e-483c-efa8-560a23b704d3"
      },
      "execution_count": 40,
      "outputs": [
        {
          "output_type": "execute_result",
          "data": {
            "text/plain": [
              "291"
            ]
          },
          "metadata": {},
          "execution_count": 40
        }
      ]
    },
    {
      "cell_type": "code",
      "source": [
        "hex(123)"
      ],
      "metadata": {
        "colab": {
          "base_uri": "https://localhost:8080/",
          "height": 35
        },
        "id": "tO8KCw99t8SU",
        "outputId": "2062f3d7-ebf0-4627-a55d-50a0322aab4c"
      },
      "execution_count": 41,
      "outputs": [
        {
          "output_type": "execute_result",
          "data": {
            "text/plain": [
              "'0x7b'"
            ],
            "application/vnd.google.colaboratory.intrinsic+json": {
              "type": "string"
            }
          },
          "metadata": {},
          "execution_count": 41
        }
      ]
    },
    {
      "cell_type": "code",
      "source": [
        "def tp(x):\n",
        "  if x%2==0:\n",
        "    return 'yes'\n",
        "  else:\n",
        "    return 'no'"
      ],
      "metadata": {
        "id": "69vZDgkxuLFc"
      },
      "execution_count": 42,
      "outputs": []
    },
    {
      "cell_type": "code",
      "source": [
        "tp(8)"
      ],
      "metadata": {
        "colab": {
          "base_uri": "https://localhost:8080/",
          "height": 35
        },
        "id": "ADCTZMuRurXm",
        "outputId": "86fddd74-eb27-47c9-89c4-d5a795dabcee"
      },
      "execution_count": 43,
      "outputs": [
        {
          "output_type": "execute_result",
          "data": {
            "text/plain": [
              "'yes'"
            ],
            "application/vnd.google.colaboratory.intrinsic+json": {
              "type": "string"
            }
          },
          "metadata": {},
          "execution_count": 43
        }
      ]
    },
    {
      "cell_type": "code",
      "source": [
        "tp(0)"
      ],
      "metadata": {
        "colab": {
          "base_uri": "https://localhost:8080/",
          "height": 35
        },
        "id": "1yPbGUHdusd9",
        "outputId": "552f411c-2aa2-4aad-ed5e-00fbf5826439"
      },
      "execution_count": 45,
      "outputs": [
        {
          "output_type": "execute_result",
          "data": {
            "text/plain": [
              "'yes'"
            ],
            "application/vnd.google.colaboratory.intrinsic+json": {
              "type": "string"
            }
          },
          "metadata": {},
          "execution_count": 45
        }
      ]
    },
    {
      "cell_type": "code",
      "source": [
        "def isPowerOfTwo(n):\n",
        "  cnt=0\n",
        "  while(n>0):\n",
        "    if((n&1)==1):\n",
        "      cnt+=1\n",
        "    n=n>>1\n",
        "  if(cnt==1):\n",
        "    return True\n",
        "  else:\n",
        "    return False"
      ],
      "metadata": {
        "id": "RnPLBTzsutwV"
      },
      "execution_count": 46,
      "outputs": []
    },
    {
      "cell_type": "code",
      "source": [
        "isPowerOfTwo(8)"
      ],
      "metadata": {
        "colab": {
          "base_uri": "https://localhost:8080/"
        },
        "id": "i3KUXKx6zMsS",
        "outputId": "f09b0e3c-501c-4194-9ab2-9d276db9f42d"
      },
      "execution_count": 47,
      "outputs": [
        {
          "output_type": "execute_result",
          "data": {
            "text/plain": [
              "True"
            ]
          },
          "metadata": {},
          "execution_count": 47
        }
      ]
    },
    {
      "cell_type": "code",
      "source": [
        "def setornot(x,pos):\n",
        "  if((x>>pos)&1==1):\n",
        "    return True\n",
        "  else:\n",
        "    return False"
      ],
      "metadata": {
        "id": "XN6nv3DzzPVi"
      },
      "execution_count": 48,
      "outputs": []
    },
    {
      "cell_type": "code",
      "source": [
        "setornot(24,3)"
      ],
      "metadata": {
        "colab": {
          "base_uri": "https://localhost:8080/"
        },
        "id": "-yeOJtO-5J23",
        "outputId": "4a27ef1b-982d-4da9-e83f-e4a344707e39"
      },
      "execution_count": 49,
      "outputs": [
        {
          "output_type": "execute_result",
          "data": {
            "text/plain": [
              "True"
            ]
          },
          "metadata": {},
          "execution_count": 49
        }
      ]
    },
    {
      "cell_type": "code",
      "source": [
        "def chanBit(x,pos):\n",
        "  return (x^(1<<pos))"
      ],
      "metadata": {
        "id": "mt13-aZr5M3X"
      },
      "execution_count": 50,
      "outputs": []
    },
    {
      "cell_type": "code",
      "source": [
        "chanBit(5,1)"
      ],
      "metadata": {
        "colab": {
          "base_uri": "https://localhost:8080/"
        },
        "id": "bdkeghYV7n2S",
        "outputId": "93380516-7177-47e7-deda-afb6ca34018a"
      },
      "execution_count": 52,
      "outputs": [
        {
          "output_type": "execute_result",
          "data": {
            "text/plain": [
              "7"
            ]
          },
          "metadata": {},
          "execution_count": 52
        }
      ]
    },
    {
      "cell_type": "code",
      "source": [],
      "metadata": {
        "id": "PckmrvJJ7q85"
      },
      "execution_count": null,
      "outputs": []
    }
  ]
}