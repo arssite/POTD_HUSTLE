{
  "nbformat": 4,
  "nbformat_minor": 0,
  "metadata": {
    "colab": {
      "provenance": [],
      "authorship_tag": "ABX9TyObFJcc0ntPNZinB5LXh54l",
      "include_colab_link": true
    },
    "kernelspec": {
      "name": "python3",
      "display_name": "Python 3"
    },
    "language_info": {
      "name": "python"
    }
  },
  "cells": [
    {
      "cell_type": "markdown",
      "metadata": {
        "id": "view-in-github",
        "colab_type": "text"
      },
      "source": [
        "<a href=\"https://colab.research.google.com/github/arssite/POTD_HUSTLE/blob/main/pyramid_training/Bit_Manipulation.ipynb\" target=\"_parent\"><img src=\"https://colab.research.google.com/assets/colab-badge.svg\" alt=\"Open In Colab\"/></a>"
      ]
    },
    {
      "cell_type": "code",
      "source": [
        "def eq2k(k,n):\n",
        "  print(1<<k)\n",
        "  print(1<<n)\n",
        "  print((1<<k)+(1<<n))"
      ],
      "metadata": {
        "id": "gHlloNNJs_PG"
      },
      "execution_count": 12,
      "outputs": []
    },
    {
      "cell_type": "code",
      "source": [
        "k,n=map(int,input('enter: ').split())\n",
        "eq2k(k,n)"
      ],
      "metadata": {
        "colab": {
          "base_uri": "https://localhost:8080/"
        },
        "id": "ZJld2PPgt87f",
        "outputId": "8324e72d-a118-4be1-b0c5-005d03245945"
      },
      "execution_count": 13,
      "outputs": [
        {
          "output_type": "stream",
          "name": "stdout",
          "text": [
            "enter: 2 4\n",
            "4\n",
            "16\n",
            "20\n"
          ]
        }
      ]
    },
    {
      "cell_type": "code",
      "source": [
        "def flip(x,c):\n",
        "  x,c,count=bin(x),bin(c),0\n",
        "  mx=min(len(x),len(c))\n",
        "  for i in range(mx):\n",
        "    if x[i]!=c[i]:\n",
        "      count+=1\n",
        "  return count"
      ],
      "metadata": {
        "id": "7d7Iny_luEF4"
      },
      "execution_count": 18,
      "outputs": []
    },
    {
      "cell_type": "code",
      "source": [
        "print(flip(5,3))"
      ],
      "metadata": {
        "colab": {
          "base_uri": "https://localhost:8080/"
        },
        "id": "Chmb-2VyzEN0",
        "outputId": "2626c5b6-3441-4a37-9990-fd6e2d58749b"
      },
      "execution_count": 19,
      "outputs": [
        {
          "output_type": "stream",
          "name": "stdout",
          "text": [
            "1\n"
          ]
        }
      ]
    },
    {
      "cell_type": "code",
      "source": [
        "# Python3 program for the above approach\n",
        "\n",
        "# Function that count set bits\n",
        "\n",
        "\n",
        "def countSetBits(n):\n",
        "\tcount = 0\n",
        "\twhile n:\n",
        "\t\tcount += 1\n",
        "\t\tn &= (n-1)\n",
        "  ('gdg',n &= (n-1))\n",
        "\treturn count\n",
        "\n",
        "# Function that return count of\n",
        "# flipped number\n",
        "\n",
        "\n",
        "def FlippedCount(a, b):\n",
        "\n",
        "\t# Return count of set bits in\n",
        "\t# a XOR b\n",
        "\treturn countSetBits(a ^ b)\n",
        "\n",
        "\n",
        "# Driver code\n",
        "\n",
        "# This code is contributed by \"Sharad_Bhardwaj\".\n"
      ],
      "metadata": {
        "id": "JB31TC9CzIf7"
      },
      "execution_count": 21,
      "outputs": []
    },
    {
      "cell_type": "code",
      "source": [
        "\n",
        "a = 5\n",
        "b = 3\n",
        "\n",
        "# Function call\n",
        "print(FlippedCount(a, b))\n"
      ],
      "metadata": {
        "colab": {
          "base_uri": "https://localhost:8080/"
        },
        "id": "QbUXFJQLzuTs",
        "outputId": "653ba5e7-e76f-4398-8201-b04d68669acf"
      },
      "execution_count": 27,
      "outputs": [
        {
          "output_type": "stream",
          "name": "stdout",
          "text": [
            "2\n"
          ]
        }
      ]
    },
    {
      "cell_type": "code",
      "source": [
        "a=int(input())\n",
        "b=int(input())\n",
        "x=str(a^b)\n",
        "print(x)\n",
        "count=0\n",
        "for i in x:\n",
        "  if i=='1':\n",
        "    count+=1\n",
        "print(count)"
      ],
      "metadata": {
        "colab": {
          "base_uri": "https://localhost:8080/"
        },
        "id": "5mPJv8UKz0uL",
        "outputId": "8259d8d6-3981-4daf-e16d-46e37f13e7b6"
      },
      "execution_count": 30,
      "outputs": [
        {
          "output_type": "stream",
          "name": "stdout",
          "text": [
            "5\n",
            "3\n",
            "6\n",
            "0\n"
          ]
        }
      ]
    },
    {
      "cell_type": "code",
      "source": [
        "#final\n",
        "\n",
        "a=int(input())\n",
        "b=int(input())\n",
        "x=a^b\n",
        "count=0\n",
        "while x>0:\n",
        "  if (x&1)==1:\n",
        "    count+=1\n",
        "  x=x>>1\n",
        "print(count)"
      ],
      "metadata": {
        "colab": {
          "base_uri": "https://localhost:8080/"
        },
        "id": "sP6o7UM50VbV",
        "outputId": "87c42556-fc84-4dc1-df2d-fe647e479711"
      },
      "execution_count": 33,
      "outputs": [
        {
          "output_type": "stream",
          "name": "stdout",
          "text": [
            "5\n",
            "3\n",
            "2\n"
          ]
        }
      ]
    },
    {
      "cell_type": "code",
      "source": [
        "n=int(input())\n",
        "for i in range(1,n):\n",
        "  print(\"3 ki multiple\",3*i,'\\t',\"5 ki mutiple\",5*i)"
      ],
      "metadata": {
        "colab": {
          "base_uri": "https://localhost:8080/"
        },
        "id": "xmjvf2JF1buj",
        "outputId": "25ef3653-1619-4f00-a4e5-a67cb0f530e0"
      },
      "execution_count": 36,
      "outputs": [
        {
          "output_type": "stream",
          "name": "stdout",
          "text": [
            "10\n",
            "3 ki multiple 3 \t 5 ki mutiple 5\n",
            "3 ki multiple 6 \t 5 ki mutiple 10\n",
            "3 ki multiple 9 \t 5 ki mutiple 15\n",
            "3 ki multiple 12 \t 5 ki mutiple 20\n",
            "3 ki multiple 15 \t 5 ki mutiple 25\n",
            "3 ki multiple 18 \t 5 ki mutiple 30\n",
            "3 ki multiple 21 \t 5 ki mutiple 35\n",
            "3 ki multiple 24 \t 5 ki mutiple 40\n",
            "3 ki multiple 27 \t 5 ki mutiple 45\n"
          ]
        }
      ]
    },
    {
      "cell_type": "code",
      "source": [
        "n=int(input())\n",
        "c=0\n",
        "for i in range(1,n+1):\n",
        "  if i%3==0:\n",
        "    c+=1\n",
        "  elif  i%5==0:\n",
        "    c+=1\n",
        "print(c)\n"
      ],
      "metadata": {
        "colab": {
          "base_uri": "https://localhost:8080/"
        },
        "id": "Hr-INmV_B99Y",
        "outputId": "d5190fee-d1da-4770-f3c9-fa8a4c59d2cf"
      },
      "execution_count": 53,
      "outputs": [
        {
          "output_type": "stream",
          "name": "stdout",
          "text": [
            "15\n",
            "7\n"
          ]
        }
      ]
    },
    {
      "cell_type": "code",
      "source": [
        "n = int(input())\n",
        "c = (n // 3) + (n // 5) - (n // 15)\n",
        "print(c)\n"
      ],
      "metadata": {
        "colab": {
          "base_uri": "https://localhost:8080/"
        },
        "id": "qVgReaYXCPwv",
        "outputId": "c3c8b8ac-302b-4bb5-838d-436c6b88122b"
      },
      "execution_count": 56,
      "outputs": [
        {
          "output_type": "stream",
          "name": "stdout",
          "text": [
            "15\n",
            "7\n"
          ]
        }
      ]
    },
    {
      "cell_type": "code",
      "source": [
        "l,b=map(float,input().split())\n",
        "print(int(l*b),int(2*(l+b)))\n"
      ],
      "metadata": {
        "colab": {
          "base_uri": "https://localhost:8080/"
        },
        "id": "fKrWQ4NJGS0s",
        "outputId": "9e68bb0a-8788-4ad7-fefa-5c47ef94763f"
      },
      "execution_count": 61,
      "outputs": [
        {
          "output_type": "stream",
          "name": "stdout",
          "text": [
            "3  5\n",
            "15 16\n"
          ]
        }
      ]
    },
    {
      "cell_type": "code",
      "source": [
        "n=int(input())\n",
        "if n <2:\n",
        "  print(\"not prime\")\n",
        "else:\n",
        "  for i in range(2,n):\n",
        "    if n%i==0:\n",
        "      print(\"not prime\")\n",
        "      break\n",
        "  else:\n",
        "    print(\"prime\")"
      ],
      "metadata": {
        "colab": {
          "base_uri": "https://localhost:8080/"
        },
        "id": "EF8Q7R2cJA1t",
        "outputId": "4cfd042c-3fca-40c7-d316-a46668081e25"
      },
      "execution_count": 63,
      "outputs": [
        {
          "output_type": "stream",
          "name": "stdout",
          "text": [
            "7\n",
            "prime\n"
          ]
        }
      ]
    },
    {
      "cell_type": "code",
      "source": [
        "def is_prime(n):\n",
        "  if n <= 1:\n",
        "    return False\n",
        "  for i in range(2, int(n**0.5) + 1):\n",
        "    if n % i == 0:\n",
        "      return False\n",
        "  return True\n",
        "\n",
        "print(is_prime(5))\n",
        "print(is_prime(10))\n"
      ],
      "metadata": {
        "colab": {
          "base_uri": "https://localhost:8080/"
        },
        "id": "-MHqEx1HKAXe",
        "outputId": "c6e8490f-d759-48fc-c6d0-233eedbb0fb2"
      },
      "execution_count": 62,
      "outputs": [
        {
          "output_type": "stream",
          "name": "stdout",
          "text": [
            "True\n",
            "False\n"
          ]
        }
      ]
    },
    {
      "cell_type": "code",
      "source": [
        "n=int(input())\n",
        "k=int(input())\n",
        "print(k%n)"
      ],
      "metadata": {
        "colab": {
          "base_uri": "https://localhost:8080/"
        },
        "id": "butL-B2RLPvI",
        "outputId": "5a06b740-cc07-4b39-9520-a4c817d46bb7"
      },
      "execution_count": 66,
      "outputs": [
        {
          "output_type": "stream",
          "name": "stdout",
          "text": [
            "10\n",
            "100\n",
            "0\n"
          ]
        }
      ]
    },
    {
      "cell_type": "code",
      "source": [
        "n=int(input())\n",
        "for i in range(1,n+1):\n",
        "  if n%i==0:\n",
        ""
      ],
      "metadata": {
        "id": "EHvC-zh8KmPm"
      },
      "execution_count": null,
      "outputs": []
    },
    {
      "cell_type": "code",
      "source": [
        "def fib(n):\n",
        "  sum=0\n",
        "  if n==0:\n",
        "    return sum\n",
        "  else:\n",
        "    return n + fib(n-1)\n",
        "\n",
        "n=int(input())\n",
        "print(fib(n))"
      ],
      "metadata": {
        "colab": {
          "base_uri": "https://localhost:8080/"
        },
        "id": "IrM4Xv-pRxb4",
        "outputId": "5278eeb2-bf55-41f3-8314-0c4f4671e077"
      },
      "execution_count": 73,
      "outputs": [
        {
          "output_type": "stream",
          "name": "stdout",
          "text": [
            "10\n",
            "55\n"
          ]
        }
      ]
    },
    {
      "cell_type": "code",
      "source": [
        "n=int(input())\n",
        "n=(n*(n+1))//2\n",
        "n"
      ],
      "metadata": {
        "colab": {
          "base_uri": "https://localhost:8080/"
        },
        "id": "GOiQ8irWkpi-",
        "outputId": "386b4ad2-9610-4da3-a94f-65f809bb91e4"
      },
      "execution_count": 89,
      "outputs": [
        {
          "name": "stdout",
          "output_type": "stream",
          "text": [
            "10\n"
          ]
        },
        {
          "output_type": "execute_result",
          "data": {
            "text/plain": [
              "55"
            ]
          },
          "metadata": {},
          "execution_count": 89
        }
      ]
    },
    {
      "cell_type": "code",
      "source": [
        "n=int(input())\n",
        "n=(n*(n+1)*(2*n+1))//6\n",
        "print(n)\n"
      ],
      "metadata": {
        "colab": {
          "base_uri": "https://localhost:8080/"
        },
        "id": "NngnaWIdmNH8",
        "outputId": "a7f1ea25-24cd-4688-f0ca-ad900b178c47"
      },
      "execution_count": 91,
      "outputs": [
        {
          "output_type": "stream",
          "name": "stdout",
          "text": [
            "15\n",
            "1240\n"
          ]
        }
      ]
    },
    {
      "cell_type": "code",
      "source": [
        "n=int(input())\n",
        "n=((n*(n+1))//2)**2\n",
        "print(n)"
      ],
      "metadata": {
        "colab": {
          "base_uri": "https://localhost:8080/"
        },
        "id": "LWGAImAkmVSR",
        "outputId": "24c8dead-4707-4aea-ab4e-05f394bc8f74"
      },
      "execution_count": 92,
      "outputs": [
        {
          "output_type": "stream",
          "name": "stdout",
          "text": [
            "4\n",
            "100\n"
          ]
        }
      ]
    },
    {
      "cell_type": "code",
      "source": [
        "a,b=map(int,input().split())\n",
        "print(a*b)"
      ],
      "metadata": {
        "colab": {
          "base_uri": "https://localhost:8080/"
        },
        "id": "bd99SOfunqxm",
        "outputId": "d5053c9d-f60b-40b6-d65c-4a44625994c8"
      },
      "execution_count": 93,
      "outputs": [
        {
          "output_type": "stream",
          "name": "stdout",
          "text": [
            "5 8\n",
            "40\n"
          ]
        }
      ]
    },
    {
      "cell_type": "code",
      "source": [
        "x,y=map(int,input().split())\n",
        "print(2*(x+y))"
      ],
      "metadata": {
        "colab": {
          "base_uri": "https://localhost:8080/"
        },
        "id": "vkdmm9w1ojeB",
        "outputId": "ffbe7264-78d8-4aca-d314-e5023bb2417a"
      },
      "execution_count": 97,
      "outputs": [
        {
          "output_type": "stream",
          "name": "stdout",
          "text": [
            "3 4\n",
            "14\n"
          ]
        }
      ]
    },
    {
      "cell_type": "code",
      "source": [
        "x=int(input())\n",
        "v=x%10\n",
        "\n",
        "\n",
        "#print(x[::-1])\n"
      ],
      "metadata": {
        "colab": {
          "base_uri": "https://localhost:8080/"
        },
        "id": "INLhlBY7pfdZ",
        "outputId": "063d1bfc-44ed-4b99-f7bc-e549425abb6e"
      },
      "execution_count": 98,
      "outputs": [
        {
          "output_type": "stream",
          "name": "stdout",
          "text": [
            "1234\n",
            "4321\n"
          ]
        }
      ]
    },
    {
      "cell_type": "code",
      "source": [
        "x=input()\n",
        "print(x[-1]+x[1:-1]+x[0])"
      ],
      "metadata": {
        "colab": {
          "base_uri": "https://localhost:8080/"
        },
        "id": "vADVWnthrQ0t",
        "outputId": "92425e27-9925-47fb-aa6f-9f4d26620dde"
      },
      "execution_count": 101,
      "outputs": [
        {
          "output_type": "stream",
          "name": "stdout",
          "text": [
            "1234\n",
            "4231\n"
          ]
        }
      ]
    },
    {
      "cell_type": "code",
      "source": [
        "x=input()\n",
        "print('3'+x+'3')"
      ],
      "metadata": {
        "colab": {
          "base_uri": "https://localhost:8080/"
        },
        "id": "RSvyli1xsQn7",
        "outputId": "476122a1-e9ef-4826-ac00-c5250dbe70bc"
      },
      "execution_count": 102,
      "outputs": [
        {
          "output_type": "stream",
          "name": "stdout",
          "text": [
            "2356\n",
            "323563\n"
          ]
        }
      ]
    },
    {
      "cell_type": "code",
      "source": [
        "x=input()\n",
        "for i in x:\n",
        "  if i.isdigit():  # Check if the character is a digit\n",
        "    print(int(i))"
      ],
      "metadata": {
        "colab": {
          "base_uri": "https://localhost:8080/"
        },
        "id": "Hyh_CRazs9YC",
        "outputId": "f15c52ed-84db-49dc-8600-163f638b8fd7"
      },
      "execution_count": 107,
      "outputs": [
        {
          "output_type": "stream",
          "name": "stdout",
          "text": [
            "-256\n",
            "2\n",
            "5\n",
            "6\n"
          ]
        }
      ]
    },
    {
      "cell_type": "code",
      "source": [
        "x=input()\n",
        "print(x[0])\n",
        "print(x[1])\n",
        "print(x[2])"
      ],
      "metadata": {
        "colab": {
          "base_uri": "https://localhost:8080/"
        },
        "id": "Cpz1DH-PtSH8",
        "outputId": "f57845f9-fccc-4298-cc4b-3e8e429f54e5"
      },
      "execution_count": 104,
      "outputs": [
        {
          "output_type": "stream",
          "name": "stdout",
          "text": [
            "198\n",
            "1\n",
            "9\n",
            "8\n"
          ]
        }
      ]
    },
    {
      "cell_type": "code",
      "source": [
        "x=str(input())\n",
        "a,b,c=int(x[0]),int(x[1]),int(x[2])\n",
        "print(a+b+c,a*b*c)"
      ],
      "metadata": {
        "colab": {
          "base_uri": "https://localhost:8080/"
        },
        "id": "ClsPutwLthI-",
        "outputId": "f9aa0acb-b492-4943-86e1-ce21ba8b3e0e"
      },
      "execution_count": 111,
      "outputs": [
        {
          "output_type": "stream",
          "name": "stdout",
          "text": [
            "234\n",
            "9 24\n"
          ]
        }
      ]
    },
    {
      "cell_type": "code",
      "source": [
        "#previous list element is greater then sum with other\n",
        "x=list(map(int,input().split()))\n",
        "y=sorted(x)\n",
        "print(y)\n",
        "\n",
        "#x=int(input())\n",
        "\n",
        "\n"
      ],
      "metadata": {
        "colab": {
          "base_uri": "https://localhost:8080/"
        },
        "id": "VR4GM1Pcu5r9",
        "outputId": "19150675-627f-428e-b0d1-bbb0a9cc8808"
      },
      "execution_count": 114,
      "outputs": [
        {
          "output_type": "stream",
          "name": "stdout",
          "text": [
            "10\n",
            "[10]\n"
          ]
        }
      ]
    },
    {
      "cell_type": "code",
      "source": [
        "x=list(map(int,input().split()))\n",
        "res=x[0]\n",
        "cur_mx=x[0]\n",
        "for i in x:\n",
        "  if i>cur_mx:\n",
        "    res+=i\n",
        "    curr_mx=i\n",
        "print(res)\n"
      ],
      "metadata": {
        "colab": {
          "base_uri": "https://localhost:8080/"
        },
        "id": "DvHscb-cxsEM",
        "outputId": "d5205c15-b3df-407b-f0dc-a511b8de14ee"
      },
      "execution_count": 118,
      "outputs": [
        {
          "output_type": "stream",
          "name": "stdout",
          "text": [
            "400 50 500\n",
            "900\n"
          ]
        }
      ]
    },
    {
      "cell_type": "code",
      "source": [
        "x=input()\n",
        "print(x[1:3])"
      ],
      "metadata": {
        "colab": {
          "base_uri": "https://localhost:8080/"
        },
        "id": "4KgGL8-e2jQg",
        "outputId": "fd4dfad7-58ef-46a6-c100-c31934f809d1"
      },
      "execution_count": 119,
      "outputs": [
        {
          "output_type": "stream",
          "name": "stdout",
          "text": [
            "4563\n",
            "56\n"
          ]
        }
      ]
    },
    {
      "cell_type": "code",
      "source": [
        "x,y=map(int,input().split())\n",
        "print(x**2+y**2)"
      ],
      "metadata": {
        "colab": {
          "base_uri": "https://localhost:8080/"
        },
        "id": "lA962_M86KAJ",
        "outputId": "edf05f7e-6b83-46c9-c212-7566a5cf18ec"
      },
      "execution_count": 120,
      "outputs": [
        {
          "output_type": "stream",
          "name": "stdout",
          "text": [
            "2 3\n",
            "13\n"
          ]
        }
      ]
    },
    {
      "cell_type": "code",
      "source": [
        "x=int(input())\n",
        "print(x**3)\n"
      ],
      "metadata": {
        "colab": {
          "base_uri": "https://localhost:8080/"
        },
        "id": "83Oz9q316jER",
        "outputId": "83fcb682-faff-4d76-ee89-c71528e260a5"
      },
      "execution_count": 121,
      "outputs": [
        {
          "output_type": "stream",
          "name": "stdout",
          "text": [
            "2\n",
            "8\n"
          ]
        }
      ]
    },
    {
      "cell_type": "code",
      "source": [
        "x=input()\n",
        "print(x[-1]+x[1:-1]+x[0])"
      ],
      "metadata": {
        "colab": {
          "base_uri": "https://localhost:8080/"
        },
        "id": "3Z5YbMqa69G7",
        "outputId": "21464ee6-0e14-4c82-bb00-a2df5bf0d6ab"
      },
      "execution_count": 122,
      "outputs": [
        {
          "output_type": "stream",
          "name": "stdout",
          "text": [
            "1235\n",
            "5231\n"
          ]
        }
      ]
    },
    {
      "cell_type": "code",
      "source": [
        "7r=int(input())\n",
        "c=int(input())\n",
        "lst=[]\n",
        "for i in range(r):\n",
        "  tlst=list(map(int,input().split()))\n",
        "  lst.append(tlst)\n",
        "for i in range(r):\n",
        "  for j in range(c):\n",
        "    print(lst[i][j],end=' ')\n",
        "  print()\n"
      ],
      "metadata": {
        "colab": {
          "base_uri": "https://localhost:8080/",
          "height": 315
        },
        "id": "ZlOp3Jqd7d40",
        "outputId": "8daa52c2-f66a-4ecb-871b-05ec97f2d5d8"
      },
      "execution_count": 127,
      "outputs": [
        {
          "output_type": "stream",
          "name": "stdout",
          "text": [
            "4\n",
            "5\n",
            "6866\n",
            "5455\n",
            "4445\n",
            "5556\n",
            "6866 "
          ]
        },
        {
          "output_type": "error",
          "ename": "IndexError",
          "evalue": "list index out of range",
          "traceback": [
            "\u001b[0;31m---------------------------------------------------------------------------\u001b[0m",
            "\u001b[0;31mIndexError\u001b[0m                                Traceback (most recent call last)",
            "\u001b[0;32m<ipython-input-127-5e8f935e208d>\u001b[0m in \u001b[0;36m<cell line: 7>\u001b[0;34m()\u001b[0m\n\u001b[1;32m      7\u001b[0m \u001b[0;32mfor\u001b[0m \u001b[0mi\u001b[0m \u001b[0;32min\u001b[0m \u001b[0mrange\u001b[0m\u001b[0;34m(\u001b[0m\u001b[0mr\u001b[0m\u001b[0;34m)\u001b[0m\u001b[0;34m:\u001b[0m\u001b[0;34m\u001b[0m\u001b[0;34m\u001b[0m\u001b[0m\n\u001b[1;32m      8\u001b[0m   \u001b[0;32mfor\u001b[0m \u001b[0mj\u001b[0m \u001b[0;32min\u001b[0m \u001b[0mrange\u001b[0m\u001b[0;34m(\u001b[0m\u001b[0mc\u001b[0m\u001b[0;34m)\u001b[0m\u001b[0;34m:\u001b[0m\u001b[0;34m\u001b[0m\u001b[0;34m\u001b[0m\u001b[0m\n\u001b[0;32m----> 9\u001b[0;31m     \u001b[0mprint\u001b[0m\u001b[0;34m(\u001b[0m\u001b[0mlst\u001b[0m\u001b[0;34m[\u001b[0m\u001b[0mi\u001b[0m\u001b[0;34m]\u001b[0m\u001b[0;34m[\u001b[0m\u001b[0mj\u001b[0m\u001b[0;34m]\u001b[0m\u001b[0;34m,\u001b[0m\u001b[0mend\u001b[0m\u001b[0;34m=\u001b[0m\u001b[0;34m' '\u001b[0m\u001b[0;34m)\u001b[0m\u001b[0;34m\u001b[0m\u001b[0;34m\u001b[0m\u001b[0m\n\u001b[0m\u001b[1;32m     10\u001b[0m   \u001b[0mprint\u001b[0m\u001b[0;34m(\u001b[0m\u001b[0;34m)\u001b[0m\u001b[0;34m\u001b[0m\u001b[0;34m\u001b[0m\u001b[0m\n",
            "\u001b[0;31mIndexError\u001b[0m: list index out of range"
          ]
        }
      ]
    },
    {
      "cell_type": "code",
      "source": [
        "matrix = [[1, 2, 3],[4, 5, 6],[7, 8, 9]]\n",
        "n = len(matrix)\n",
        "primary_sum = 0\n",
        "secondary_sum = 0\n",
        "for i in range(n):\n",
        "  primary_sum += matrix[i][i]\n",
        "  secondary_sum += matrix[i][n - 1 - i]\n",
        "print(primary_sum, secondary_sum)"
      ],
      "metadata": {
        "colab": {
          "base_uri": "https://localhost:8080/"
        },
        "id": "PHWtXH8z8_jp",
        "outputId": "ceb81891-2783-43cb-e229-4c322b870a80"
      },
      "execution_count": 132,
      "outputs": [
        {
          "output_type": "stream",
          "name": "stdout",
          "text": [
            "15 15\n"
          ]
        }
      ]
    },
    {
      "cell_type": "code",
      "source": [],
      "metadata": {
        "id": "z-ZqsMW099Dt"
      },
      "execution_count": 132,
      "outputs": []
    }
  ]
}