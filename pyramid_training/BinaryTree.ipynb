{
  "nbformat": 4,
  "nbformat_minor": 0,
  "metadata": {
    "colab": {
      "provenance": [],
      "authorship_tag": "ABX9TyPU5psMuF1TXR8m1sWKLn8Q",
      "include_colab_link": true
    },
    "kernelspec": {
      "name": "python3",
      "display_name": "Python 3"
    },
    "language_info": {
      "name": "python"
    }
  },
  "cells": [
    {
      "cell_type": "markdown",
      "metadata": {
        "id": "view-in-github",
        "colab_type": "text"
      },
      "source": [
        "<a href=\"https://colab.research.google.com/github/arssite/POTD_HUSTLE/blob/main/pyramid_training/BinaryTree.ipynb\" target=\"_parent\"><img src=\"https://colab.research.google.com/assets/colab-badge.svg\" alt=\"Open In Colab\"/></a>"
      ]
    },
    {
      "cell_type": "markdown",
      "source": [
        "#Tree Traversal"
      ],
      "metadata": {
        "id": "CM2HxJMfH5WS"
      }
    },
    {
      "cell_type": "code",
      "execution_count": 3,
      "metadata": {
        "id": "aWcGD-128A0m"
      },
      "outputs": [],
      "source": [
        "class Node:\n",
        "  def __init__(self,data):\n",
        "    self.data=data\n",
        "    self.left=None\n",
        "    self.right=None"
      ]
    },
    {
      "cell_type": "code",
      "source": [
        "def inorder(root):\n",
        "  if root:\n",
        "    inorder(root.left)\n",
        "    print(root.data,end=\" \")\n",
        "    inorder(root.right)"
      ],
      "metadata": {
        "id": "Df8HU_EuGA-z"
      },
      "execution_count": 4,
      "outputs": []
    },
    {
      "cell_type": "code",
      "source": [
        "def preorder(root):\n",
        "  if root:\n",
        "    print(root.data,end=\" \")\n",
        "    preorder(root.left)\n",
        "    preorder(root.right)"
      ],
      "metadata": {
        "id": "uc1KTeYbHDH4"
      },
      "execution_count": 5,
      "outputs": []
    },
    {
      "cell_type": "code",
      "source": [
        "def postorder(root):\n",
        "  if root:\n",
        "    postorder(root.left)\n",
        "    postorder(root.right)\n",
        "    print(root.data,end=' ')"
      ],
      "metadata": {
        "id": "iYN4cK2EHZ--"
      },
      "execution_count": 6,
      "outputs": []
    },
    {
      "cell_type": "code",
      "source": [
        "root=Node(int(input()))\n",
        "root.left=Node(int(input()))\n",
        "root.right=Node(int(input()))\n",
        "root.left.left=Node(int(input()))\n",
        "root.left.right=Node(int(input()))\n",
        "root.right.left=Node(int(input()))\n",
        "root.left.left.left=Node(int(input()))\n",
        "root.left.left.right=Node(int(input()))\n",
        "root.left.right.left=Node(int(input()))"
      ],
      "metadata": {
        "colab": {
          "base_uri": "https://localhost:8080/"
        },
        "id": "3uGbvFSDFn_W",
        "outputId": "bf16279d-2987-45c4-935e-8198b1851003"
      },
      "execution_count": 8,
      "outputs": [
        {
          "name": "stdout",
          "output_type": "stream",
          "text": [
            "10\n",
            "20\n",
            "30\n",
            "40\n",
            "50\n",
            "60\n",
            "70\n",
            "80\n",
            "90\n"
          ]
        }
      ]
    },
    {
      "cell_type": "code",
      "source": [
        "inorder(root)"
      ],
      "metadata": {
        "colab": {
          "base_uri": "https://localhost:8080/"
        },
        "id": "goIonq7SF5Kh",
        "outputId": "a917f610-3395-49ec-ecf5-c0982ea4e031"
      },
      "execution_count": 9,
      "outputs": [
        {
          "output_type": "stream",
          "name": "stdout",
          "text": [
            "70 40 80 20 90 50 10 60 30 "
          ]
        }
      ]
    },
    {
      "cell_type": "code",
      "source": [
        "preorder(root)"
      ],
      "metadata": {
        "colab": {
          "base_uri": "https://localhost:8080/"
        },
        "id": "EbbaWEPKGi0p",
        "outputId": "630c3bed-9c98-4638-cf5d-893b1e75e2ec"
      },
      "execution_count": 10,
      "outputs": [
        {
          "output_type": "stream",
          "name": "stdout",
          "text": [
            "10 20 40 70 80 50 90 30 60 "
          ]
        }
      ]
    },
    {
      "cell_type": "code",
      "source": [
        "postorder(root)"
      ],
      "metadata": {
        "colab": {
          "base_uri": "https://localhost:8080/"
        },
        "id": "rGqU_QY-HUsc",
        "outputId": "49dcbd6b-2440-44e8-c6af-f16deb92d1a6"
      },
      "execution_count": 11,
      "outputs": [
        {
          "output_type": "stream",
          "name": "stdout",
          "text": [
            "70 80 40 90 50 20 60 30 10 "
          ]
        }
      ]
    },
    {
      "cell_type": "markdown",
      "source": [
        "#BST"
      ],
      "metadata": {
        "id": "OuWDOClCMjhA"
      }
    },
    {
      "cell_type": "code",
      "source": [
        "class Node:\n",
        "  def __init__(self,data):\n",
        "    self.data=data\n",
        "    self.left=None\n",
        "    self.right=None"
      ],
      "metadata": {
        "id": "G1-8f9dJMjSx"
      },
      "execution_count": 12,
      "outputs": []
    },
    {
      "cell_type": "code",
      "source": [
        "def insert(root,data):\n",
        "  if root is None:\n",
        "    return Node(data)\n",
        "  elif data<root.data:\n",
        "    root.left=insert(root.left,data)\n",
        "  else:\n",
        "    root.right=insert(root.right,data)\n",
        "  return root"
      ],
      "metadata": {
        "id": "JAydIyiIHoFb"
      },
      "execution_count": 13,
      "outputs": []
    },
    {
      "cell_type": "code",
      "source": [
        "def inorder(root):\n",
        "  if root:\n",
        "    inorder(root.left)\n",
        "    print(root.data,end=\" \")\n",
        "    inorder(root.right)"
      ],
      "metadata": {
        "id": "jrUvm5M1VaN9"
      },
      "execution_count": 14,
      "outputs": []
    },
    {
      "cell_type": "code",
      "source": [
        "def preorder(root):\n",
        "  if root:\n",
        "    print(root.data,end=\" \")\n",
        "    preorder(root.left)\n",
        "    preorder(root.right)"
      ],
      "metadata": {
        "id": "xbnThFu2VqeB"
      },
      "execution_count": 15,
      "outputs": []
    },
    {
      "cell_type": "code",
      "source": [
        "\n",
        "def postorder(root):\n",
        "  if root:\n",
        "    postorder(root.left)\n",
        "    postorder(root.right)\n",
        "    print(root.data,end=' ')"
      ],
      "metadata": {
        "id": "sVTr52olVslZ"
      },
      "execution_count": 16,
      "outputs": []
    },
    {
      "cell_type": "code",
      "source": [
        "root=None\n",
        "n=int(input())\n",
        "while n!=0:\n",
        "  root=insert(root,n)\n",
        "  n=int(input())"
      ],
      "metadata": {
        "colab": {
          "base_uri": "https://localhost:8080/"
        },
        "id": "zmfceKgrVtOR",
        "outputId": "821c65c0-f279-4163-fdb1-a7291108630f"
      },
      "execution_count": 17,
      "outputs": [
        {
          "name": "stdout",
          "output_type": "stream",
          "text": [
            "20\n",
            "120\n",
            "56\n",
            "14\n",
            "253\n",
            "65\n",
            "0\n"
          ]
        }
      ]
    },
    {
      "cell_type": "code",
      "source": [
        "inorder(root)"
      ],
      "metadata": {
        "colab": {
          "base_uri": "https://localhost:8080/"
        },
        "id": "Y4HvEcukWOsw",
        "outputId": "92c074a2-aad5-43aa-e6ee-fb759bbc5087"
      },
      "execution_count": 18,
      "outputs": [
        {
          "output_type": "stream",
          "name": "stdout",
          "text": [
            "14 20 56 65 120 253 "
          ]
        }
      ]
    },
    {
      "cell_type": "markdown",
      "source": [
        "#Smallest Element In BST"
      ],
      "metadata": {
        "id": "57ROFQjebdAe"
      }
    },
    {
      "cell_type": "code",
      "source": [
        "def findmin(root):\n",
        "  if root is None:\n",
        "    return -1\n",
        "  while root.left is not None:\n",
        "    root=root.left\n",
        "  return root.data"
      ],
      "metadata": {
        "id": "FURHu_EMWhdB"
      },
      "execution_count": 19,
      "outputs": []
    },
    {
      "cell_type": "code",
      "source": [
        "print(findmin(root))"
      ],
      "metadata": {
        "colab": {
          "base_uri": "https://localhost:8080/"
        },
        "id": "zARKAbgNadk7",
        "outputId": "316f367a-de7c-42f3-b8f6-a5fb7cb8fd47"
      },
      "execution_count": 20,
      "outputs": [
        {
          "output_type": "stream",
          "name": "stdout",
          "text": [
            "14\n"
          ]
        }
      ]
    },
    {
      "cell_type": "markdown",
      "source": [
        "#Maximum Element In Bst"
      ],
      "metadata": {
        "id": "rNl85lNchf9F"
      }
    },
    {
      "cell_type": "code",
      "source": [
        "def findmax(root):\n",
        "  if root is None:\n",
        "    return -1\n",
        "  while root.right is not None:\n",
        "    root=root.right\n",
        "  return root.data"
      ],
      "metadata": {
        "id": "IOVLsoCXahNC"
      },
      "execution_count": 21,
      "outputs": []
    },
    {
      "cell_type": "code",
      "source": [
        "print(findmax(root))"
      ],
      "metadata": {
        "colab": {
          "base_uri": "https://localhost:8080/"
        },
        "id": "BjWwyToDd_xL",
        "outputId": "1cb16f3a-5cdf-4caf-fbf6-4e8b47b9cb91"
      },
      "execution_count": 22,
      "outputs": [
        {
          "output_type": "stream",
          "name": "stdout",
          "text": [
            "253\n"
          ]
        }
      ]
    },
    {
      "cell_type": "markdown",
      "source": [
        "#Search in BST"
      ],
      "metadata": {
        "id": "O4Q9tgM8ifRX"
      }
    },
    {
      "cell_type": "code",
      "source": [
        "def search(root,data):\n",
        "  if root is None:\n",
        "    return False\n",
        "  elif root.data==data:\n",
        "    return True\n",
        "  elif data<root.data:\n",
        "    return search(root.left,data)\n",
        "  else:\n",
        "    return search(root.right,data)"
      ],
      "metadata": {
        "id": "vQW1v47niebf"
      },
      "execution_count": 23,
      "outputs": []
    },
    {
      "cell_type": "code",
      "source": [
        "search(root,int(input()))"
      ],
      "metadata": {
        "colab": {
          "base_uri": "https://localhost:8080/"
        },
        "id": "A59v_x1MeCJ7",
        "outputId": "50b193d5-ccba-4fd2-ae29-9a9a1892b3a9"
      },
      "execution_count": 24,
      "outputs": [
        {
          "name": "stdout",
          "output_type": "stream",
          "text": [
            "45\n"
          ]
        },
        {
          "output_type": "execute_result",
          "data": {
            "text/plain": [
              "False"
            ]
          },
          "metadata": {},
          "execution_count": 24
        }
      ]
    },
    {
      "cell_type": "markdown",
      "source": [
        "#Height of Bst"
      ],
      "metadata": {
        "id": "YsrKkdRm43Hz"
      }
    },
    {
      "cell_type": "code",
      "source": [
        "def height_of_bst(root):\n",
        "    if root is None: return -1\n",
        "    left_height = height_of_bst(root.left)\n",
        "    right_height = height_of_bst(root.right)\n",
        "\n",
        "    return 1 +  max(left_height, right_height)"
      ],
      "metadata": {
        "id": "BYkaMe0e42bs"
      },
      "execution_count": 31,
      "outputs": []
    },
    {
      "cell_type": "code",
      "source": [
        "height_of_bst(root)"
      ],
      "metadata": {
        "id": "r53jReGMmqFF",
        "colab": {
          "base_uri": "https://localhost:8080/"
        },
        "outputId": "f3af529d-5d9f-4ddc-cb0e-e2b5f4d35040"
      },
      "execution_count": 32,
      "outputs": [
        {
          "output_type": "execute_result",
          "data": {
            "text/plain": [
              "3"
            ]
          },
          "metadata": {},
          "execution_count": 32
        }
      ]
    },
    {
      "cell_type": "code",
      "source": [
        "class AVLNode:\n",
        "    def __init__(self, key):\n",
        "        self.key = key\n",
        "        self.left = None\n",
        "        self.right = None\n",
        "        self.height = 1\n",
        "\n",
        "class AVLTree:\n",
        "    def insert(self, root, key):\n",
        "        if not root:\n",
        "            return AVLNode(key)\n",
        "        elif key < root.key:\n",
        "            root.left = self.insert(root.left, key)\n",
        "        else:\n",
        "            root.right = self.insert(root.right, key)\n",
        "\n",
        "        root.height = 1 + max(self.get_height(root.left), self.get_height(root.right))\n",
        "\n",
        "        balance = self.get_balance(root)\n",
        "\n",
        "        if balance > 1 and key < root.left.key:\n",
        "            return self.right_rotate(root)\n",
        "        if balance < -1 and key > root.right.key:\n",
        "            return self.left_rotate(root)\n",
        "        if balance > 1 and key > root.left.key:\n",
        "            root.left = self.left_rotate(root.left)\n",
        "            return self.right_rotate(root)\n",
        "        if balance < -1 and key < root.right.key:\n",
        "            root.right = self.right_rotate(root.right)\n",
        "            return self.left_rotate(root)\n",
        "        return root\n",
        "    def delete(self, root, key):\n",
        "        if not root:\n",
        "            return root\n",
        "        elif key < root.key:\n",
        "            root.left = self.delete(root.left, key)\n",
        "        elif key > root.key:\n",
        "            root.right = self.delete(root.right, key)\n",
        "        else:\n",
        "            if root.left is None:\n",
        "                temp = root.right\n",
        "                root = None\n",
        "                return temp\n",
        "            elif root.right is None:\n",
        "                temp = root.left\n",
        "                root = None\n",
        "                return temp\n",
        "            temp = self.get_min_value_node(root.right)\n",
        "            root.key = temp.key\n",
        "            root.right = self.delete(root.right, temp.key)\n",
        "        if root is None:\n",
        "            return root\n",
        "\n",
        "        root.height = 1 + max(self.get_height(root.left), self.get_height(root.right))\n",
        "        balance = self.get_balance(root)\n",
        "        if balance > 1 and self.get_balance(root.left) >= 0:\n",
        "            return self.right_rotate(root)\n",
        "        if balance > 1 and self.get_balance(root.left) < 0:\n",
        "            root.left = self.left_rotate(root.left)\n",
        "            return self.right_rotate(root)\n",
        "        if balance < -1 and self.get_balance(root.right) <= 0:\n",
        "            return self.left_rotate(root)\n",
        "        if balance < -1 and self.get_balance(root.right) > 0:\n",
        "            root.right = self.right_rotate(root.right)\n",
        "            return self.left_rotate(root)\n",
        "\n",
        "        return root\n",
        "\n",
        "    def left_rotate(self, z):\n",
        "        y = z.right\n",
        "        T2 = y.left\n",
        "        y.left = z\n",
        "        z.right = T2\n",
        "        z.height = 1 + max(self.get_height(z.left), self.get_height(z.right))\n",
        "        y.height = 1 + max(self.get_height(y.left), self.get_height(y.right))\n",
        "        return y\n",
        "\n",
        "    def right_rotate(self, z):\n",
        "        y = z.left\n",
        "        T3 = y.right\n",
        "        y.right = z\n",
        "        z.left = T3\n",
        "        z.height = 1 + max(self.get_height(z.left), self.get_height(z.right))\n",
        "        y.height = 1 + max(self.get_height(y.left), self.get_height(y.right))\n",
        "        return y\n",
        "\n",
        "    def get_height(self, root):\n",
        "        if not root:\n",
        "            return 0\n",
        "        return root.height\n",
        "\n",
        "    def get_balance(self, root):\n",
        "        if not root:\n",
        "            return 0\n",
        "        return self.get_height(root.left) - self.get_height(root.right)\n",
        "\n",
        "    def get_min_value_node(self, root):\n",
        "        if root is None or root.left is None:\n",
        "            return root\n",
        "        return self.get_min_value_node(root.left)\n",
        "\n",
        "    def pre_order(self, root):\n",
        "        if not root:\n",
        "            return\n",
        "        print(\"{0} \".format(root.key), end=\"\")\n",
        "        self.pre_order(root.left)\n",
        "        self.pre_order(root.right)\n",
        "\n",
        "# Example Usage\n",
        "avl_tree = AVLTree()\n",
        "root = None\n",
        "\n",
        "print(\"Enter nodes to insert into the AVL tree (enter 0 to stop):\")\n",
        "while True:\n",
        "    node = int(input(\"Enter node value: \"))\n",
        "    if node == 0:\n",
        "        break\n",
        "    root = avl_tree.insert(root, node)\n",
        "\n",
        "print(\"Pre-order traversal after insertion:\")\n",
        "avl_tree.pre_order(root)\n",
        "print()\n",
        "\n",
        "while True:\n",
        "    choice = input(\"Do you want to delete a node? (yes/no): \").strip().lower()\n",
        "    if choice == 'yes':\n",
        "        node_to_delete = int(input(\"Enter node value to delete: \"))\n",
        "        root = avl_tree.delete(root, node_to_delete)\n",
        "        print(\"Pre-order traversal after deletion:\")\n",
        "        avl_tree.pre_order(root)\n",
        "        print()\n",
        "    else:\n",
        "        break\n"
      ],
      "metadata": {
        "colab": {
          "base_uri": "https://localhost:8080/"
        },
        "id": "DXacy-ET67eu",
        "outputId": "e20bcfe2-7046-4738-8fa9-cc2d4ee80016"
      },
      "execution_count": 33,
      "outputs": [
        {
          "name": "stdout",
          "output_type": "stream",
          "text": [
            "Enter nodes to insert into the AVL tree (enter 0 to stop):\n",
            "Enter node value: 45\n",
            "Enter node value: 25\n",
            "Enter node value: 89\n",
            "Enter node value: 54\n",
            "Enter node value: 0\n",
            "Pre-order traversal after insertion:\n",
            "45 25 89 54 \n",
            "Do you want to delete a node? (yes/no): yes\n",
            "Enter node value to delete: 89\n",
            "Pre-order traversal after deletion:\n",
            "45 25 54 \n",
            "Do you want to delete a node? (yes/no): no\n"
          ]
        }
      ]
    }
  ]
}