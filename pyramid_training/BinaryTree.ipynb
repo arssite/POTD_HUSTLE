{
  "nbformat": 4,
  "nbformat_minor": 0,
  "metadata": {
    "colab": {
      "provenance": [],
      "authorship_tag": "ABX9TyO3LNB9+T5steNocCOtU5Ly",
      "include_colab_link": true
    },
    "kernelspec": {
      "name": "python3",
      "display_name": "Python 3"
    },
    "language_info": {
      "name": "python"
    }
  },
  "cells": [
    {
      "cell_type": "markdown",
      "metadata": {
        "id": "view-in-github",
        "colab_type": "text"
      },
      "source": [
        "<a href=\"https://colab.research.google.com/github/arssite/POTD_HUSTLE/blob/main/pyramid_training/BinaryTree.ipynb\" target=\"_parent\"><img src=\"https://colab.research.google.com/assets/colab-badge.svg\" alt=\"Open In Colab\"/></a>"
      ]
    },
    {
      "cell_type": "markdown",
      "source": [
        "#Tree Traversal"
      ],
      "metadata": {
        "id": "CM2HxJMfH5WS"
      }
    },
    {
      "cell_type": "code",
      "execution_count": 9,
      "metadata": {
        "id": "aWcGD-128A0m"
      },
      "outputs": [],
      "source": [
        "class Node:\n",
        "  def __init__(self,data):\n",
        "    self.data=data\n",
        "    self.left=None\n",
        "    self.right=None"
      ]
    },
    {
      "cell_type": "code",
      "source": [
        "def inorder(root):\n",
        "  if root:\n",
        "    inorder(root.left)\n",
        "    print(root.data,end=\" \")\n",
        "    inorder(root.right)"
      ],
      "metadata": {
        "id": "Df8HU_EuGA-z"
      },
      "execution_count": 10,
      "outputs": []
    },
    {
      "cell_type": "code",
      "source": [
        "def preorder(root):\n",
        "  if root:\n",
        "    print(root.data,end=\" \")\n",
        "    preorder(root.left)\n",
        "    preorder(root.right)"
      ],
      "metadata": {
        "id": "uc1KTeYbHDH4"
      },
      "execution_count": 14,
      "outputs": []
    },
    {
      "cell_type": "code",
      "source": [
        "def postorder(root):\n",
        "  if root:\n",
        "    postorder(root.left)\n",
        "    postorder(root.right)\n",
        "    print(root.data,end=' ')"
      ],
      "metadata": {
        "id": "iYN4cK2EHZ--"
      },
      "execution_count": 23,
      "outputs": []
    },
    {
      "cell_type": "code",
      "source": [
        "root=Node(int(input()))\n",
        "root.left=Node(int(input()))\n",
        "root.right=Node(int(input()))\n",
        "root.left.left=Node(int(input()))\n",
        "root.left.right=Node(int(input()))\n",
        "root.right.left=Node(int(input()))\n",
        "root.right.right=Node(int(input()))"
      ],
      "metadata": {
        "colab": {
          "base_uri": "https://localhost:8080/"
        },
        "id": "3uGbvFSDFn_W",
        "outputId": "3943ebde-2d9a-44a3-d463-ab00c61749ac"
      },
      "execution_count": 15,
      "outputs": [
        {
          "name": "stdout",
          "output_type": "stream",
          "text": [
            "10\n",
            "20\n",
            "30\n",
            "40\n",
            "50\n",
            "60\n",
            "7\n"
          ]
        }
      ]
    },
    {
      "cell_type": "code",
      "source": [
        "inorder(root)"
      ],
      "metadata": {
        "colab": {
          "base_uri": "https://localhost:8080/"
        },
        "id": "goIonq7SF5Kh",
        "outputId": "6830e421-34ba-47ae-e50b-b4a30b3b15d9"
      },
      "execution_count": 16,
      "outputs": [
        {
          "output_type": "stream",
          "name": "stdout",
          "text": [
            "40 20 50 10 60 30 7 "
          ]
        }
      ]
    },
    {
      "cell_type": "code",
      "source": [
        "preorder(root)"
      ],
      "metadata": {
        "colab": {
          "base_uri": "https://localhost:8080/"
        },
        "id": "EbbaWEPKGi0p",
        "outputId": "bbed1157-7f63-4045-ff42-39db5d9b7aa8"
      },
      "execution_count": 18,
      "outputs": [
        {
          "output_type": "stream",
          "name": "stdout",
          "text": [
            "10 20 40 50 30 60 7 "
          ]
        }
      ]
    },
    {
      "cell_type": "code",
      "source": [
        "postorder(root)"
      ],
      "metadata": {
        "colab": {
          "base_uri": "https://localhost:8080/"
        },
        "id": "rGqU_QY-HUsc",
        "outputId": "4a25ca24-f65d-4915-a904-589cacbde559"
      },
      "execution_count": 24,
      "outputs": [
        {
          "output_type": "stream",
          "name": "stdout",
          "text": [
            "40 50 20 60 7 30 10 "
          ]
        }
      ]
    },
    {
      "cell_type": "code",
      "source": [],
      "metadata": {
        "id": "JAydIyiIHoFb"
      },
      "execution_count": null,
      "outputs": []
    }
  ]
}