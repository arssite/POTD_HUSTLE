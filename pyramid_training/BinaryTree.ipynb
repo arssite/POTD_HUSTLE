{
  "nbformat": 4,
  "nbformat_minor": 0,
  "metadata": {
    "colab": {
      "provenance": [],
      "authorship_tag": "ABX9TyMgFtRHE/9ezASWMZ7X93+7",
      "include_colab_link": true
    },
    "kernelspec": {
      "name": "python3",
      "display_name": "Python 3"
    },
    "language_info": {
      "name": "python"
    }
  },
  "cells": [
    {
      "cell_type": "markdown",
      "metadata": {
        "id": "view-in-github",
        "colab_type": "text"
      },
      "source": [
        "<a href=\"https://colab.research.google.com/github/arssite/POTD_HUSTLE/blob/main/pyramid_training/BinaryTree.ipynb\" target=\"_parent\"><img src=\"https://colab.research.google.com/assets/colab-badge.svg\" alt=\"Open In Colab\"/></a>"
      ]
    },
    {
      "cell_type": "markdown",
      "source": [
        "#Tree Traversal"
      ],
      "metadata": {
        "id": "CM2HxJMfH5WS"
      }
    },
    {
      "cell_type": "code",
      "execution_count": null,
      "metadata": {
        "id": "aWcGD-128A0m"
      },
      "outputs": [],
      "source": [
        "class Node:\n",
        "  def __init__(self,data):\n",
        "    self.data=data\n",
        "    self.left=None\n",
        "    self.right=None"
      ]
    },
    {
      "cell_type": "code",
      "source": [
        "def inorder(root):\n",
        "  if root:\n",
        "    inorder(root.left)\n",
        "    print(root.data,end=\" \")\n",
        "    inorder(root.right)"
      ],
      "metadata": {
        "id": "Df8HU_EuGA-z"
      },
      "execution_count": null,
      "outputs": []
    },
    {
      "cell_type": "code",
      "source": [
        "def preorder(root):\n",
        "  if root:\n",
        "    print(root.data,end=\" \")\n",
        "    preorder(root.left)\n",
        "    preorder(root.right)"
      ],
      "metadata": {
        "id": "uc1KTeYbHDH4"
      },
      "execution_count": null,
      "outputs": []
    },
    {
      "cell_type": "code",
      "source": [
        "def postorder(root):\n",
        "  if root:\n",
        "    postorder(root.left)\n",
        "    postorder(root.right)\n",
        "    print(root.data,end=' ')"
      ],
      "metadata": {
        "id": "iYN4cK2EHZ--"
      },
      "execution_count": null,
      "outputs": []
    },
    {
      "cell_type": "code",
      "source": [
        "root=Node(int(input()))\n",
        "root.left=Node(int(input()))7\n",
        "root.right=Node(int(input()))\n",
        "root.left.left=Node(int(input()))\n",
        "root.left.right=Node(int(input()))\n",
        "root.right.left=Node(int(input()))\n",
        "root.left.left.left=Node(int(input()))\n",
        "root.left.left.right=Node(int(input()))\n",
        "root.left.right.left=Node(int(input()))"
      ],
      "metadata": {
        "colab": {
          "base_uri": "https://localhost:8080/"
        },
        "id": "3uGbvFSDFn_W",
        "outputId": "224ca74f-7f56-4c01-dec2-8e8df77118f1"
      },
      "execution_count": 32,
      "outputs": [
        {
          "name": "stdout",
          "output_type": "stream",
          "text": [
            "10\n",
            "20\n",
            "30\n",
            "40\n",
            "50\n",
            "60\n",
            "0\n",
            "70\n",
            "80\n"
          ]
        }
      ]
    },
    {
      "cell_type": "code",
      "source": [
        "inorder(root)"
      ],
      "metadata": {
        "colab": {
          "base_uri": "https://localhost:8080/"
        },
        "id": "goIonq7SF5Kh",
        "outputId": "59272e78-df95-45c1-de97-982fb6785f74"
      },
      "execution_count": null,
      "outputs": [
        {
          "output_type": "stream",
          "name": "stdout",
          "text": [
            "25 30 37 45 47 65 50 90 100 "
          ]
        }
      ]
    },
    {
      "cell_type": "code",
      "source": [
        "preorder(root)"
      ],
      "metadata": {
        "colab": {
          "base_uri": "https://localhost:8080/"
        },
        "id": "EbbaWEPKGi0p",
        "outputId": "2d8cf11b-fc31-4e0d-8c7d-69aba0e5e5ed"
      },
      "execution_count": null,
      "outputs": [
        {
          "output_type": "stream",
          "name": "stdout",
          "text": [
            "50 45 30 25 37 65 47 100 90 "
          ]
        }
      ]
    },
    {
      "cell_type": "code",
      "source": [
        "postorder(root)"
      ],
      "metadata": {
        "colab": {
          "base_uri": "https://localhost:8080/"
        },
        "id": "rGqU_QY-HUsc",
        "outputId": "c7482823-9272-4331-c1e9-481856d7276e"
      },
      "execution_count": null,
      "outputs": [
        {
          "output_type": "stream",
          "name": "stdout",
          "text": [
            "25 37 30 47 65 45 90 100 50 "
          ]
        }
      ]
    },
    {
      "cell_type": "markdown",
      "source": [
        "#BST"
      ],
      "metadata": {
        "id": "OuWDOClCMjhA"
      }
    },
    {
      "cell_type": "code",
      "source": [
        "class Node:\n",
        "  def __init__(self,data):\n",
        "    self.data=data\n",
        "    self.left=None\n",
        "    self.right=None"
      ],
      "metadata": {
        "id": "G1-8f9dJMjSx"
      },
      "execution_count": 36,
      "outputs": []
    },
    {
      "cell_type": "code",
      "source": [
        "def insert(root,data):\n",
        "  if root is None:\n",
        "    return Node(data)\n",
        "  elif data<root.data:\n",
        "    root.left=insert(root.left,data)\n",
        "  else:\n",
        "    root.right=insert(root.right,data)\n",
        "  return root"
      ],
      "metadata": {
        "id": "JAydIyiIHoFb"
      },
      "execution_count": 54,
      "outputs": []
    },
    {
      "cell_type": "code",
      "source": [
        "def inorder(root):\n",
        "  if root:\n",
        "    inorder(root.left)\n",
        "    print(root.data,end=\" \")\n",
        "    inorder(root.right)"
      ],
      "metadata": {
        "id": "jrUvm5M1VaN9"
      },
      "execution_count": 55,
      "outputs": []
    },
    {
      "cell_type": "code",
      "source": [
        "def preorder(root):\n",
        "  if root:\n",
        "    print(root.data,end=\" \")\n",
        "    preorder(root.left)\n",
        "    preorder(root.right)"
      ],
      "metadata": {
        "id": "xbnThFu2VqeB"
      },
      "execution_count": 56,
      "outputs": []
    },
    {
      "cell_type": "code",
      "source": [
        "def postorder(root):\n",
        "  if root:\n",
        "    postorder(root.left)\n",
        "    postorder(root.right)\n",
        "    print(root.data,end=' ')"
      ],
      "metadata": {
        "id": "sVTr52olVslZ"
      },
      "execution_count": 57,
      "outputs": []
    },
    {
      "cell_type": "code",
      "source": [
        "root=None\n",
        "n=int(input())\n",
        "while n!=0:\n",
        "  root=insert(root,n)\n",
        "  n=int(input())"
      ],
      "metadata": {
        "colab": {
          "base_uri": "https://localhost:8080/"
        },
        "id": "zmfceKgrVtOR",
        "outputId": "6b3d0b23-76e6-4ddc-c078-9a28a7cb840e"
      },
      "execution_count": 60,
      "outputs": [
        {
          "name": "stdout",
          "output_type": "stream",
          "text": [
            "25\n",
            "75\n",
            "95\n",
            "100\n",
            "150\n",
            "0\n"
          ]
        }
      ]
    },
    {
      "cell_type": "code",
      "source": [
        "inorder(root)"
      ],
      "metadata": {
        "colab": {
          "base_uri": "https://localhost:8080/"
        },
        "id": "Y4HvEcukWOsw",
        "outputId": "e7010f4f-b0b4-4f8f-c67e-61a8ad287fec"
      },
      "execution_count": 65,
      "outputs": [
        {
          "output_type": "stream",
          "name": "stdout",
          "text": [
            "25 75 95 100 150 "
          ]
        }
      ]
    },
    {
      "cell_type": "markdown",
      "source": [
        "#Smallest Element In BST"
      ],
      "metadata": {
        "id": "57ROFQjebdAe"
      }
    },
    {
      "cell_type": "code",
      "source": [
        "def findmin(root):\n",
        "  if root is None:\n",
        "    return -1\n",
        "  while root.left is not None:\n",
        "    root=root.left\n",
        "  return root.data"
      ],
      "metadata": {
        "id": "FURHu_EMWhdB"
      },
      "execution_count": 73,
      "outputs": []
    },
    {
      "cell_type": "code",
      "source": [
        "print(findmin(root))"
      ],
      "metadata": {
        "colab": {
          "base_uri": "https://localhost:8080/"
        },
        "id": "zARKAbgNadk7",
        "outputId": "e13f23b9-f94d-47dc-97a4-98cf85957c1e"
      },
      "execution_count": 74,
      "outputs": [
        {
          "output_type": "stream",
          "name": "stdout",
          "text": [
            "25\n"
          ]
        }
      ]
    },
    {
      "cell_type": "markdown",
      "source": [
        "#Maximum Element In Bst"
      ],
      "metadata": {
        "id": "rNl85lNchf9F"
      }
    },
    {
      "cell_type": "code",
      "source": [
        "def findmax(root):\n",
        "  if root is None:\n",
        "    return -1\n",
        "  while root.right is not None:\n",
        "    root=root.right\n",
        "  return root.data"
      ],
      "metadata": {
        "id": "IOVLsoCXahNC"
      },
      "execution_count": 75,
      "outputs": []
    },
    {
      "cell_type": "code",
      "source": [
        "print(findmax(root))"
      ],
      "metadata": {
        "colab": {
          "base_uri": "https://localhost:8080/"
        },
        "id": "BjWwyToDd_xL",
        "outputId": "28e23f45-d130-4419-e50c-2b7b26dda449"
      },
      "execution_count": 77,
      "outputs": [
        {
          "output_type": "stream",
          "name": "stdout",
          "text": [
            "150\n"
          ]
        }
      ]
    },
    {
      "cell_type": "markdown",
      "source": [
        "#Search in BST"
      ],
      "metadata": {
        "id": "O4Q9tgM8ifRX"
      }
    },
    {
      "cell_type": "code",
      "source": [
        "def search(root,data):\n",
        "  if root is None:\n",
        "    return False\n",
        "  elif root.data==data:\n",
        "    return True\n",
        "  elif data<root.data:\n",
        "    return search(root.left,data)\n",
        "  else:\n",
        "    return search(root.right,data)"
      ],
      "metadata": {
        "id": "vQW1v47niebf"
      },
      "execution_count": 83,
      "outputs": []
    },
    {
      "cell_type": "code",
      "source": [],
      "metadata": {
        "id": "A59v_x1MeCJ7"
      },
      "execution_count": 79,
      "outputs": []
    }
  ]
}