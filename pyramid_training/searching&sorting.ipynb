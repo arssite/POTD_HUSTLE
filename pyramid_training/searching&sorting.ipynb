{
  "nbformat": 4,
  "nbformat_minor": 0,
  "metadata": {
    "colab": {
      "provenance": [],
      "authorship_tag": "ABX9TyN2gWZcv5fmAlwc4gKwIg15",
      "include_colab_link": true
    },
    "kernelspec": {
      "name": "python3",
      "display_name": "Python 3"
    },
    "language_info": {
      "name": "python"
    }
  },
  "cells": [
    {
      "cell_type": "markdown",
      "metadata": {
        "id": "view-in-github",
        "colab_type": "text"
      },
      "source": [
        "<a href=\"https://colab.research.google.com/github/arssite/POTD_HUSTLE/blob/main/pyramid_training/searching%26sorting.ipynb\" target=\"_parent\"><img src=\"https://colab.research.google.com/assets/colab-badge.svg\" alt=\"Open In Colab\"/></a>"
      ]
    },
    {
      "cell_type": "markdown",
      "source": [
        "Linear Search Algo is Same for loop and Reccursion ::: **O(n)**"
      ],
      "metadata": {
        "id": "i6CrqgcKOpIr"
      }
    },
    {
      "cell_type": "code",
      "source": [
        "def ls(arr,x):\n",
        "  for i in range(len(arr)):\n",
        "    if arr[i]==x:\n",
        "      return i\n",
        "      break\n",
        "  else:\n",
        "      return -1"
      ],
      "metadata": {
        "id": "L4eRmw9fF66T"
      },
      "execution_count": null,
      "outputs": []
    },
    {
      "cell_type": "code",
      "execution_count": null,
      "metadata": {
        "colab": {
          "base_uri": "https://localhost:8080/"
        },
        "id": "izdjf4q-DX0o",
        "outputId": "43b7b616-e23e-4a49-f8f9-6d4912dd3b55"
      },
      "outputs": [
        {
          "name": "stdout",
          "output_type": "stream",
          "text": [
            "23 2 3 4\n",
            "5\n"
          ]
        },
        {
          "output_type": "execute_result",
          "data": {
            "text/plain": [
              "-1"
            ]
          },
          "metadata": {},
          "execution_count": 9
        }
      ],
      "source": [
        "arr=list(map(int,input().split()))\n",
        "x=int(input())\n",
        "ls(arr,x)"
      ]
    },
    {
      "cell_type": "code",
      "source": [
        "#using recursion\n",
        "def ls_rec(arr,x,i):\n",
        "  if i==len(arr):\n",
        "    return -1\n",
        "  elif arr[i]==x:\n",
        "    return i\n",
        "  return ls_rec(arr,x,i+1)"
      ],
      "metadata": {
        "id": "K-S5Skc4GRF1"
      },
      "execution_count": null,
      "outputs": []
    },
    {
      "cell_type": "code",
      "source": [
        "arr=list(map(int,input().split()))\n",
        "x=int(input())\n",
        "i=0\n",
        "ls_rec(arr,x,i)"
      ],
      "metadata": {
        "colab": {
          "base_uri": "https://localhost:8080/"
        },
        "id": "4suXZE3LI4UK",
        "outputId": "a64ac072-a322-4624-957f-0b6893260972"
      },
      "execution_count": null,
      "outputs": [
        {
          "name": "stdout",
          "output_type": "stream",
          "text": [
            "12 15 22 65\n",
            "22\n"
          ]
        },
        {
          "output_type": "execute_result",
          "data": {
            "text/plain": [
              "2"
            ]
          },
          "metadata": {},
          "execution_count": 26
        }
      ]
    },
    {
      "cell_type": "code",
      "source": [
        "#using Recursion Method 2\n",
        "def ls_rec2(arr,x,i):\n",
        "  if i>=len(arr):\n",
        "    return -1\n",
        "  elif arr[i]==x:\n",
        "    return i\n",
        "  return ls_rec2(arr,x,i+1)"
      ],
      "metadata": {
        "id": "xeus0MPtKJ90"
      },
      "execution_count": null,
      "outputs": []
    },
    {
      "cell_type": "code",
      "source": [
        "arr=list(map(int,input().split()))\n",
        "x=int(input())\n",
        "i=0\n",
        "ls_rec2(arr,x,i)"
      ],
      "metadata": {
        "colab": {
          "base_uri": "https://localhost:8080/"
        },
        "id": "qMuA5ABmL3pA",
        "outputId": "3ed4b3c8-f468-4738-a189-6803cde09b24"
      },
      "execution_count": null,
      "outputs": [
        {
          "name": "stdout",
          "output_type": "stream",
          "text": [
            "45 52 12 35\n",
            "12\n"
          ]
        },
        {
          "output_type": "execute_result",
          "data": {
            "text/plain": [
              "2"
            ]
          },
          "metadata": {},
          "execution_count": 28
        }
      ]
    },
    {
      "cell_type": "markdown",
      "source": [
        "**Binary Search**"
      ],
      "metadata": {
        "id": "OzuVuPugO3gM"
      }
    },
    {
      "cell_type": "code",
      "source": [
        "def bs(arr,x):\n",
        "  x=len(arr)\n",
        "  mid,l,h=x//2,0,x-1\n",
        "  while l<=h:\n",
        "    if arr[mid]==x:\n",
        "      return mid\n",
        "    elif arr[mid]<x:\n",
        "      l=mid+1\n",
        "    elif:\n",
        "      h=mid-1\n",
        "    else:\n",
        "      return mid\n",
        "  return -1"
      ],
      "metadata": {
        "id": "ZdooMj8zMDwA"
      },
      "execution_count": null,
      "outputs": []
    },
    {
      "cell_type": "code",
      "source": [
        "# prompt: binary search\n",
        "\n",
        "def bs(arr,x):\n",
        "  x=len(arr)\n",
        "  mid,l,h=x//2,0,x-1\n",
        "  while l<=h:\n",
        "    if arr[mid]==x:\n",
        "      return mid\n",
        "    elif arr[mid]<x:\n",
        "      l=mid+1\n",
        "    else:\n",
        "      h=mid-1\n",
        "    mid=(l+h)//2\n",
        "  return -1\n",
        "arr=list(map(int,input().split()))\n",
        "x=int(input())\n",
        "bs(arr,x)"
      ],
      "metadata": {
        "colab": {
          "base_uri": "https://localhost:8080/"
        },
        "id": "RutEY0HGUAT_",
        "outputId": "84e8aa60-0ae3-4e6a-9724-42b39361941c"
      },
      "execution_count": null,
      "outputs": [
        {
          "name": "stdout",
          "output_type": "stream",
          "text": [
            "12 16 19 21\n",
            "19\n"
          ]
        },
        {
          "output_type": "execute_result",
          "data": {
            "text/plain": [
              "-1"
            ]
          },
          "metadata": {},
          "execution_count": 38
        }
      ]
    },
    {
      "cell_type": "code",
      "source": [
        "def binary_search(arr, target):\n",
        "    low = 0\n",
        "    high = len(arr) - 1\n",
        "    while low <= high:\n",
        "        mid = (low + high) // 2\n",
        "        if arr[mid] == target:\n",
        "            return mid\n",
        "        elif arr[mid] < target:\n",
        "            low = mid + 1\n",
        "        else:\n",
        "            high = mid - 1\n",
        "    return -1\n"
      ],
      "metadata": {
        "id": "uY9E6PL9UQUn"
      },
      "execution_count": null,
      "outputs": []
    },
    {
      "cell_type": "code",
      "source": [
        "binary_search([1, 2, 3, 4, 5], 3)"
      ],
      "metadata": {
        "colab": {
          "base_uri": "https://localhost:8080/"
        },
        "id": "fHpRjt_vU-Na",
        "outputId": "befd3883-d710-4b62-bd85-356c1a47ebc2"
      },
      "execution_count": null,
      "outputs": [
        {
          "output_type": "execute_result",
          "data": {
            "text/plain": [
              "2"
            ]
          },
          "metadata": {},
          "execution_count": 40
        }
      ]
    },
    {
      "cell_type": "code",
      "source": [
        "def binary_search_recursive(arr, target, low, high):\n",
        "    if low > high:\n",
        "        return -1\n",
        "    mid = (low + high) // 2\n",
        "    if arr[mid] == target:\n",
        "        return mid\n",
        "    elif arr[mid] < target:\n",
        "        return binary_search_recursive(arr, target, mid + 1, high)\n",
        "    else:\n",
        "        return binary_search_recursive(arr, target, low, mid - 1)\n"
      ],
      "metadata": {
        "id": "AL9TsYD5VMNZ"
      },
      "execution_count": null,
      "outputs": []
    },
    {
      "cell_type": "code",
      "source": [
        "binary_search_recursive([1, 2, 3, 4, 5], 3, 0, 4)"
      ],
      "metadata": {
        "colab": {
          "base_uri": "https://localhost:8080/"
        },
        "id": "YE41iKOLVQ0x",
        "outputId": "9c4bda89-0888-4e08-ec80-8a457c4dc78b"
      },
      "execution_count": null,
      "outputs": [
        {
          "output_type": "execute_result",
          "data": {
            "text/plain": [
              "2"
            ]
          },
          "metadata": {},
          "execution_count": 43
        }
      ]
    },
    {
      "cell_type": "code",
      "source": [
        "import math\n",
        "def fibonacci_search(arr, x):\n",
        "    \"\"\"\n",
        "    This function implements the Fibonacci search algorithm to find the index of a given element in an array.\n",
        "\n",
        "    Args:\n",
        "        arr: The array to search.\n",
        "        x: The element to find.\n",
        "\n",
        "    Returns:\n",
        "        The index of the element in the array, or -1 if the element is not found.\n",
        "    \"\"\"\n",
        "    # Initialize the Fibonacci numbers\n",
        "    fib2 = 0\n",
        "    fib1 = 1\n",
        "    fib = fib1 + fib2\n",
        "    # Find the smallest Fibonacci number greater than or equal to the length of the array\n",
        "    while fib < len(arr):\n",
        "        fib2 = fib1\n",
        "        fib1 = fib\n",
        "        fib = fib1 + fib2\n",
        "    # Initialize the offset and the index\n",
        "    offset = -1\n",
        "    i = 0\n",
        "    # While there are elements to compare\n",
        "    while fib > 1:\n",
        "        # Check if the index is within the bounds of the array\n",
        "        i = min(offset + fib2, len(arr) - 1)\n",
        "        # If the element at the index is equal to the target, return the index\n",
        "        if arr[i] == x:\n",
        "            return i\n",
        "        # If the element at the index is less than the target, move the offset forward\n",
        "        if arr[i] < x:\n",
        "            fib = fib1\n",
        "            fib1 = fib2\n",
        "            fib2 = fib - fib1\n",
        "            offset = i\n",
        "        # Otherwise, move the offset backward\n",
        "        else:\n",
        "            fib = fib2\n",
        "            fib1 = fib1 - fib2\n",
        "            fib2 = fib - fib1\n",
        "    # If the target is equal to the last element in the array, return the index\n",
        "    if fib1 and arr[len(arr) - 1] == x:\n",
        "        return len(arr) - 1\n",
        "    # Otherwise, return -1\n",
        "    return -1\n",
        "# Example usage\n",
        "arr = [1, 2, 3, 4, 5, 6, 7, 8, 9, 10]\n",
        "x = 5\n",
        "result = fibonacci_search(arr, x)\n",
        "if result != -1:\n",
        "    print(\"Element found at index:\", result)\n",
        "else:\n",
        "    print(\"Element not found in the array.\")"
      ],
      "metadata": {
        "id": "w0-9t50iVf_4"
      },
      "execution_count": null,
      "outputs": []
    },
    {
      "cell_type": "markdown",
      "source": [
        "smallest Missing number Using BS"
      ],
      "metadata": {
        "id": "T0FcQDzYW51W"
      }
    },
    {
      "cell_type": "markdown",
      "source": [
        "agr list me 10 element hai toh uske mid me 5 hona chahiye \"\"check it\"\"\n",
        "\n",
        "\n",
        "condition1: agr equal ni hai toh right ko mid-1 krdo\n",
        "\n",
        "\n",
        "condition1: agr equal hai toh left + 1\n",
        "\n",
        "\n",
        "beyond loop left\n"
      ],
      "metadata": {
        "id": "_TmHFk9YcJHi"
      }
    },
    {
      "cell_type": "code",
      "source": [
        "def smbs(arr):\n",
        "  n=len(arr)\n",
        "  l,r=0,n-1\n",
        "  while l<=r:\n",
        "    mid=l+(r-l)//2\n",
        "    if arr[mid]==mid:\n",
        "      l=mid+1\n",
        "    elif arr[mid]!=mid:\n",
        "      r=mid-1\n",
        "  return l\n"
      ],
      "metadata": {
        "id": "GTvLSV6EW5bP"
      },
      "execution_count": null,
      "outputs": []
    },
    {
      "cell_type": "code",
      "source": [
        "def smbs_rec(arr,l,r):\n",
        "  if l>r:\n",
        "    return l\n",
        "  mid=l+(r-l)//2\n",
        "  if arr[mid]==mid:\n",
        "    return smbs_rec(arr,mid+1,r)\n",
        "  else:\n",
        "    return smbs_rec(arr,l,mid-1)"
      ],
      "metadata": {
        "id": "7Bf6dQCsfx0y"
      },
      "execution_count": null,
      "outputs": []
    },
    {
      "cell_type": "code",
      "source": [
        "smbs([0,1,3,4,5,6,7,8,9])"
      ],
      "metadata": {
        "colab": {
          "base_uri": "https://localhost:8080/"
        },
        "id": "iJ5yHhBrfpmG",
        "outputId": "26fcd145-b94a-481e-b607-d4acbda34772"
      },
      "execution_count": null,
      "outputs": [
        {
          "output_type": "execute_result",
          "data": {
            "text/plain": [
              "2"
            ]
          },
          "metadata": {},
          "execution_count": 48
        }
      ]
    },
    {
      "cell_type": "code",
      "source": [
        "smbs_rec([0,1,3,4,5,6,7,8,9],0,9)"
      ],
      "metadata": {
        "colab": {
          "base_uri": "https://localhost:8080/"
        },
        "id": "jLMpEh6XfseF",
        "outputId": "b9b206fd-f557-492c-c9da-09091b449661"
      },
      "execution_count": null,
      "outputs": [
        {
          "output_type": "execute_result",
          "data": {
            "text/plain": [
              "2"
            ]
          },
          "metadata": {},
          "execution_count": 49
        }
      ]
    },
    {
      "cell_type": "markdown",
      "source": [
        "**SORTING**"
      ],
      "metadata": {
        "id": "n_x0qkYthqF3"
      }
    },
    {
      "cell_type": "code",
      "source": [
        "def bub(arr):\n",
        "  for i in range(0,len(arr)):\n",
        "    for j in range(0,len(arr)-i-1):\n",
        "      if arr[j]>arr[j+1]:\n",
        "        arr[j],arr[j+1]=arr[j+1],arr[j]\n",
        "  return arr"
      ],
      "metadata": {
        "id": "FsUynuezf_h9"
      },
      "execution_count": null,
      "outputs": []
    },
    {
      "cell_type": "code",
      "source": [
        "bub([1,5,8,7])"
      ],
      "metadata": {
        "colab": {
          "base_uri": "https://localhost:8080/"
        },
        "id": "QBt0nfhUjTVX",
        "outputId": "731093d4-aba5-42e9-e965-65d822740762"
      },
      "execution_count": null,
      "outputs": [
        {
          "output_type": "execute_result",
          "data": {
            "text/plain": [
              "[1, 5, 7, 8]"
            ]
          },
          "metadata": {},
          "execution_count": 54
        }
      ]
    },
    {
      "cell_type": "code",
      "source": [
        "def bubble_sort(arr):\n",
        "  n = len(arr)\n",
        "  for i in range(n):\n",
        "    for j in range(0, n - i - 1):\n",
        "      if arr[j] > arr[j + 1]:\n",
        "        arr[j], arr[j + 1] = arr[j + 1], arr[j]\n",
        "arr = [64, 34, 25, 12, 22, 11, 90]\n",
        "bubble_sort(arr)\n",
        "print(arr)"
      ],
      "metadata": {
        "colab": {
          "base_uri": "https://localhost:8080/"
        },
        "id": "JCSCU4GqjW0Q",
        "outputId": "313ddab5-3bee-42a7-ca2e-babe1c280a37"
      },
      "execution_count": null,
      "outputs": [
        {
          "output_type": "stream",
          "name": "stdout",
          "text": [
            "[11, 12, 22, 25, 34, 64, 90]\n"
          ]
        }
      ]
    },
    {
      "cell_type": "code",
      "source": [
        "#insertion\n",
        "def ins(arr):\n",
        "  for i in range(1,len(arr)):\n",
        "   j=i-1\n",
        "   while j>=0 and arr[j]>arr[j+1]:\n",
        "    arr[j],arr[j+1]=arr[j+1],arr[j]\n",
        "    j-=1\n",
        "  return arr\n"
      ],
      "metadata": {
        "id": "sstWzb5TpQ1E"
      },
      "execution_count": null,
      "outputs": []
    },
    {
      "cell_type": "code",
      "source": [
        "ins([5,2,3,1,4])"
      ],
      "metadata": {
        "colab": {
          "base_uri": "https://localhost:8080/"
        },
        "id": "2VT119_4Rhq8",
        "outputId": "4eabf210-271f-4207-c12c-1aae0811859f"
      },
      "execution_count": null,
      "outputs": [
        {
          "output_type": "execute_result",
          "data": {
            "text/plain": [
              "[1, 2, 3, 4, 5]"
            ]
          },
          "metadata": {},
          "execution_count": 21
        }
      ]
    },
    {
      "cell_type": "code",
      "source": [
        "print(ins([5,2,3,1,4]))"
      ],
      "metadata": {
        "colab": {
          "base_uri": "https://localhost:8080/"
        },
        "id": "h_YaALbKQ4Ac",
        "outputId": "5b5df9db-ef55-4430-c435-6baa0e8a9a16"
      },
      "execution_count": null,
      "outputs": [
        {
          "output_type": "stream",
          "name": "stdout",
          "text": [
            "None\n"
          ]
        }
      ]
    },
    {
      "cell_type": "code",
      "source": [
        "def insertion_sort(arr):\n",
        "    # Traverse through 1 to len(arr)\n",
        "    for i in range(1, len(arr)):\n",
        "        key = arr[i]\n",
        "        j = i - 1\n",
        "        for k in range(i - 1, -1, -1):\n",
        "            if arr[k] > key:\n",
        "                arr[k + 1] = arr[k]\n",
        "                j = k\n",
        "            else:\n",
        "                break\n",
        "\n",
        "        arr[j] = key\n",
        "\n",
        "    return arr\n",
        "\n",
        "# Example usage:\n",
        "arr = [12, 11, 13, 5, 6]\n",
        "sorted_arr = insertion_sort(arr)\n",
        "print(\"Sorted array is:\", sorted_arr)"
      ],
      "metadata": {
        "colab": {
          "base_uri": "https://localhost:8080/"
        },
        "id": "GGO9_JESMLoQ",
        "outputId": "b6f4fd96-28e1-41be-d5af-19925b110c60"
      },
      "execution_count": null,
      "outputs": [
        {
          "output_type": "stream",
          "name": "stdout",
          "text": [
            "Sorted array is: [5, 6, 11, 13, 13]\n"
          ]
        }
      ]
    },
    {
      "cell_type": "code",
      "source": [
        "ins()"
      ],
      "metadata": {
        "id": "4P87Zla1QzOI"
      },
      "execution_count": null,
      "outputs": []
    },
    {
      "cell_type": "code",
      "source": [
        "ins([5,2,3,1,4])"
      ],
      "metadata": {
        "colab": {
          "base_uri": "https://localhost:8080/"
        },
        "id": "DftMiRHeMFYh",
        "outputId": "dc89a077-8870-432a-a6bb-cb54697af4ce"
      },
      "execution_count": null,
      "outputs": [
        {
          "output_type": "execute_result",
          "data": {
            "text/plain": [
              "[2, 1, 3, 4, 5]"
            ]
          },
          "metadata": {},
          "execution_count": 6
        }
      ]
    },
    {
      "cell_type": "code",
      "source": [
        "#selection Sort\n",
        "def ss(arr):\n",
        "  for i in range(len(arr)):\n",
        "    mn=i\n",
        "    for j in range(i+1,len(arr)):\n",
        "      if arr[mn]>arr[j]:\n",
        "        mn=j\n",
        "    arr[i],arr[mn]=arr[mn],arr[i]\n",
        "  return arr"
      ],
      "metadata": {
        "id": "NUOTeWoLWV6N"
      },
      "execution_count": null,
      "outputs": []
    },
    {
      "cell_type": "code",
      "source": [
        "ss([5,2,3,1,4])"
      ],
      "metadata": {
        "colab": {
          "base_uri": "https://localhost:8080/"
        },
        "id": "9DuJDq1SX6So",
        "outputId": "01ab5d6d-ad6d-409b-f51a-d0adf32ac434"
      },
      "execution_count": null,
      "outputs": [
        {
          "output_type": "execute_result",
          "data": {
            "text/plain": [
              "[1, 2, 3, 4, 5]"
            ]
          },
          "metadata": {},
          "execution_count": 25
        }
      ]
    },
    {
      "cell_type": "markdown",
      "source": [
        "Write a Program to find largest element in list, in Increasing order."
      ],
      "metadata": {
        "id": "Y4ZfR2m_dSBi"
      }
    },
    {
      "cell_type": "code",
      "source": [
        "def ss(arr):\n",
        "  for i in range(len(arr)):\n",
        "    mn=i\n",
        "    for j in range(i+1,len(arr)):\n",
        "      if arr[mn]>arr[j]:\n",
        "        mn=j\n",
        "    arr[i],arr[mn]=arr[mn],arr[i]\n",
        "  return arr\n",
        "\n",
        "x=int(input())\n",
        "arr=list(map(int,input().split()))\n",
        "x=ss(arr)\n",
        "print(*x)"
      ],
      "metadata": {
        "colab": {
          "base_uri": "https://localhost:8080/"
        },
        "id": "x4J4RIGWX8FO",
        "outputId": "800deee9-f7fb-4544-e84b-5a9f4d783651"
      },
      "execution_count": null,
      "outputs": [
        {
          "output_type": "stream",
          "name": "stdout",
          "text": [
            "4 \n",
            "3 2 1 2\n",
            "1 2 2 3\n"
          ]
        }
      ]
    },
    {
      "cell_type": "code",
      "source": [
        "ss([7,8,9,10,5,4,3,2])"
      ],
      "metadata": {
        "colab": {
          "base_uri": "https://localhost:8080/"
        },
        "id": "CS3X1QpDd27P",
        "outputId": "16d7e2d6-f7e5-4ff4-e0cb-4ed3dc0ab87c"
      },
      "execution_count": null,
      "outputs": [
        {
          "output_type": "execute_result",
          "data": {
            "text/plain": [
              "[2, 3, 4, 5, 7, 8, 9, 10]"
            ]
          },
          "metadata": {},
          "execution_count": 30
        }
      ]
    },
    {
      "cell_type": "code",
      "source": [
        "def largest(arr):\n",
        "  l,r=0,len(arr)-1\n",
        "  while l<r:\n",
        "    mid=(l+r)//2\n",
        "    if arr[mid]<arr[mid+1]:\n",
        "      l=mid+1\n",
        "    else:\n",
        "      r=mid\n",
        "  return arr[l]"
      ],
      "metadata": {
        "id": "jOZbNsa5d6aF"
      },
      "execution_count": null,
      "outputs": []
    },
    {
      "cell_type": "code",
      "source": [
        "arr=list(map(int,input().split()))\n",
        "largest(arr)"
      ],
      "metadata": {
        "colab": {
          "base_uri": "https://localhost:8080/"
        },
        "id": "-yBCuEbbfo4V",
        "outputId": "92992e07-e466-4b69-e103-3ecb979e0c48"
      },
      "execution_count": null,
      "outputs": [
        {
          "name": "stdout",
          "output_type": "stream",
          "text": [
            "4 5 2 5 25\n"
          ]
        },
        {
          "output_type": "execute_result",
          "data": {
            "text/plain": [
              "25"
            ]
          },
          "metadata": {},
          "execution_count": 33
        }
      ]
    },
    {
      "cell_type": "code",
      "source": [
        "#MergeSort\n",
        "def Mersort(arr):\n",
        "  if len(arr)<=1:\n",
        "    return arr\n",
        "  mid=len(arr)//2\n",
        "  left=Mersort(arr[:mid])\n",
        "  right=Mersort(arr[mid:])\n",
        "  return merge(left,right)\n",
        "def merge(left,right):\n",
        "  while i < len(left) and j < len(right):\n",
        "        if left[i] < right[j]:\n",
        "            result.append(left[i])\n",
        "            i += 1\n",
        "        else:\n",
        "            result.append(right[j])\n",
        "            j += 1\n",
        "\n",
        "    # Checking if any element was left\n",
        "  while i < len(left):\n",
        "        result.append(left[i])\n",
        "        i += 1\n",
        "\n",
        "  while j < len(right):\n",
        "        result.append(right[j])\n",
        "        j += 1\n",
        "\n",
        "  return result\n",
        "\n",
        "\n",
        "\n"
      ],
      "metadata": {
        "id": "qtfStdODgfsu"
      },
      "execution_count": null,
      "outputs": []
    },
    {
      "cell_type": "code",
      "source": [
        "#Merge Sort\n",
        "def msort(arr):\n",
        "  if len(arr)<=1:\n",
        "    return arr\n",
        "  mid=len(arr)//2\n",
        "  l=msort(arr[:mid])\n",
        "  r=msort(arr[mid:])\n",
        "  return merge(msort(l),msort(r))\n",
        "def merge(l,r):\n",
        "  result=[]\n",
        "  i,j=0,0\n",
        "  while i<len(l) and j<len(r):\n",
        "    if l[i]<r[j]:\n",
        "      result.append(l[i])\n",
        "      i+=1\n",
        "    else:\n",
        "      result.append(r[j])\n",
        "      j+=1\n",
        "  while i<len(l):\n",
        "    result.append(l[i])\n",
        "    i+=1\n",
        "  while j<len(r):\n",
        "    result.append(r[j])\n",
        "    j+=1\n",
        "  return result"
      ],
      "metadata": {
        "id": "AQGZehQXXIux"
      },
      "execution_count": 9,
      "outputs": []
    },
    {
      "cell_type": "code",
      "source": [
        "x=msort([5,2,3,1,4])\n",
        "print(*x)"
      ],
      "metadata": {
        "colab": {
          "base_uri": "https://localhost:8080/"
        },
        "id": "eWkQR5baY89A",
        "outputId": "dc046c5a-5ae5-459b-a90a-66e166109138"
      },
      "execution_count": 11,
      "outputs": [
        {
          "output_type": "stream",
          "name": "stdout",
          "text": [
            "1 2 3 4 5\n"
          ]
        }
      ]
    },
    {
      "cell_type": "code",
      "source": [
        "def iterative_merge_sort(arr):\n",
        "    current_size = 1\n",
        "    # Outer loop for traversing each sub-array of current_size\n",
        "    while current_size < len(arr) - 1:\n",
        "        left = 0\n",
        "        # Inner loop for merging the sub-arrays\n",
        "        while left < len(arr)-1:\n",
        "            # Find ending point of left sub-array\n",
        "            mid = min((left + current_size - 1), (len(arr)-1))\n",
        "            # Find ending point of right sub-array\n",
        "            right = ((2 * current_size + left - 1, len(arr) - 1)[2 * current_size + left - 1 > len(arr)-1])\n",
        "            # Merge the sub-arrays arr[left...mid] & arr[mid+1...right]\n",
        "            merge_in_place(arr, left, mid, right)\n",
        "            left = left + current_size*2\n",
        "        current_size = 2 * current_size\n",
        "\n",
        "def merge_in_place(arr, l, m, r):\n",
        "    n1 = m - l + 1\n",
        "    n2 = r - m\n",
        "    left = [0] * n1\n",
        "    right = [0] * n2\n",
        "\n",
        "    for i in range(0, n1):\n",
        "        left[i] = arr[l + i]\n",
        "    for i in range(0, n2):\n",
        "        right[i] = arr[m + 1 + i]\n",
        "\n",
        "    i = 0\n",
        "    j = 0\n",
        "    k = l\n",
        "\n",
        "    while i < n1 and j < n2:\n",
        "        if left[i] > right[j]:\n",
        "            arr[k] = right[j]\n",
        "            j += 1\n",
        "        else:\n",
        "            arr[k] = left[i]\n",
        "            i += 1\n",
        "        k += 1\n",
        "\n",
        "    while i < n1:\n",
        "        arr[k] = left[i]\n",
        "        i += 1\n",
        "        k += 1\n",
        "\n",
        "    while j < n2:\n",
        "        arr[k] = right[j]\n",
        "        j += 1\n",
        "        k += 1\n",
        "\n",
        "arr = [12, 11, 13, 5, 6, 7]\n",
        "iterative_merge_sort(arr)\n",
        "print(arr)\n"
      ],
      "metadata": {
        "id": "Rj44_ttTY-8-"
      },
      "execution_count": null,
      "outputs": []
    },
    {
      "cell_type": "code",
      "source": [],
      "metadata": {
        "id": "DGEFOrylhcXx"
      },
      "execution_count": null,
      "outputs": []
    }
  ]
}