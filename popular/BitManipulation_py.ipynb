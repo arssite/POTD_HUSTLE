{
  "nbformat": 4,
  "nbformat_minor": 0,
  "metadata": {
    "colab": {
      "provenance": [],
      "authorship_tag": "ABX9TyNPWZ9Ryy0C5I6Jgfc7N/Dg",
      "include_colab_link": true
    },
    "kernelspec": {
      "name": "python3",
      "display_name": "Python 3"
    },
    "language_info": {
      "name": "python"
    }
  },
  "cells": [
    {
      "cell_type": "markdown",
      "metadata": {
        "id": "view-in-github",
        "colab_type": "text"
      },
      "source": [
        "<a href=\"https://colab.research.google.com/github/arssite/POTD_HUSTLE/blob/main/popular/BitManipulation_py.ipynb\" target=\"_parent\"><img src=\"https://colab.research.google.com/assets/colab-badge.svg\" alt=\"Open In Colab\"/></a>"
      ]
    },
    {
      "cell_type": "markdown",
      "source": [
        "#Count Set Bits In an Integer"
      ],
      "metadata": {
        "id": "o0Nil201NcdK"
      }
    },
    {
      "cell_type": "markdown",
      "source": [
        "https://www.geeksforgeeks.org/count-set-bits-in-an-integer/\n",
        "\n",
        "\n",
        "1.   Naive Simple --- O(log n)\n",
        "2.   Recursive   -------- O(log n)\n",
        "3.   using Lookup Table O(1) https://www.geeksforgeeks.org/count-set-bits-integer-using-lookup-table/\n",
        "4.   Brian Kernighan’s Algorithm O(log n)\n",
        "5.   Builtin --------------O(1)\n",
        "6.   Mapping with bits -O (log n)\n",
        "7.   checing each bit-- O(log n)\n",
        "8.   using power of 2 ---O(log n)\n",
        "\n",
        "\n",
        "\n"
      ],
      "metadata": {
        "id": "NL0bfvRdNWWP"
      }
    },
    {
      "cell_type": "markdown",
      "source": [
        "Simple Iterative O(log n)"
      ],
      "metadata": {
        "id": "HrWpjaYDRnJV"
      }
    },
    {
      "cell_type": "code",
      "execution_count": null,
      "metadata": {
        "id": "9NT-K69UM-Gw"
      },
      "outputs": [],
      "source": [
        "#simple Iterative\n",
        "def setBits(N):\n",
        "\t\t# code here\n",
        "\t\tc=0\n",
        "\t\twhile N:\n",
        "\t\t    c+=N & 1\n",
        "\t\t    N=N>>1\n",
        "\t\t    #print(N)\n",
        "\t\treturn c"
      ]
    },
    {
      "cell_type": "code",
      "source": [
        "print(setBits(10))"
      ],
      "metadata": {
        "colab": {
          "base_uri": "https://localhost:8080/"
        },
        "id": "KGGSBC53RtGS",
        "outputId": "9ecb3964-be61-4e5e-a1bf-59b5ff8e2f3f"
      },
      "execution_count": null,
      "outputs": [
        {
          "output_type": "stream",
          "name": "stdout",
          "text": [
            "2\n"
          ]
        }
      ]
    },
    {
      "cell_type": "markdown",
      "source": [
        "Recursive O(log n)"
      ],
      "metadata": {
        "id": "3RMVkYOsSZxm"
      }
    },
    {
      "cell_type": "code",
      "source": [
        "def RecursetBits(n):\n",
        "  if n==0:\n",
        "    return 0\n",
        "  return n&1 + RecursetBits(n>>1)"
      ],
      "metadata": {
        "id": "bQtaSQAjRwTm"
      },
      "execution_count": null,
      "outputs": []
    },
    {
      "cell_type": "code",
      "source": [
        "print(RecursetBits(10))"
      ],
      "metadata": {
        "colab": {
          "base_uri": "https://localhost:8080/"
        },
        "id": "JpqKSS9aSd9S",
        "outputId": "ced2cc2d-655b-4a38-a3fb-092ab3997818"
      },
      "execution_count": null,
      "outputs": [
        {
          "output_type": "stream",
          "name": "stdout",
          "text": [
            "2\n"
          ]
        }
      ]
    },
    {
      "cell_type": "markdown",
      "source": [
        "Look Up Table O(1)"
      ],
      "metadata": {
        "id": "qHvb1qA0SoHV"
      }
    },
    {
      "cell_type": "code",
      "source": [
        "def lookup():\n",
        "  bitarr[0]=0\n",
        "  for i in range(1,256):\n",
        "    bitarr[i]=bitarr[i>>1]+(i&1)\n",
        "\n",
        "def countbit(n):\n",
        "  return (bitarr[n & 255]+bitarr[n>>8 & 255]+bitarr[n>>16 & 255]+bitarr[n>>24 & 255])\n",
        "bitarr=[0]*256\n",
        "lookup()"
      ],
      "metadata": {
        "id": "_uMDldskSfeg"
      },
      "execution_count": null,
      "outputs": []
    },
    {
      "cell_type": "code",
      "source": [
        "print(countbit(9))"
      ],
      "metadata": {
        "colab": {
          "base_uri": "https://localhost:8080/"
        },
        "id": "GcvgD9Y6UOx3",
        "outputId": "266a7984-9e6a-4c7a-dac9-cc7feccb85fe"
      },
      "execution_count": null,
      "outputs": [
        {
          "output_type": "stream",
          "name": "stdout",
          "text": [
            "2\n"
          ]
        }
      ]
    },
    {
      "cell_type": "code",
      "source": [
        "#for 64 bit\n",
        "def lookup():\n",
        "    # Initialize bitarr[0] to 0\n",
        "    bitarr[0] = 0\n",
        "\n",
        "    # Fill the lookup table\n",
        "    for i in range(1, 256):\n",
        "        # bitarr[i] is the number of set bits in the binary representation of i\n",
        "        bitarr[i] = bitarr[i >> 1] + (i & 1)\n",
        "\n",
        "def countbit(n):\n",
        "    # Sum the bit counts of each 8-bit chunk of the 64-bit integer\n",
        "    return (bitarr[n & 255] +\n",
        "            bitarr[(n >> 8) & 255] +\n",
        "            bitarr[(n >> 16) & 255] +\n",
        "            bitarr[(n >> 24) & 255] +\n",
        "            bitarr[(n >> 32) & 255] +\n",
        "            bitarr[(n >> 40) & 255] +\n",
        "            bitarr[(n >> 48) & 255] +\n",
        "            bitarr[(n >> 56) & 255])\n",
        "\n",
        "# Initialize the lookup table\n",
        "bitarr = [0] * 256\n",
        "lookup()\n"
      ],
      "metadata": {
        "id": "wQOSkzhzUXM9"
      },
      "execution_count": null,
      "outputs": []
    },
    {
      "cell_type": "markdown",
      "source": [
        "Builtin  O(1)"
      ],
      "metadata": {
        "id": "jXCOucUMVbum"
      }
    },
    {
      "cell_type": "code",
      "source": [
        "print(bin(10).count('1'));\n",
        "print(bin(354).count('1'));"
      ],
      "metadata": {
        "colab": {
          "base_uri": "https://localhost:8080/"
        },
        "id": "sc6jMmiRVn1O",
        "outputId": "3cf2f7b5-c6b2-4c32-983b-7fc9b1428c78"
      },
      "execution_count": null,
      "outputs": [
        {
          "output_type": "stream",
          "name": "stdout",
          "text": [
            "2\n",
            "4\n"
          ]
        }
      ]
    },
    {
      "cell_type": "markdown",
      "source": [
        "Brian Kernighan’s  O(log n)"
      ],
      "metadata": {
        "id": "HkX9YGtXXBuJ"
      }
    },
    {
      "cell_type": "code",
      "source": [
        "def bksetbit(n):\n",
        "  c=0\n",
        "  while n:\n",
        "    n=n&(n-1)\n",
        "    c+=1\n",
        "  return c"
      ],
      "metadata": {
        "id": "-OWRThaaVbDK"
      },
      "execution_count": null,
      "outputs": []
    },
    {
      "cell_type": "code",
      "source": [
        "print(bksetbit(10))"
      ],
      "metadata": {
        "colab": {
          "base_uri": "https://localhost:8080/"
        },
        "id": "71WdA7QTXOIO",
        "outputId": "9deecb67-6420-42fb-b74f-869613948077"
      },
      "execution_count": null,
      "outputs": [
        {
          "output_type": "stream",
          "name": "stdout",
          "text": [
            "2\n"
          ]
        }
      ]
    },
    {
      "cell_type": "markdown",
      "source": [
        "# Count number of bits to be flipped to convert A to B\n",
        "\n",
        "Bit Difference"
      ],
      "metadata": {
        "id": "Hhm9HftFX6zd"
      }
    },
    {
      "cell_type": "code",
      "source": [
        "#O(K)\n",
        "def countBitsFlip(a,b):\n",
        "        c=0\n",
        "        n=a^b\n",
        "        while n:\n",
        "            c=c+1\n",
        "            n&=(n-1)\n",
        "        return c"
      ],
      "metadata": {
        "id": "yHzitHsTcdkA"
      },
      "execution_count": null,
      "outputs": []
    },
    {
      "cell_type": "code",
      "source": [
        "print(countBitsFlip(20,25))"
      ],
      "metadata": {
        "colab": {
          "base_uri": "https://localhost:8080/"
        },
        "id": "5Bd9883aciG_",
        "outputId": "3fa9598a-5c4a-47d6-86f9-f10f282ffd6e"
      },
      "execution_count": 29,
      "outputs": [
        {
          "output_type": "stream",
          "name": "stdout",
          "text": [
            "3\n"
          ]
        }
      ]
    },
    {
      "cell_type": "code",
      "source": [
        "def builtcountBitsFlip(a,b):\n",
        "  return bin(a^b).count('1')"
      ],
      "metadata": {
        "id": "iduK-eJecju2"
      },
      "execution_count": 30,
      "outputs": []
    },
    {
      "cell_type": "code",
      "source": [
        "print(builtcountBitsFlip(20,25))"
      ],
      "metadata": {
        "colab": {
          "base_uri": "https://localhost:8080/"
        },
        "id": "2oolFaPHc7wn",
        "outputId": "f1c3bb89-e344-498c-c9a9-63fbb891c8a3"
      },
      "execution_count": 31,
      "outputs": [
        {
          "output_type": "stream",
          "name": "stdout",
          "text": [
            "3\n"
          ]
        }
      ]
    },
    {
      "cell_type": "code",
      "source": [
        "#logn\n",
        "def binary(num):\n",
        "\tstr = \"\"\n",
        "\twhile num:\n",
        "\t\tif num & 1: # 1\n",
        "\t\t\tstr += '1'\n",
        "\t\telse: # 0\n",
        "\t\t\tstr += '0'\n",
        "\t\tnum >>= 1 # Right Shift by 1\n",
        "\treturn str[::-1]\n",
        "\n",
        "a = 10\n",
        "b = 20\n",
        "astr = binary(a)\n",
        "bstr = binary(b)\n",
        "\n",
        "# size of the binary strings.\n",
        "na, nb = len(astr), len(bstr)\n",
        "cnt = 0\n",
        "\n",
        "# difference between the size of the both a and b string\n",
        "diff = abs(na - nb)\n",
        "\n",
        "# if a size is greater then check it has 1 upto diff then cnt++\n",
        "if na > nb:\n",
        "\tfor i in range(diff):\n",
        "\t\tif astr[i] == '1':\n",
        "\t\t\tcnt += 1\n",
        "# do the same as above\n",
        "elif na < nb:\n",
        "\tfor i in range(diff):\n",
        "\t\tif bstr[i] == '1':\n",
        "\t\t\tcnt += 1\n",
        "\n",
        "na -= 1\n",
        "nb -= 1\n",
        "# check from the last if has not equal characters and cnt++\n",
        "while na >= 0 and nb >= 0:\n",
        "\tif astr[na] != bstr[nb]:\n",
        "\t\tcnt += 1\n",
        "\tna -= 1\n",
        "\tnb -= 1\n",
        "\n",
        "# print the cnt\n",
        "print(cnt)\n"
      ],
      "metadata": {
        "colab": {
          "base_uri": "https://localhost:8080/"
        },
        "id": "vUMkdGF2c97f",
        "outputId": "0ae988e9-da89-4edb-9671-03ba34085b45"
      },
      "execution_count": 32,
      "outputs": [
        {
          "output_type": "execute_result",
          "data": {
            "text/plain": [
              "5"
            ]
          },
          "metadata": {},
          "execution_count": 32
        }
      ]
    },
    {
      "cell_type": "code",
      "source": [
        "def count_differing_bits(a, b):\n",
        "    # XOR the two numbers to get a number with bits set to 1 where a and b differ\n",
        "    xor_result = a ^ b\n",
        "\n",
        "    # Convert the XOR result to a binary string and count the number of 1s\n",
        "    count = bin(xor_result).count('1')\n",
        "\n",
        "    return count\n",
        "\n",
        "a = 10\n",
        "b = 20\n",
        "\n",
        "# Calculate and print the number of differing bits\n",
        "diff_bits_count = count_differing_bits(a, b)\n",
        "print(diff_bits_count)\n"
      ],
      "metadata": {
        "id": "ijMXp7GudXw5"
      },
      "execution_count": null,
      "outputs": []
    }
  ]
}