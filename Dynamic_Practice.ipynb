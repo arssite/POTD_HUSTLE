{
  "nbformat": 4,
  "nbformat_minor": 0,
  "metadata": {
    "colab": {
      "provenance": [],
      "authorship_tag": "ABX9TyP8y/YJ5iSXCYuXas9CKvO5",
      "include_colab_link": true
    },
    "kernelspec": {
      "name": "python3",
      "display_name": "Python 3"
    },
    "language_info": {
      "name": "python"
    }
  },
  "cells": [
    {
      "cell_type": "markdown",
      "metadata": {
        "id": "view-in-github",
        "colab_type": "text"
      },
      "source": [
        "<a href=\"https://colab.research.google.com/github/arssite/POTD_HUSTLE/blob/main/Dynamic_Practice.ipynb\" target=\"_parent\"><img src=\"https://colab.research.google.com/assets/colab-badge.svg\" alt=\"Open In Colab\"/></a>"
      ]
    },
    {
      "cell_type": "markdown",
      "source": [
        "# Tabulation"
      ],
      "metadata": {
        "id": "JeoRsYIBWI-T"
      }
    },
    {
      "cell_type": "code",
      "execution_count": null,
      "metadata": {
        "id": "qwQ9r4cNSsGl"
      },
      "outputs": [],
      "source": [
        "def fib(x):\n",
        "  if x<=1: return x\n",
        "  #if x==0: return 0\n",
        "  elif x==1: return 1\n",
        "  else: return fib(x-1)+fib(x-2)"
      ]
    },
    {
      "cell_type": "code",
      "source": [
        "fib(5)"
      ],
      "metadata": {
        "colab": {
          "base_uri": "https://localhost:8080/"
        },
        "id": "oxYShjILS1NM",
        "outputId": "b33da842-3587-44eb-c3a3-dedfc5179151"
      },
      "execution_count": null,
      "outputs": [
        {
          "output_type": "execute_result",
          "data": {
            "text/plain": [
              "5"
            ]
          },
          "metadata": {},
          "execution_count": 11
        }
      ]
    },
    {
      "cell_type": "code",
      "source": [
        "def fact(x):\n",
        "  if x==0: return 1\n",
        "  else: return x*fact(x-1)"
      ],
      "metadata": {
        "id": "WBG-ZK3qS5tb"
      },
      "execution_count": null,
      "outputs": []
    },
    {
      "cell_type": "markdown",
      "source": [
        "Given a number N, print N!.\n",
        "\n",
        "Input Format\n",
        "\n",
        "First line of input contains T - number of test cases. Its followed by T lines, each containing a single number N.\n",
        "\n",
        "Constraints\n",
        "\n",
        "1 <= T <= 1000000\n",
        "0 <= N <= 1000000\n",
        "\n",
        "Output Format\n",
        "\n",
        "For each test case, print N!. Since the result can be very large, print N! % 1e9+7.\n",
        "\n",
        "Inputcopy\tOutputcopy\n",
        "3\n",
        "5\n",
        "20\n",
        "50\n",
        "120\n",
        "146326063\n",
        "318608048\n",
        "Explanation 0"
      ],
      "metadata": {
        "id": "-bm9jkK8hhVh"
      }
    },
    {
      "cell_type": "code",
      "source": [
        "m=int(1e9+7)\n",
        "f=[1]\n",
        "for i in range(1,1000001):\n",
        "  f.append((f[i-1]*i)%m)\n",
        "x=int(input())\n",
        "while(x):\n",
        "  n=int(input())\n",
        "  print(f[n])\n",
        "  x-=1"
      ],
      "metadata": {
        "id": "TPbOGDOoeapS"
      },
      "execution_count": null,
      "outputs": []
    },
    {
      "cell_type": "markdown",
      "source": [
        "Given two numbers X and Y, find the number whose binary representation has X 1's followed by Y 0's.\n",
        "\n",
        "Input Format\n",
        "\n",
        "First line of input contains T - number of test cases. Its followed by T lines. Each subsequent line contains two integers separated by a space: X - the number of the 1's and Y - the number of 0's which follows the X 1's in the binary representation of the number.\n",
        "\n",
        "Constraints\n",
        "\n",
        "10 points\n",
        "1 <= T <= 100\n",
        "0 <= X, Y <= 15\n",
        "\n",
        "40 points\n",
        "1 <= T <= 105\n",
        "0 <= X, Y <= 105\n",
        "\n",
        "Output Format\n",
        "\n",
        "For each test case, print the number whose binary representation has X 1's and Y 0's, separated by a new line.\n",
        "Since this number can be very large, print the result % 1000000007.\n",
        "\n",
        "Inputcopy\tOutputcopy\n",
        "3\n",
        "4 3\n",
        "2 5\n",
        "10 15\n",
        "120\n",
        "96\n",
        "33521664\n",
        "Explanation 0\n",
        "\n",
        "Test Case 1\n",
        "The binary representation of the number that has 4 ones followed by 3 zeros is 1111000 = 120."
      ],
      "metadata": {
        "id": "mdfKYGb2hjrZ"
      }
    },
    {
      "cell_type": "code",
      "source": [
        "m=int(1e9+7)\n",
        "#inp=int(input())\n",
        "lst=[1]\n",
        "for _ in range(1,200001):\n",
        "  lst.append((lst[-1]*2)%m)\n",
        "for _ in range(int(input())):\n",
        "#while(inp):\n",
        "  x,y=map(int,input().split())\n",
        "  print((lst[x]-1)*lst[y])%m)"
      ],
      "metadata": {
        "colab": {
          "base_uri": "https://localhost:8080/"
        },
        "id": "UIt8BCzyjEoe",
        "outputId": "865349a8-645f-4de1-c372-c90059487d05"
      },
      "execution_count": 24,
      "outputs": [
        {
          "output_type": "stream",
          "name": "stdout",
          "text": [
            "1\n",
            "2 1\n",
            "6\n"
          ]
        }
      ]
    },
    {
      "cell_type": "code",
      "source": [],
      "metadata": {
        "id": "GVt0vBTOjfqN"
      },
      "execution_count": null,
      "outputs": []
    },
    {
      "cell_type": "code",
      "source": [
        "\n",
        "class Solution:\n",
        "    def fib(self, n: int) -> int:\n",
        "        if n <= 1:\n",
        "            return n\n",
        "        a, b = 0, 1\n",
        "        for _ in range(2, n + 1):\n",
        "            a, b = b, a + b\n",
        "        return b\n",
        "\n",
        "# Example usage\n",
        "solution = Solution()\n",
        "param_1 = 10\n",
        "print(solution.fib(param_1))\n",
        "fact(5)"
      ],
      "metadata": {
        "colab": {
          "base_uri": "https://localhost:8080/"
        },
        "id": "oAPuj79ZWmIA",
        "outputId": "302cfcc6-f56b-4573-cb0a-cfe553eb2026"
      },
      "execution_count": null,
      "outputs": [
        {
          "output_type": "stream",
          "name": "stdout",
          "text": [
            "55\n"
          ]
        },
        {
          "output_type": "execute_result",
          "data": {
            "text/plain": [
              "120"
            ]
          },
          "metadata": {},
          "execution_count": 13
        }
      ]
    },
    {
      "cell_type": "markdown",
      "source": [
        "# Memorization"
      ],
      "metadata": {
        "id": "YiBZUDgRaORk"
      }
    },
    {
      "cell_type": "code",
      "source": [
        "class Solution:\n",
        "    def __init__(self):\n",
        "        self.memo = {}\n",
        "\n",
        "    def fib(self, n: int) -> int:\n",
        "        if n in self.memo:\n",
        "            return self.memo[n]\n",
        "        if n <= 1:\n",
        "            return n\n",
        "        self.memo[n] = self.fib(n-1) + self.fib(n-2)\n",
        "        return self.memo[n]\n",
        "\n",
        "# Example usage\n",
        "solution = Solution()\n",
        "param_1 = 10\n",
        "print(solution.fib(param_1))\n"
      ],
      "metadata": {
        "colab": {
          "base_uri": "https://localhost:8080/"
        },
        "id": "J7go0lbhWsqw",
        "outputId": "01bfde68-79fc-490e-8d34-c29916771f53"
      },
      "execution_count": null,
      "outputs": [
        {
          "output_type": "stream",
          "name": "stdout",
          "text": [
            "55\n"
          ]
        }
      ]
    },
    {
      "cell_type": "code",
      "source": [],
      "metadata": {
        "id": "iG4vrgzqaS9i"
      },
      "execution_count": null,
      "outputs": []
    }
  ]
}